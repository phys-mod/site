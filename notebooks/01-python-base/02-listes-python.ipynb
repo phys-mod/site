{
 "cells": [
  {
   "cell_type": "markdown",
   "metadata": {},
   "source": [
    "# Les listes Python"
   ]
  },
  {
   "cell_type": "markdown",
   "metadata": {},
   "source": [
    "## Créer une liste\n",
    "Une *liste* est une séquence de valeurs, comme une chaîne. Dans une chaîne, ces valeurs sont des caractères. Dans une liste, les valeurs peuvent être de n'importe quel type.\n",
    "\n",
    "Les valeurs dans une liste sont appelées *éléments*.\n",
    "\n",
    "Le plus simple pour créer une liste est d'entourer les éléments par des crochets `[` et `]`. Voici une liste, nommée `ma_liste`, qui contient des valeurs des trois types que l'on a introduits dans l'activité \"Première prise en main de Python\". Saurez-vous les reconnaître ?"
   ]
  },
  {
   "cell_type": "code",
   "execution_count": 1,
   "metadata": {
    "execution": {
     "iopub.execute_input": "2021-03-29T22:15:29.849865Z",
     "iopub.status.busy": "2021-03-29T22:15:29.848971Z",
     "iopub.status.idle": "2021-03-29T22:15:29.859441Z",
     "shell.execute_reply": "2021-03-29T22:15:29.859004Z"
    },
    "tags": []
   },
   "outputs": [
    {
     "name": "stdout",
     "output_type": "stream",
     "text": [
      "[1, 2, 3.0, 'a']\n"
     ]
    }
   ],
   "source": [
    "# création de la liste\n",
    "ma_liste = [1, 2, 3.0, \"a\"]\n",
    "\n",
    "# affichage de la liste\n",
    "print(ma_liste)"
   ]
  },
  {
   "cell_type": "markdown",
   "metadata": {},
   "source": [
    "### Exercice\n",
    "1. Créer trois variables nommées `plante1`, `plante2` et `plante3`, contenant respectivement les valeurs `\"gentiane\"`, `\"campanule\"` et `\"pensée\"`.\n",
    "2. Créer une liste nommée `plantes`, à partir des noms des 3 variables créées en 1, qui contient les noms des trois plantes.\n",
    "3. Vous possédez ces trois plantes chez vous, et vous voulez suivre leur croissance. Créez une nouvelle liste nommée `taille_plante` qui contient le nom des trois plantes, et juste après le nom de chaque plante, sa taille (valeur de type *float*). La gentiane fait 7.5 cm, la campanule 5.8 cm et la pensée 11.4 cm.\n",
    "4. Afficher le contenu des 2 listes à l'écran avec la fonction `print()`"
   ]
  },
  {
   "cell_type": "code",
   "execution_count": 2,
   "metadata": {
    "execution": {
     "iopub.execute_input": "2021-03-29T22:15:29.866033Z",
     "iopub.status.busy": "2021-03-29T22:15:29.864424Z",
     "iopub.status.idle": "2021-03-29T22:15:29.867754Z",
     "shell.execute_reply": "2021-03-29T22:15:29.867317Z"
    },
    "tags": [
     "solution"
    ]
   },
   "outputs": [
    {
     "name": "stdout",
     "output_type": "stream",
     "text": [
      "['gentiane', 'campanule', 'pensée']\n",
      "['gentiane', 7.5, 'campanule', 5.8, 'pensée', 11.4]\n"
     ]
    }
   ],
   "source": [
    "# création des variables\n",
    "plante1 = \"gentiane\"\n",
    "plante2 = \"campanule\"\n",
    "plante3 = \"pensée\"\n",
    "\n",
    "# création de la liste plantes\n",
    "plantes = [plante1, plante2, plante3]\n",
    "\n",
    "# création de la liste taille_plantes\n",
    "taille_plantes = [plante1, 7.5, plante2, 5.8, plante3, 11.4]\n",
    "\n",
    "# affichage des deux listes\n",
    "print(plantes)\n",
    "print(taille_plantes)"
   ]
  },
  {
   "cell_type": "markdown",
   "metadata": {},
   "source": [
    "## Liste de listes"
   ]
  },
  {
   "cell_type": "markdown",
   "metadata": {},
   "source": [
    "Une liste peut contenir une autre liste. On dit alors que la liste est *imbriquée*. Dans l'exemple suivant, on crée une liste de trois listes imbriquées :"
   ]
  },
  {
   "cell_type": "code",
   "execution_count": 3,
   "metadata": {
    "execution": {
     "iopub.execute_input": "2021-03-29T22:15:29.872682Z",
     "iopub.status.busy": "2021-03-29T22:15:29.871227Z",
     "iopub.status.idle": "2021-03-29T22:15:29.873404Z",
     "shell.execute_reply": "2021-03-29T22:15:29.873826Z"
    }
   },
   "outputs": [],
   "source": [
    "taille_plantes = [[plante1, 7.5], \n",
    "                  [plante2, 5.8],\n",
    "                  [plante3, 11.4]]"
   ]
  },
  {
   "cell_type": "markdown",
   "metadata": {},
   "source": [
    "### Exercice\n",
    "1. Afficher le contenu de la liste `taille_plante` à l'écran.\n",
    "2. Afficher le type de la liste avec la fonction `type()`."
   ]
  },
  {
   "cell_type": "code",
   "execution_count": 4,
   "metadata": {
    "execution": {
     "iopub.execute_input": "2021-03-29T22:15:29.879264Z",
     "iopub.status.busy": "2021-03-29T22:15:29.877753Z",
     "iopub.status.idle": "2021-03-29T22:15:29.880989Z",
     "shell.execute_reply": "2021-03-29T22:15:29.880548Z"
    },
    "tags": [
     "solution"
    ]
   },
   "outputs": [
    {
     "name": "stdout",
     "output_type": "stream",
     "text": [
      "[['gentiane', 7.5], ['campanule', 5.8], ['pensée', 11.4]]\n",
      "<class 'list'>\n"
     ]
    }
   ],
   "source": [
    "# affichage de la liste taille_plantes\n",
    "print(taille_plantes)\n",
    "\n",
    "# affichage du type de la liste\n",
    "print(type(taille_plantes))"
   ]
  },
  {
   "cell_type": "markdown",
   "metadata": {},
   "source": [
    "<div class=\"alert alert-info\">\n",
    "\n",
    "**Classe et type**\n",
    "\n",
    "On retrouve ici le mot *class*, que l'on peut traduire par classe. Dans Python 3 les concepts de classe et de type sont équivalents. \n",
    "</div>"
   ]
  },
  {
   "cell_type": "markdown",
   "metadata": {},
   "source": [
    "## Modifier une liste"
   ]
  },
  {
   "cell_type": "markdown",
   "metadata": {},
   "source": [
    "On peut accéder à un élément de la liste en utilisant l'opérateur `[]` d'indexation :"
   ]
  },
  {
   "cell_type": "code",
   "execution_count": 5,
   "metadata": {
    "execution": {
     "iopub.execute_input": "2021-03-29T22:15:29.886372Z",
     "iopub.status.busy": "2021-03-29T22:15:29.884896Z",
     "iopub.status.idle": "2021-03-29T22:15:29.888157Z",
     "shell.execute_reply": "2021-03-29T22:15:29.887711Z"
    },
    "tags": []
   },
   "outputs": [
    {
     "name": "stdout",
     "output_type": "stream",
     "text": [
      "gentiane\n"
     ]
    }
   ],
   "source": [
    "# accès à un élément de la liste\n",
    "plante_choisie = plantes[0]\n",
    "\n",
    "# affichage de la plante choisie\n",
    "print(plante_choisie)"
   ]
  },
  {
   "cell_type": "markdown",
   "metadata": {},
   "source": [
    "La première instruction sélectionne l'élément numéroté par 0 de la liste `plantes` et l'affecte à la variable `plante_choisie`. L'expression entre crochets s'appelle un *indice*."
   ]
  },
  {
   "cell_type": "markdown",
   "metadata": {},
   "source": [
    "<div class=\"alert alert-warning\">\n",
    "\n",
    "**Attention**\n",
    "\n",
    "Le premier élément de la liste est numéroté avec l'entier `0`, le deuxième élement avec l'entier `1`, et ainsi de suite.\n",
    "</div>"
   ]
  },
  {
   "cell_type": "markdown",
   "metadata": {},
   "source": [
    "Les listes sont *modifiables*. Lorsque l'opérateur d'indexation apparaît du côté gauche de l'affectation, il indique l'élément de la liste auquel la valeur sera affectée :"
   ]
  },
  {
   "cell_type": "code",
   "execution_count": 6,
   "metadata": {
    "execution": {
     "iopub.execute_input": "2021-03-29T22:15:29.893686Z",
     "iopub.status.busy": "2021-03-29T22:15:29.892188Z",
     "iopub.status.idle": "2021-03-29T22:15:29.895411Z",
     "shell.execute_reply": "2021-03-29T22:15:29.894981Z"
    },
    "tags": []
   },
   "outputs": [
    {
     "name": "stdout",
     "output_type": "stream",
     "text": [
      "['gentiane', 'digitale', 'pensée']\n"
     ]
    }
   ],
   "source": [
    "# création de la liste\n",
    "plantes = [\"gentiane\", \"campanule\", \"pensée\"]\n",
    "\n",
    "# modification d'un élément de la liste\n",
    "plantes[1] = \"digitale\"\n",
    "\n",
    "# affichage de la liste\n",
    "print(plantes)"
   ]
  },
  {
   "cell_type": "markdown",
   "metadata": {},
   "source": [
    "Le deuxième élément de la liste (indice 1), qui avait la valeur `\"campanule\"`, a maintenant la valeur `\"digitale\"`.\n",
    "\n",
    "Voici quelques règles d'indexation:\n",
    "\n",
    "- toute expression entière peut être utilisée comme indice\n",
    "- si un indice a une valeur négative, il compte en sens inverse, à partir de la fin de la liste\n",
    "- si vous essayez de lire ou d'écrire un élément qui n'existe pas, vous obtenez une erreur\n",
    "\n",
    "Voici une illustration des ces trois règles :"
   ]
  },
  {
   "cell_type": "code",
   "execution_count": 7,
   "metadata": {
    "execution": {
     "iopub.execute_input": "2021-03-29T22:15:29.899161Z",
     "iopub.status.busy": "2021-03-29T22:15:29.898569Z",
     "iopub.status.idle": "2021-03-29T22:15:29.901081Z",
     "shell.execute_reply": "2021-03-29T22:15:29.901515Z"
    },
    "tags": []
   },
   "outputs": [
    {
     "name": "stdout",
     "output_type": "stream",
     "text": [
      "pensée\n"
     ]
    }
   ],
   "source": [
    "# accés à un élement de liste avec une expression\n",
    "i = 1\n",
    "print(plantes[i + 1])"
   ]
  },
  {
   "cell_type": "code",
   "execution_count": 8,
   "metadata": {
    "execution": {
     "iopub.execute_input": "2021-03-29T22:15:29.905328Z",
     "iopub.status.busy": "2021-03-29T22:15:29.904698Z",
     "iopub.status.idle": "2021-03-29T22:15:29.907037Z",
     "shell.execute_reply": "2021-03-29T22:15:29.907450Z"
    },
    "tags": []
   },
   "outputs": [
    {
     "name": "stdout",
     "output_type": "stream",
     "text": [
      "digitale\n"
     ]
    }
   ],
   "source": [
    "# accès à un élément de liste depuis la fin\n",
    "print(plantes[-2])"
   ]
  },
  {
   "cell_type": "code",
   "execution_count": 9,
   "metadata": {
    "execution": {
     "iopub.execute_input": "2021-03-29T22:15:29.911682Z",
     "iopub.status.busy": "2021-03-29T22:15:29.910860Z",
     "iopub.status.idle": "2021-03-29T22:15:29.960129Z",
     "shell.execute_reply": "2021-03-29T22:15:29.960554Z"
    }
   },
   "outputs": [
    {
     "ename": "IndexError",
     "evalue": "list index out of range",
     "output_type": "error",
     "traceback": [
      "\u001b[0;31m---------------------------------------------------------------------------\u001b[0m",
      "\u001b[0;31mIndexError\u001b[0m                                Traceback (most recent call last)",
      "\u001b[0;32m<ipython-input-1-a72471f28c07>\u001b[0m in \u001b[0;36m<module>\u001b[0;34m\u001b[0m\n\u001b[1;32m      1\u001b[0m \u001b[0;31m# accès à un élément de liste qui n'existe pas : message d'erreur\u001b[0m\u001b[0;34m\u001b[0m\u001b[0;34m\u001b[0m\u001b[0;34m\u001b[0m\u001b[0m\n\u001b[0;32m----> 2\u001b[0;31m \u001b[0mprint\u001b[0m\u001b[0;34m(\u001b[0m\u001b[0mplantes\u001b[0m\u001b[0;34m[\u001b[0m\u001b[0;36m3\u001b[0m\u001b[0;34m]\u001b[0m\u001b[0;34m)\u001b[0m\u001b[0;34m\u001b[0m\u001b[0;34m\u001b[0m\u001b[0m\n\u001b[0m",
      "\u001b[0;31mIndexError\u001b[0m: list index out of range"
     ]
    }
   ],
   "source": [
    "# accès à un élément de liste qui n'existe pas : message d'erreur\n",
    "print(plantes[3])"
   ]
  },
  {
   "cell_type": "markdown",
   "metadata": {},
   "source": [
    "## Opérations sur listes"
   ]
  },
  {
   "cell_type": "markdown",
   "metadata": {},
   "source": [
    "L'opérateur `+` concatène 2 listes, alors que l'opérateur `*` répète une liste un certain nombre de fois :"
   ]
  },
  {
   "cell_type": "code",
   "execution_count": 10,
   "metadata": {
    "execution": {
     "iopub.execute_input": "2021-03-29T22:15:29.966986Z",
     "iopub.status.busy": "2021-03-29T22:15:29.965162Z",
     "iopub.status.idle": "2021-03-29T22:15:29.968881Z",
     "shell.execute_reply": "2021-03-29T22:15:29.968374Z"
    },
    "tags": []
   },
   "outputs": [
    {
     "name": "stdout",
     "output_type": "stream",
     "text": [
      "['gentiane', 'campanule', 'pensée', 'marguerite', 'oseille']\n"
     ]
    }
   ],
   "source": [
    "# création de la liste\n",
    "plantes = [\"gentiane\", \"campanule\", \"pensée\"]\n",
    "\n",
    "# concaténation\n",
    "plantes2 = plantes + [\"marguerite\", \"oseille\"]\n",
    "\n",
    "# affichage de la liste\n",
    "print(plantes2)"
   ]
  },
  {
   "cell_type": "code",
   "execution_count": 11,
   "metadata": {
    "execution": {
     "iopub.execute_input": "2021-03-29T22:15:29.976080Z",
     "iopub.status.busy": "2021-03-29T22:15:29.972753Z",
     "iopub.status.idle": "2021-03-29T22:15:29.977777Z",
     "shell.execute_reply": "2021-03-29T22:15:29.976588Z"
    },
    "tags": []
   },
   "outputs": [
    {
     "name": "stdout",
     "output_type": "stream",
     "text": [
      "['gentiane', 'campanule', 'pensée', 'gentiane', 'campanule', 'pensée']\n"
     ]
    }
   ],
   "source": [
    "# répétition de la liste\n",
    "print(plantes * 2)"
   ]
  },
  {
   "cell_type": "markdown",
   "metadata": {},
   "source": [
    "On peut aussi effectuer des calculs en utilisant directement des élements de la liste. Par exemple :"
   ]
  },
  {
   "cell_type": "code",
   "execution_count": 12,
   "metadata": {
    "execution": {
     "iopub.execute_input": "2021-03-29T22:15:29.984165Z",
     "iopub.status.busy": "2021-03-29T22:15:29.982381Z",
     "iopub.status.idle": "2021-03-29T22:15:29.985978Z",
     "shell.execute_reply": "2021-03-29T22:15:29.985503Z"
    },
    "tags": []
   },
   "outputs": [
    {
     "name": "stdout",
     "output_type": "stream",
     "text": [
      "24.700000000000003\n"
     ]
    }
   ],
   "source": [
    "# création de la liste\n",
    "taille_plantes = [\"gentiane\", 7.5, \"campanule\", 5.8, \"pensée\", 11.4]\n",
    "\n",
    "# calcul de la taille totale\n",
    "taille_totale = taille_plantes[1] + taille_plantes[3] + taille_plantes[5]\n",
    "\n",
    "# affichage du résultat\n",
    "print(taille_totale)"
   ]
  },
  {
   "cell_type": "markdown",
   "metadata": {},
   "source": [
    "### Exercice\n",
    "1. Après une semaine, vos plantes ont poussé. Modifier la liste `taille_plantes` avec les tailles 8.3 cm, 6.4 cm et 13.2 cm pour respectivement les plantes gentiane, campanule et pensée.\n",
    "2. Afficher la liste avec `print()`"
   ]
  },
  {
   "cell_type": "code",
   "execution_count": 13,
   "metadata": {
    "execution": {
     "iopub.execute_input": "2021-03-29T22:15:29.992071Z",
     "iopub.status.busy": "2021-03-29T22:15:29.990396Z",
     "iopub.status.idle": "2021-03-29T22:15:29.993934Z",
     "shell.execute_reply": "2021-03-29T22:15:29.993458Z"
    },
    "tags": [
     "solution"
    ]
   },
   "outputs": [
    {
     "name": "stdout",
     "output_type": "stream",
     "text": [
      "['gentiane', 8.3, 'campanule', 6.4, 'pensée', 13.2]\n"
     ]
    }
   ],
   "source": [
    "# modification des éléments de la liste\n",
    "taille_plantes[1] = 8.3\n",
    "taille_plantes[3] = 6.4\n",
    "taille_plantes[5] = 13.2\n",
    "\n",
    "# affichage de la liste\n",
    "print(taille_plantes)"
   ]
  },
  {
   "cell_type": "markdown",
   "metadata": {},
   "source": [
    "## Tranches de liste"
   ]
  },
  {
   "cell_type": "markdown",
   "metadata": {},
   "source": [
    "Il est possible de sélectionner plusieurs éléments d'une liste en utilisant l'opérateur *tranche* `[m:n]`, où `m` et `n` sont des expression entières. L'opérateur de tranche inclut l'élément de départ, mais **exclut l'élément de fin de la tranche**. Ainsi, l'opérateur `[0:2]` revient à sélectionner les élements d'indice `0` et `1`. Par exemple :"
   ]
  },
  {
   "cell_type": "code",
   "execution_count": 14,
   "metadata": {
    "execution": {
     "iopub.execute_input": "2021-03-29T22:15:29.999895Z",
     "iopub.status.busy": "2021-03-29T22:15:29.998235Z",
     "iopub.status.idle": "2021-03-29T22:15:30.001678Z",
     "shell.execute_reply": "2021-03-29T22:15:30.001210Z"
    },
    "tags": []
   },
   "outputs": [
    {
     "name": "stdout",
     "output_type": "stream",
     "text": [
      "['gentiane', 'campanule']\n"
     ]
    }
   ],
   "source": [
    "# création de la liste\n",
    "plantes = [\"gentiane\", \"campanule\", \"pensée\"]\n",
    "\n",
    "# affichage d'une tranche de liste : l'élément de fin de tranche EST EXCLUT\n",
    "print(plantes[0:2])"
   ]
  },
  {
   "cell_type": "markdown",
   "metadata": {},
   "source": [
    "Si vous omettez le premier indice, la tranche commence au début de la liste. Si vous omettez le second indice, la tranche s'étend jusqu'à la  fin de la liste. Si vous omettez les deux indices, la liste entière est sélectionnée :"
   ]
  },
  {
   "cell_type": "code",
   "execution_count": 15,
   "metadata": {
    "execution": {
     "iopub.execute_input": "2021-03-29T22:15:30.007194Z",
     "iopub.status.busy": "2021-03-29T22:15:30.005541Z",
     "iopub.status.idle": "2021-03-29T22:15:30.009002Z",
     "shell.execute_reply": "2021-03-29T22:15:30.008537Z"
    },
    "tags": []
   },
   "outputs": [
    {
     "name": "stdout",
     "output_type": "stream",
     "text": [
      "['gentiane', 'campanule']\n"
     ]
    }
   ],
   "source": [
    "# omission du 1er indice : commence à l'élément 0\n",
    "print(plantes[:2])"
   ]
  },
  {
   "cell_type": "code",
   "execution_count": 16,
   "metadata": {
    "execution": {
     "iopub.execute_input": "2021-03-29T22:15:30.014524Z",
     "iopub.status.busy": "2021-03-29T22:15:30.012884Z",
     "iopub.status.idle": "2021-03-29T22:15:30.016372Z",
     "shell.execute_reply": "2021-03-29T22:15:30.015916Z"
    },
    "tags": []
   },
   "outputs": [
    {
     "name": "stdout",
     "output_type": "stream",
     "text": [
      "['campanule', 'pensée']\n"
     ]
    }
   ],
   "source": [
    "# omission du dernier indice : va jusqu'à la fin de la liste\n",
    "print(plantes[1:])"
   ]
  },
  {
   "cell_type": "code",
   "execution_count": 17,
   "metadata": {
    "execution": {
     "iopub.execute_input": "2021-03-29T22:15:30.021795Z",
     "iopub.status.busy": "2021-03-29T22:15:30.020168Z",
     "iopub.status.idle": "2021-03-29T22:15:30.023648Z",
     "shell.execute_reply": "2021-03-29T22:15:30.023206Z"
    },
    "tags": []
   },
   "outputs": [
    {
     "name": "stdout",
     "output_type": "stream",
     "text": [
      "['gentiane', 'campanule', 'pensée']\n"
     ]
    }
   ],
   "source": [
    "# omission de 2 indices : tous les éléments de la liste\n",
    "print(plantes[:])"
   ]
  },
  {
   "cell_type": "markdown",
   "metadata": {},
   "source": [
    "Il est possible de modifier plusieurs éléments en même temps en utilisant l'opérateur tranche à gauche de l'opérateur affection. Il faut alors mettre à droite de l'opérateur affectation **une liste de longueur quelconque qui va remplacer la tranche sélectionnée**. Par exemple :"
   ]
  },
  {
   "cell_type": "code",
   "execution_count": 18,
   "metadata": {
    "execution": {
     "iopub.execute_input": "2021-03-29T22:15:30.029828Z",
     "iopub.status.busy": "2021-03-29T22:15:30.028117Z",
     "iopub.status.idle": "2021-03-29T22:15:30.031620Z",
     "shell.execute_reply": "2021-03-29T22:15:30.031165Z"
    },
    "tags": []
   },
   "outputs": [
    {
     "name": "stdout",
     "output_type": "stream",
     "text": [
      "['marguerite', 'oseille', 'saxifrage', 'pensée']\n"
     ]
    }
   ],
   "source": [
    "# création de la liste\n",
    "plantes = [\"gentiane\", \"campanule\", \"pensée\"]\n",
    "\n",
    "# modification d'une tranche\n",
    "plantes[0:2] = [\"marguerite\", \"oseille\", \"saxifrage\"]\n",
    "\n",
    "# affichage de la liste\n",
    "print(plantes)"
   ]
  },
  {
   "cell_type": "markdown",
   "metadata": {},
   "source": [
    "On a remplacé les deux premiers éléments de la liste par une liste de trois éléments. La taille de la liste a donc changé."
   ]
  },
  {
   "cell_type": "markdown",
   "metadata": {},
   "source": [
    "### Exercice"
   ]
  },
  {
   "cell_type": "code",
   "execution_count": 19,
   "metadata": {
    "execution": {
     "iopub.execute_input": "2021-03-29T22:15:30.036693Z",
     "iopub.status.busy": "2021-03-29T22:15:30.035046Z",
     "iopub.status.idle": "2021-03-29T22:15:30.037416Z",
     "shell.execute_reply": "2021-03-29T22:15:30.037859Z"
    }
   },
   "outputs": [],
   "source": [
    "# création de la liste\n",
    "plantes = [\"gentiane\", \"campanule\", \"pensée\", \"marguerite\", \"oseille\"]"
   ]
  },
  {
   "cell_type": "markdown",
   "metadata": {},
   "source": [
    "1. Dans la liste `plantes` créée ci-dessus, remplacer les chaînes `\"campanule\"` et `\"pensée\"` par les chaînes `\"saxifrage\"`, `\"primevère\"` et `\"orchis\"` à l'aide de l'opérateur tranche.\n",
    "2. Afficher la liste avec `print()` pour verifier votre résultat."
   ]
  },
  {
   "cell_type": "code",
   "execution_count": 20,
   "metadata": {
    "execution": {
     "iopub.execute_input": "2021-03-29T22:15:30.042715Z",
     "iopub.status.busy": "2021-03-29T22:15:30.041867Z",
     "iopub.status.idle": "2021-03-29T22:15:30.044407Z",
     "shell.execute_reply": "2021-03-29T22:15:30.044829Z"
    },
    "tags": [
     "solution"
    ]
   },
   "outputs": [
    {
     "name": "stdout",
     "output_type": "stream",
     "text": [
      "['gentiane', 'saxifrage', 'primevère', 'orchis', 'marguerite', 'oseille']\n"
     ]
    }
   ],
   "source": [
    "# remplacer les éléments de la liste\n",
    "plantes[1:3] = [\"saxifrage\", \"primevère\", \"orchis\"]\n",
    "\n",
    "# afficher la liste\n",
    "print(plantes)"
   ]
  },
  {
   "cell_type": "markdown",
   "metadata": {},
   "source": [
    "## Indexation et tranche de liste de listes"
   ]
  },
  {
   "cell_type": "markdown",
   "metadata": {},
   "source": [
    "On a vu qu'une liste peut contenir d'autres listes (listes imbriquées). Il est possible d'utiliser l'opérateur d'indexation sur les listes de listes. Par exemple:"
   ]
  },
  {
   "cell_type": "code",
   "execution_count": 21,
   "metadata": {
    "execution": {
     "iopub.execute_input": "2021-03-29T22:15:30.049197Z",
     "iopub.status.busy": "2021-03-29T22:15:30.048354Z",
     "iopub.status.idle": "2021-03-29T22:15:30.051460Z",
     "shell.execute_reply": "2021-03-29T22:15:30.050920Z"
    }
   },
   "outputs": [],
   "source": [
    "# création de la liste\n",
    "taille_plantes = [[\"gentiane\",   7.5], \n",
    "                  [\"campanule\",  5.8],\n",
    "                  [\"pensée\",     11.4]]"
   ]
  },
  {
   "cell_type": "code",
   "execution_count": 22,
   "metadata": {
    "execution": {
     "iopub.execute_input": "2021-03-29T22:15:30.055574Z",
     "iopub.status.busy": "2021-03-29T22:15:30.054903Z",
     "iopub.status.idle": "2021-03-29T22:15:30.057470Z",
     "shell.execute_reply": "2021-03-29T22:15:30.057904Z"
    },
    "tags": []
   },
   "outputs": [
    {
     "name": "stdout",
     "output_type": "stream",
     "text": [
      "['campanule', 5.8]\n"
     ]
    }
   ],
   "source": [
    "# sélection d'une liste imbriquée\n",
    "print(taille_plantes[1])"
   ]
  },
  {
   "cell_type": "code",
   "execution_count": 23,
   "metadata": {
    "execution": {
     "iopub.execute_input": "2021-03-29T22:15:30.062002Z",
     "iopub.status.busy": "2021-03-29T22:15:30.061343Z",
     "iopub.status.idle": "2021-03-29T22:15:30.063883Z",
     "shell.execute_reply": "2021-03-29T22:15:30.064317Z"
    },
    "tags": []
   },
   "outputs": [
    {
     "name": "stdout",
     "output_type": "stream",
     "text": [
      "campanule\n"
     ]
    }
   ],
   "source": [
    "# sélection d'un élement dans la liste imbriquée\n",
    "print(taille_plantes[1][0])"
   ]
  },
  {
   "cell_type": "markdown",
   "metadata": {},
   "source": [
    "Le premier opérateur sélectionne la liste (dans l'exemple la liste d'indice 1), et le deuxième opérateur sélectionne l'élément dans la liste sélectionnée (dans l'exemple celui d'indice 0).\n",
    "\n",
    "On peut aussi utiliser l'opérateur tranche :"
   ]
  },
  {
   "cell_type": "code",
   "execution_count": 24,
   "metadata": {
    "execution": {
     "iopub.execute_input": "2021-03-29T22:15:30.068460Z",
     "iopub.status.busy": "2021-03-29T22:15:30.067791Z",
     "iopub.status.idle": "2021-03-29T22:15:30.070321Z",
     "shell.execute_reply": "2021-03-29T22:15:30.070748Z"
    },
    "tags": []
   },
   "outputs": [
    {
     "name": "stdout",
     "output_type": "stream",
     "text": [
      "[['campanule', 5.8], ['pensée', 11.4]]\n"
     ]
    }
   ],
   "source": [
    "# sélection d'une tranche de listes imbriquées\n",
    "print(taille_plantes[1:3])"
   ]
  },
  {
   "cell_type": "code",
   "execution_count": 25,
   "metadata": {
    "execution": {
     "iopub.execute_input": "2021-03-29T22:15:30.074590Z",
     "iopub.status.busy": "2021-03-29T22:15:30.074060Z",
     "iopub.status.idle": "2021-03-29T22:15:30.078716Z",
     "shell.execute_reply": "2021-03-29T22:15:30.078298Z"
    },
    "tags": []
   },
   "outputs": [
    {
     "name": "stdout",
     "output_type": "stream",
     "text": [
      "['campanule']\n"
     ]
    }
   ],
   "source": [
    "# sélection d'une tranche de la liste imbriquée\n",
    "print(taille_plantes[1][0:1])"
   ]
  },
  {
   "cell_type": "markdown",
   "metadata": {},
   "source": [
    "La première instruction sélectionne les listes d'indices 1 et 2 et retourne une liste de listes. La deuxième instruction sélectionne l'élément d'indice 0 dans la liste d'indice 1."
   ]
  },
  {
   "cell_type": "markdown",
   "metadata": {},
   "source": [
    "### Exercice\n",
    "Quelle est la difference entre les instructions `taille_plantes[1][0]` et `taille_plantes[1][0:1]` ? Vous pouvez utiliser l'opérateur `type()` pour vérifier cette différence."
   ]
  },
  {
   "cell_type": "code",
   "execution_count": 26,
   "metadata": {
    "execution": {
     "iopub.execute_input": "2021-03-29T22:15:30.082738Z",
     "iopub.status.busy": "2021-03-29T22:15:30.082184Z",
     "iopub.status.idle": "2021-03-29T22:15:30.086844Z",
     "shell.execute_reply": "2021-03-29T22:15:30.086414Z"
    },
    "tags": [
     "solution"
    ]
   },
   "outputs": [
    {
     "name": "stdout",
     "output_type": "stream",
     "text": [
      "<class 'str'>\n"
     ]
    }
   ],
   "source": [
    "print(type(taille_plantes[1][0]))"
   ]
  },
  {
   "cell_type": "code",
   "execution_count": 27,
   "metadata": {
    "execution": {
     "iopub.execute_input": "2021-03-29T22:15:30.091091Z",
     "iopub.status.busy": "2021-03-29T22:15:30.090399Z",
     "iopub.status.idle": "2021-03-29T22:15:30.093593Z",
     "shell.execute_reply": "2021-03-29T22:15:30.093046Z"
    },
    "tags": [
     "solution"
    ]
   },
   "outputs": [
    {
     "name": "stdout",
     "output_type": "stream",
     "text": [
      "<class 'list'>\n"
     ]
    }
   ],
   "source": [
    "print(type(taille_plantes[1][0:1]))"
   ]
  },
  {
   "cell_type": "markdown",
   "metadata": {},
   "source": [
    "## Supprimer un élément"
   ]
  },
  {
   "cell_type": "markdown",
   "metadata": {},
   "source": [
    "Il existe deux possibilités pour supprimer un élément d'une liste : en utilisant l'instruction `del()` ou bien en insérant une liste vide `[]`. Par exemple :"
   ]
  },
  {
   "cell_type": "code",
   "execution_count": 28,
   "metadata": {
    "execution": {
     "iopub.execute_input": "2021-03-29T22:15:30.097858Z",
     "iopub.status.busy": "2021-03-29T22:15:30.096954Z",
     "iopub.status.idle": "2021-03-29T22:15:30.099149Z",
     "shell.execute_reply": "2021-03-29T22:15:30.099554Z"
    }
   },
   "outputs": [],
   "source": [
    "plantes = [\"gentiane\", \"campanule\", \"pensée\", \"marguerite\", \"oseille\"]"
   ]
  },
  {
   "cell_type": "code",
   "execution_count": 29,
   "metadata": {
    "execution": {
     "iopub.execute_input": "2021-03-29T22:15:30.103570Z",
     "iopub.status.busy": "2021-03-29T22:15:30.103060Z",
     "iopub.status.idle": "2021-03-29T22:15:30.106983Z",
     "shell.execute_reply": "2021-03-29T22:15:30.107396Z"
    },
    "tags": []
   },
   "outputs": [
    {
     "name": "stdout",
     "output_type": "stream",
     "text": [
      "['gentiane', 'campanule', 'marguerite', 'oseille']\n"
     ]
    }
   ],
   "source": [
    "del(plantes[2]); print(plantes)"
   ]
  },
  {
   "cell_type": "code",
   "execution_count": 30,
   "metadata": {
    "execution": {
     "iopub.execute_input": "2021-03-29T22:15:30.111290Z",
     "iopub.status.busy": "2021-03-29T22:15:30.110765Z",
     "iopub.status.idle": "2021-03-29T22:15:30.115060Z",
     "shell.execute_reply": "2021-03-29T22:15:30.114596Z"
    },
    "tags": []
   },
   "outputs": [
    {
     "name": "stdout",
     "output_type": "stream",
     "text": [
      "['gentiane', 'oseille']\n"
     ]
    }
   ],
   "source": [
    "plantes[1:3] = []; print(plantes)"
   ]
  },
  {
   "cell_type": "markdown",
   "metadata": {},
   "source": [
    "Dans la deuxième ligne, on a supprimé l'élément d'indice 2. On remarque alors que les indices des élements de la liste changent. Dans la troisième ligne, on a supprimé grâce à l'opérateur tranche les élements 1 et 2, en introduisant à la place une liste vide."
   ]
  },
  {
   "cell_type": "markdown",
   "metadata": {},
   "source": [
    "<div class=\"alert alert-info\">\n",
    "\n",
    "**le point-virgule**\n",
    "\n",
    "Ici nous avons utilisé un point-virgule à la fin d'une instruction pour pouvoir écrire deux instructions sur la même ligne.\n",
    "</div>"
   ]
  },
  {
   "cell_type": "markdown",
   "metadata": {},
   "source": [
    "## Les chaînes\n",
    "\n",
    "On a vu que les chaînes sont constituées d'une séquence de caracatères. Comme pour les listes, on peut utiliser les opérateurs indexation et tranche pour accéder à certains caractères de la chaîne. Par exemple :"
   ]
  },
  {
   "cell_type": "code",
   "execution_count": 31,
   "metadata": {
    "execution": {
     "iopub.execute_input": "2021-03-29T22:15:30.120127Z",
     "iopub.status.busy": "2021-03-29T22:15:30.118331Z",
     "iopub.status.idle": "2021-03-29T22:15:30.120752Z",
     "shell.execute_reply": "2021-03-29T22:15:30.121189Z"
    }
   },
   "outputs": [],
   "source": [
    "# création de la chaîne\n",
    "plante1 = \"gentiane\""
   ]
  },
  {
   "cell_type": "code",
   "execution_count": 32,
   "metadata": {
    "execution": {
     "iopub.execute_input": "2021-03-29T22:15:30.126624Z",
     "iopub.status.busy": "2021-03-29T22:15:30.124963Z",
     "iopub.status.idle": "2021-03-29T22:15:30.128402Z",
     "shell.execute_reply": "2021-03-29T22:15:30.127957Z"
    },
    "tags": []
   },
   "outputs": [
    {
     "name": "stdout",
     "output_type": "stream",
     "text": [
      "t\n"
     ]
    }
   ],
   "source": [
    "# sélection d'un caractère\n",
    "print(plante1[3])"
   ]
  },
  {
   "cell_type": "code",
   "execution_count": 33,
   "metadata": {
    "execution": {
     "iopub.execute_input": "2021-03-29T22:15:30.133316Z",
     "iopub.status.busy": "2021-03-29T22:15:30.132397Z",
     "iopub.status.idle": "2021-03-29T22:15:30.134955Z",
     "shell.execute_reply": "2021-03-29T22:15:30.135377Z"
    },
    "tags": []
   },
   "outputs": [
    {
     "name": "stdout",
     "output_type": "stream",
     "text": [
      "tia\n"
     ]
    }
   ],
   "source": [
    "# sélection d'une tranche\n",
    "print(plante1[3:6])"
   ]
  },
  {
   "cell_type": "markdown",
   "metadata": {},
   "source": [
    "Par contre, contrairement aux listes, les chaînes sont *immuables*, ce qui signifie que l'on ne peut pas modifier une chaîne existante. Si on essaye, on a alors un message d'erreur:"
   ]
  },
  {
   "cell_type": "code",
   "execution_count": 34,
   "metadata": {
    "execution": {
     "iopub.execute_input": "2021-03-29T22:15:30.141864Z",
     "iopub.status.busy": "2021-03-29T22:15:30.138670Z",
     "iopub.status.idle": "2021-03-29T22:15:30.147002Z",
     "shell.execute_reply": "2021-03-29T22:15:30.146561Z"
    }
   },
   "outputs": [
    {
     "ename": "TypeError",
     "evalue": "'str' object does not support item assignment",
     "output_type": "error",
     "traceback": [
      "\u001b[0;31m---------------------------------------------------------------------------\u001b[0m",
      "\u001b[0;31mTypeError\u001b[0m                                 Traceback (most recent call last)",
      "\u001b[0;32m<ipython-input-1-c25587ea05ac>\u001b[0m in \u001b[0;36m<module>\u001b[0;34m\u001b[0m\n\u001b[0;32m----> 1\u001b[0;31m \u001b[0mplante1\u001b[0m\u001b[0;34m[\u001b[0m\u001b[0;36m3\u001b[0m\u001b[0;34m]\u001b[0m \u001b[0;34m=\u001b[0m \u001b[0;34m\"b\"\u001b[0m\u001b[0;34m\u001b[0m\u001b[0;34m\u001b[0m\u001b[0m\n\u001b[0m",
      "\u001b[0;31mTypeError\u001b[0m: 'str' object does not support item assignment"
     ]
    }
   ],
   "source": [
    "plante1[3] = \"b\""
   ]
  },
  {
   "cell_type": "markdown",
   "metadata": {},
   "source": [
    "<div class=\"alert alert-info\">\n",
    "\n",
    "**Objet**\n",
    "\n",
    "La chaîne de caractère `\"gentiane\"` est un objet dont les éléments sont les caractères de la chaîne, qui sont aussi des objets. De manière générale, un objet est *quelque chose* auquel une variable peut se référer. Ici, la variable `plante1` se réfère à l'objet `\"gentiane\"`.\n",
    "\n",
    "</div>"
   ]
  },
  {
   "cell_type": "markdown",
   "metadata": {},
   "source": [
    "<div class=\"alert alert-info\">\n",
    "\n",
    "**Muable**\n",
    "\n",
    "Un objet muable est un objet qui peut être modifié, comme les listes. À l'inverse, un objet immuable ne peut pas être modifié, comme les chaînes.\n",
    "\n",
    "</div>"
   ]
  },
  {
   "cell_type": "markdown",
   "metadata": {},
   "source": [
    "## Objets et valeurs\n",
    "Effectuons les affectations suivantes :"
   ]
  },
  {
   "cell_type": "code",
   "execution_count": 35,
   "metadata": {
    "execution": {
     "iopub.execute_input": "2021-03-29T22:15:30.152069Z",
     "iopub.status.busy": "2021-03-29T22:15:30.150391Z",
     "iopub.status.idle": "2021-03-29T22:15:30.152723Z",
     "shell.execute_reply": "2021-03-29T22:15:30.153159Z"
    }
   },
   "outputs": [],
   "source": [
    "plante1 = \"gentiane\"\n",
    "plante2 = \"gentiane\""
   ]
  },
  {
   "cell_type": "markdown",
   "metadata": {},
   "source": [
    "Dans cet exemple on a créé une variable `plante1` qui se réfère à un objet \"gentiane\", et une variable `plante2` qui se réfère à un objet \"gentiane\". Python a-t-il créé deux objets \"gentiane\" ou un seul ? Autrement dit, les variables `plante1` et `plante2` se réfèrent-elles à deux objets différents ou bien un seul objet commun ?\n",
    "\n",
    "Pour vérifier si deux variables font référence au même objet, nous pouvons utiliser l'opérateur `is` :"
   ]
  },
  {
   "cell_type": "code",
   "execution_count": 36,
   "metadata": {
    "execution": {
     "iopub.execute_input": "2021-03-29T22:15:30.162543Z",
     "iopub.status.busy": "2021-03-29T22:15:30.162021Z",
     "iopub.status.idle": "2021-03-29T22:15:30.167471Z",
     "shell.execute_reply": "2021-03-29T22:15:30.166988Z"
    }
   },
   "outputs": [
    {
     "data": {
      "text/plain": [
       "True"
      ]
     },
     "execution_count": 1,
     "metadata": {},
     "output_type": "execute_result"
    }
   ],
   "source": [
    "plante1 is plante2"
   ]
  },
  {
   "cell_type": "markdown",
   "metadata": {},
   "source": [
    "Cette instruction nous renvoie la valeur `True`, c'est-à-dire Vrai. Donc les deux variables se réfèrent bien au même objet chaîne.\n",
    "\n",
    "Cependant, ce n'est pas le cas lorsque l'on crée deux listes:"
   ]
  },
  {
   "cell_type": "code",
   "execution_count": 37,
   "metadata": {
    "execution": {
     "iopub.execute_input": "2021-03-29T22:15:30.171204Z",
     "iopub.status.busy": "2021-03-29T22:15:30.170675Z",
     "iopub.status.idle": "2021-03-29T22:15:30.174316Z",
     "shell.execute_reply": "2021-03-29T22:15:30.174765Z"
    }
   },
   "outputs": [],
   "source": [
    "plantes1 = [\"gentiane\", \"campanule\", \"pensée\"]\n",
    "plantes2 = [\"gentiane\", \"campanule\", \"pensée\"]"
   ]
  },
  {
   "cell_type": "code",
   "execution_count": 38,
   "metadata": {
    "execution": {
     "iopub.execute_input": "2021-03-29T22:15:30.178425Z",
     "iopub.status.busy": "2021-03-29T22:15:30.177892Z",
     "iopub.status.idle": "2021-03-29T22:15:30.183352Z",
     "shell.execute_reply": "2021-03-29T22:15:30.182910Z"
    }
   },
   "outputs": [
    {
     "data": {
      "text/plain": [
       "False"
      ]
     },
     "execution_count": 1,
     "metadata": {},
     "output_type": "execute_result"
    }
   ],
   "source": [
    "plantes1 is plantes2"
   ]
  },
  {
   "cell_type": "markdown",
   "metadata": {},
   "source": [
    "Dans ce cas, les deux listes sont *équivalentes*, parce qu'elles ont les mêmes éléments, mais pas *identiques*, car il ne s'agit pas d'un même objet."
   ]
  },
  {
   "cell_type": "markdown",
   "metadata": {},
   "source": [
    "<div class=\"alert alert-info\">\n",
    "\n",
    "**Valeur d'un objet**\n",
    "\n",
    "Une variable se réfère à un objet, qui a une certaine valeur. En évaluant `[1, 2, 3]`, on obtient un objet liste dont la valeur est une séquence d'entiers. Si une autre liste a les mêmes éléments, on dit qu'elle a la même valeur, mais ce n'est pas le même objet.\n",
    "\n",
    "</div>"
   ]
  },
  {
   "cell_type": "markdown",
   "metadata": {},
   "source": [
    "## Aliasing\n"
   ]
  },
  {
   "cell_type": "markdown",
   "metadata": {},
   "source": [
    "Créons une variable `plantes1` qui se réfère à un objet et écrivons `plantes2 = plantes1`. Alors les 2 variable `plantes1` et `plantes2` se réfèrent au même objet. Pour le vérifier, utilisons l'opérateur `is` :"
   ]
  },
  {
   "cell_type": "code",
   "execution_count": 39,
   "metadata": {
    "execution": {
     "iopub.execute_input": "2021-03-29T22:15:30.187031Z",
     "iopub.status.busy": "2021-03-29T22:15:30.186534Z",
     "iopub.status.idle": "2021-03-29T22:15:30.190444Z",
     "shell.execute_reply": "2021-03-29T22:15:30.190002Z"
    }
   },
   "outputs": [],
   "source": [
    "plantes1 = [\"gentiane\", \"campanule\", \"pensée\"]\n",
    "plantes2 = plantes1"
   ]
  },
  {
   "cell_type": "code",
   "execution_count": 40,
   "metadata": {
    "execution": {
     "iopub.execute_input": "2021-03-29T22:15:30.194512Z",
     "iopub.status.busy": "2021-03-29T22:15:30.193856Z",
     "iopub.status.idle": "2021-03-29T22:15:30.196408Z",
     "shell.execute_reply": "2021-03-29T22:15:30.196841Z"
    }
   },
   "outputs": [
    {
     "data": {
      "text/plain": [
       "True"
      ]
     },
     "execution_count": 1,
     "metadata": {},
     "output_type": "execute_result"
    }
   ],
   "source": [
    "# les deux variables se réfèrent au même objet\n",
    "plantes2 is plantes1"
   ]
  },
  {
   "cell_type": "markdown",
   "metadata": {},
   "source": [
    "L'association entre une variable et un objet s'appelle une *référence*. Dans l'exemple il existe deux références vers le même objet `[\"gentiane\", \"campanule\", \"pensée\"]`. Comme l'objet est une liste, il est *muable*, c'est-à-dire qu'on peut le modifier. Alors les modifications faites à un alias (une référence) affectent l'autre :"
   ]
  },
  {
   "cell_type": "code",
   "execution_count": 41,
   "metadata": {
    "execution": {
     "iopub.execute_input": "2021-03-29T22:15:30.200768Z",
     "iopub.status.busy": "2021-03-29T22:15:30.200228Z",
     "iopub.status.idle": "2021-03-29T22:15:30.204827Z",
     "shell.execute_reply": "2021-03-29T22:15:30.204301Z"
    },
    "tags": []
   },
   "outputs": [
    {
     "name": "stdout",
     "output_type": "stream",
     "text": [
      "['gentiane', 'primevère', 'pensée']\n"
     ]
    }
   ],
   "source": [
    "# on modifie l'objet auquel se réfère plante2\n",
    "plantes2[1] = \"primevère\"\n",
    "\n",
    "# l'objet auquel se réfère plantes1 est aussi modifié, car c'est le même objet\n",
    "print(plantes1)"
   ]
  },
  {
   "cell_type": "markdown",
   "metadata": {},
   "source": [
    "Ce comportement, appelé *aliasing*, peut être source d'erreur. Pour éviter cela, vous pouvez copier de façon *superficielle* l'objet à l'aide de `list()` ou de `[:]`"
   ]
  },
  {
   "cell_type": "code",
   "execution_count": 42,
   "metadata": {
    "execution": {
     "iopub.execute_input": "2021-03-29T22:15:30.209612Z",
     "iopub.status.busy": "2021-03-29T22:15:30.208943Z",
     "iopub.status.idle": "2021-03-29T22:15:30.211806Z",
     "shell.execute_reply": "2021-03-29T22:15:30.211375Z"
    },
    "tags": []
   },
   "outputs": [
    {
     "name": "stdout",
     "output_type": "stream",
     "text": [
      "False\n",
      "False\n"
     ]
    }
   ],
   "source": [
    "plantes1 = [\"gentiane\", \"campanule\", \"pensée\"]\n",
    "\n",
    "# copie superficielle de la liste : version 1\n",
    "plantes2 = plantes1[:]\n",
    "\n",
    "# copie superficielle de la liste : version 2\n",
    "plantes3 = list(plantes1)\n",
    "\n",
    "# les variables plantes2 et plantes3 ne se réfèrent pas au même objet que la variable plantes1\n",
    "print(plantes2 is plantes1)\n",
    "print(plantes3 is plantes1)"
   ]
  }
 ],
 "metadata": {
  "kernelspec": {
   "display_name": "Python 3",
   "language": "python",
   "name": "python3"
  },
  "language_info": {
   "codemirror_mode": {
    "name": "ipython",
    "version": 3
   },
   "file_extension": ".py",
   "mimetype": "text/x-python",
   "name": "python",
   "nbconvert_exporter": "python",
   "pygments_lexer": "ipython3",
   "version": "3.6.7"
  }
 },
 "nbformat": 4,
 "nbformat_minor": 4
}
