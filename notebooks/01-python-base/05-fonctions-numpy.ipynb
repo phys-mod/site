{
 "cells": [
  {
   "cell_type": "markdown",
   "metadata": {},
   "source": [
    "# Les fonctions de Numpy"
   ]
  },
  {
   "cell_type": "markdown",
   "metadata": {},
   "source": [
    "## Créer des tableaux Numpy"
   ]
  },
  {
   "cell_type": "markdown",
   "metadata": {},
   "source": [
    "De nombreuses fonctions de Numpy sont dédiées à la construction de tableaux multidimensionnels. La [liste complète des fonctions](https://docs.scipy.org/doc/numpy/reference/routines.array-creation.html) pour la création de tableaux peut se trouver dans la documentation Numpy. Attention à bien choisir la documentation appropriée à votre version de Numpy, accessible avec :"
   ]
  },
  {
   "cell_type": "code",
   "execution_count": 1,
   "metadata": {
    "execution": {
     "iopub.execute_input": "2021-03-29T22:15:37.719265Z",
     "iopub.status.busy": "2021-03-29T22:15:37.718395Z",
     "iopub.status.idle": "2021-03-29T22:15:37.850359Z",
     "shell.execute_reply": "2021-03-29T22:15:37.849879Z"
    },
    "tags": []
   },
   "outputs": [
    {
     "name": "stdout",
     "output_type": "stream",
     "text": [
      "1.19.0\n"
     ]
    }
   ],
   "source": [
    "# Importation du module Numpy\n",
    "import numpy as np\n",
    "\n",
    "print(np.__version__)"
   ]
  },
  {
   "cell_type": "markdown",
   "metadata": {},
   "source": [
    "## La fonction `arrayInfo`\n",
    "\n",
    "Nous allons créer une fonction pour afficher les informations relatives aux tableaux Numpy, même si nous verrons plus tard la syntaxe de création d'une fonction personnelle."
   ]
  },
  {
   "cell_type": "code",
   "execution_count": 2,
   "metadata": {
    "execution": {
     "iopub.execute_input": "2021-03-29T22:15:37.855430Z",
     "iopub.status.busy": "2021-03-29T22:15:37.854907Z",
     "iopub.status.idle": "2021-03-29T22:15:37.858802Z",
     "shell.execute_reply": "2021-03-29T22:15:37.858358Z"
    }
   },
   "outputs": [],
   "source": [
    "def arrayInfo(array_name):\n",
    "    \"\"\"prints out the content, shape, dimensions and data type of an array\"\"\"\n",
    "    print(\"-----\")\n",
    "    print(array_name)\n",
    "    print(\"shape: \", array_name.shape)\n",
    "    print(\"number of dimensions :\", array_name.ndim)\n",
    "    print(\"datatype: \", array_name.dtype)\n",
    "    print(\"-----\")\n",
    "    return"
   ]
  },
  {
   "cell_type": "markdown",
   "metadata": {},
   "source": [
    "Nous pouvons alors utiliser cette fonction comme une fonction Python pour obtenir des informations sur un tableau:"
   ]
  },
  {
   "cell_type": "code",
   "execution_count": 3,
   "metadata": {
    "execution": {
     "iopub.execute_input": "2021-03-29T22:15:37.866765Z",
     "iopub.status.busy": "2021-03-29T22:15:37.864893Z",
     "iopub.status.idle": "2021-03-29T22:15:37.868606Z",
     "shell.execute_reply": "2021-03-29T22:15:37.868128Z"
    },
    "tags": []
   },
   "outputs": [
    {
     "name": "stdout",
     "output_type": "stream",
     "text": [
      "-----\n",
      "[[ 3  5  9]\n",
      " [ 4  6 -2]]\n",
      "shape:  (2, 3)\n",
      "number of dimensions : 2\n",
      "datatype:  int64\n",
      "-----\n"
     ]
    }
   ],
   "source": [
    "# Création d'un tableau Numpy\n",
    "A = np.array([[3, 5, 9],\n",
    "            [4, 6, -2]])\n",
    "\n",
    "# Utilisation de la fonction arrayInfo\n",
    "arrayInfo(A)"
   ]
  },
  {
   "cell_type": "markdown",
   "metadata": {},
   "source": [
    "## Uns et zeros\n",
    "\n",
    "Voici quelques fonctions utiles pour créer des tableaux préremplis :\n",
    "\n",
    "fonction | description\n",
    "--|--\n",
    "`empty(shape)` | retourne un tableau de forme donnée\n",
    "`ones(shape)` | retourne un tableau rempli de 1 de forme donnée\n",
    "`zeros(shape)` | retourne un tableau rempli de 0 de forme donnée"
   ]
  },
  {
   "cell_type": "markdown",
   "metadata": {},
   "source": [
    "Par exemple, créons un tableau `A` avec 3 lignes et 4 colonnes rempli de 1 :"
   ]
  },
  {
   "cell_type": "code",
   "execution_count": 4,
   "metadata": {
    "execution": {
     "iopub.execute_input": "2021-03-29T22:15:37.876416Z",
     "iopub.status.busy": "2021-03-29T22:15:37.875268Z",
     "iopub.status.idle": "2021-03-29T22:15:37.878198Z",
     "shell.execute_reply": "2021-03-29T22:15:37.877733Z"
    },
    "tags": []
   },
   "outputs": [
    {
     "name": "stdout",
     "output_type": "stream",
     "text": [
      "-----\n",
      "[[1. 1. 1. 1.]\n",
      " [1. 1. 1. 1.]\n",
      " [1. 1. 1. 1.]]\n",
      "shape:  (3, 4)\n",
      "number of dimensions : 2\n",
      "datatype:  float64\n",
      "-----\n"
     ]
    }
   ],
   "source": [
    "A = np.ones((3, 4))\n",
    "arrayInfo(A)"
   ]
  },
  {
   "cell_type": "markdown",
   "metadata": {},
   "source": [
    "On rappelle que la forme du tableau (*shape*) s'écrit sous la forme d'un *tuple* (voir Le module Numpy). Ici le *tuple* définit le nombre d'éléments dans chacune des dimensions du tableau : 3 éléments dans la dimension 0 (lignes), et 4 éléments dans la dimension 1 (colonnes), c’est-à-dire un tableau avec 3 lignes et 4 colonnes.\n",
    "\n",
    "On remarque que le type des éléments du tableau est par défaut `float64`, c'est-à-dire des réels. Si nous voulons un type différent, il faut ajouter l'argument `dtype` à la fonction :"
   ]
  },
  {
   "cell_type": "code",
   "execution_count": 5,
   "metadata": {
    "execution": {
     "iopub.execute_input": "2021-03-29T22:15:37.885718Z",
     "iopub.status.busy": "2021-03-29T22:15:37.883992Z",
     "iopub.status.idle": "2021-03-29T22:15:37.887591Z",
     "shell.execute_reply": "2021-03-29T22:15:37.887112Z"
    },
    "tags": []
   },
   "outputs": [
    {
     "name": "stdout",
     "output_type": "stream",
     "text": [
      "-----\n",
      "[[1 1 1 1]\n",
      " [1 1 1 1]\n",
      " [1 1 1 1]]\n",
      "shape:  (3, 4)\n",
      "number of dimensions : 2\n",
      "datatype:  int64\n",
      "-----\n"
     ]
    }
   ],
   "source": [
    "A = np.ones((3, 4), dtype='int64')\n",
    "arrayInfo(A)"
   ]
  },
  {
   "cell_type": "markdown",
   "metadata": {},
   "source": [
    "Maintenant, créons un tableau à une dimension avec 5 éléments tous égaux à zéro. Pour cela, il faut se souvenir comment écrire un *tuple* avec 1 seul élément :"
   ]
  },
  {
   "cell_type": "code",
   "execution_count": 6,
   "metadata": {
    "execution": {
     "iopub.execute_input": "2021-03-29T22:15:37.895048Z",
     "iopub.status.busy": "2021-03-29T22:15:37.893367Z",
     "iopub.status.idle": "2021-03-29T22:15:37.896879Z",
     "shell.execute_reply": "2021-03-29T22:15:37.896431Z"
    },
    "tags": []
   },
   "outputs": [
    {
     "name": "stdout",
     "output_type": "stream",
     "text": [
      "-----\n",
      "[0. 0. 0. 0. 0.]\n",
      "shape:  (5,)\n",
      "number of dimensions : 1\n",
      "datatype:  float64\n",
      "-----\n"
     ]
    }
   ],
   "source": [
    "A = np.zeros((5,))\n",
    "arrayInfo(A)"
   ]
  },
  {
   "cell_type": "markdown",
   "metadata": {},
   "source": [
    "La fonction `empty()` permet de créer un tableau rapidement. Mais attention, ce tableau n'est pas vide, contrairement à ce que le nom de la fonction laisse entendre :"
   ]
  },
  {
   "cell_type": "code",
   "execution_count": 7,
   "metadata": {
    "execution": {
     "iopub.execute_input": "2021-03-29T22:15:37.902685Z",
     "iopub.status.busy": "2021-03-29T22:15:37.902142Z",
     "iopub.status.idle": "2021-03-29T22:15:37.906702Z",
     "shell.execute_reply": "2021-03-29T22:15:37.906230Z"
    },
    "tags": []
   },
   "outputs": [
    {
     "name": "stdout",
     "output_type": "stream",
     "text": [
      "-----\n",
      "[[6.93308677e-310 1.65627010e-316 0.00000000e+000]\n",
      " [0.00000000e+000 0.00000000e+000 0.00000000e+000]\n",
      " [6.57072404e-085 2.65854701e-260 3.95252517e-322]]\n",
      "shape:  (3, 3)\n",
      "number of dimensions : 2\n",
      "datatype:  float64\n",
      "-----\n"
     ]
    }
   ],
   "source": [
    "A = np.empty((3, 3))\n",
    "arrayInfo(A)"
   ]
  },
  {
   "cell_type": "markdown",
   "metadata": {},
   "source": [
    "On peut tester la vitesse d'exécution des différentes fonctions avec la commande `%timeit` :"
   ]
  },
  {
   "cell_type": "code",
   "execution_count": 8,
   "metadata": {
    "execution": {
     "iopub.execute_input": "2021-03-29T22:15:37.910348Z",
     "iopub.status.busy": "2021-03-29T22:15:37.909524Z",
     "iopub.status.idle": "2021-03-29T22:15:37.912285Z",
     "shell.execute_reply": "2021-03-29T22:15:37.911814Z"
    },
    "tags": []
   },
   "outputs": [],
   "source": [
    "# %timeit np.zeros((1000, 1000))\n",
    "# %timeit np.empty((1000, 1000))"
   ]
  },
  {
   "cell_type": "markdown",
   "metadata": {},
   "source": [
    "### Exercice\n",
    "\n",
    "1. Créer un tableau `A` de dimension 1, contenant 7 éléments tous égaux à $4.2$ avec la fonction `ones()`. Afficher les attributs du tableau avec la fonction `arrayInfo()`\n",
    "2. Créer un tableau vide B avec la fonction `empty()`, de même forme que A, sans écrire explicitement de *tuple* en argument de la fonction"
   ]
  },
  {
   "cell_type": "code",
   "execution_count": 9,
   "metadata": {
    "execution": {
     "iopub.execute_input": "2021-03-29T22:15:37.921867Z",
     "iopub.status.busy": "2021-03-29T22:15:37.920157Z",
     "iopub.status.idle": "2021-03-29T22:15:37.923730Z",
     "shell.execute_reply": "2021-03-29T22:15:37.923278Z"
    },
    "tags": [
     "solution"
    ]
   },
   "outputs": [
    {
     "name": "stdout",
     "output_type": "stream",
     "text": [
      "-----\n",
      "[4.2 4.2 4.2 4.2 4.2 4.2 4.2]\n",
      "shape:  (7,)\n",
      "number of dimensions : 1\n",
      "datatype:  float64\n",
      "-----\n",
      "-----\n",
      "[4.2 4.2 4.2 4.2 4.2 4.2 4.2]\n",
      "shape:  (7,)\n",
      "number of dimensions : 1\n",
      "datatype:  float64\n",
      "-----\n"
     ]
    }
   ],
   "source": [
    "# 1\n",
    "A = np.ones((7,)) * 4.2\n",
    "arrayInfo(A)\n",
    "\n",
    "# 2\n",
    "B = np.empty(A.shape)\n",
    "arrayInfo(B)"
   ]
  },
  {
   "cell_type": "markdown",
   "metadata": {},
   "source": [
    "## Intervalles et pas\n",
    "\n",
    "Voici quelques fonctions utiles pour créer des tableaux dans un intervalle donné :\n",
    "\n",
    "fonction | description\n",
    "--|--\n",
    "`arange()` | valeurs régulièrement espacées pour un pas donné\n",
    "`linspace()` | valeurs régulièrement espacées pour un nombre d'éléments donné\n",
    "`logspace()` | valeurs régulièrement espacées sur une échelle logarithmique pour un nombre d'éléments donné\n",
    "\n",
    "La fonction `linspace()` est utile pour générer des tableaux avec des valeurs définies sur un intervalle donné. Par exemple, pour générer un tableau avec 15 valeurs dans l'intervalle `[−4, 4]` :"
   ]
  },
  {
   "cell_type": "code",
   "execution_count": 10,
   "metadata": {
    "execution": {
     "iopub.execute_input": "2021-03-29T22:15:37.931475Z",
     "iopub.status.busy": "2021-03-29T22:15:37.929780Z",
     "iopub.status.idle": "2021-03-29T22:15:37.933242Z",
     "shell.execute_reply": "2021-03-29T22:15:37.932790Z"
    },
    "tags": []
   },
   "outputs": [
    {
     "name": "stdout",
     "output_type": "stream",
     "text": [
      "-----\n",
      "[-4.         -3.42857143 -2.85714286 -2.28571429 -1.71428571 -1.14285714\n",
      " -0.57142857  0.          0.57142857  1.14285714  1.71428571  2.28571429\n",
      "  2.85714286  3.42857143  4.        ]\n",
      "shape:  (15,)\n",
      "number of dimensions : 1\n",
      "datatype:  float64\n",
      "-----\n"
     ]
    }
   ],
   "source": [
    "A = np.linspace(-4., 4, 15)\n",
    "arrayInfo(A)"
   ]
  },
  {
   "cell_type": "markdown",
   "metadata": {},
   "source": [
    "Les deux premiers arguments de la fonction sont les bornes inférieure et supérieure, et le troisième argument est le nombre d'éléments du tableau. Si le nombre de points est omis, la fonction `linspace()` utilisera la valeur par défaut de 50 points, ce que l'on peut vérifier dans l'aide de python :"
   ]
  },
  {
   "cell_type": "code",
   "execution_count": 11,
   "metadata": {
    "execution": {
     "iopub.execute_input": "2021-03-29T22:15:37.938298Z",
     "iopub.status.busy": "2021-03-29T22:15:37.936539Z",
     "iopub.status.idle": "2021-03-29T22:15:37.938963Z",
     "shell.execute_reply": "2021-03-29T22:15:37.939399Z"
    },
    "tags": []
   },
   "outputs": [],
   "source": [
    "# help(np.linspace)"
   ]
  },
  {
   "cell_type": "markdown",
   "metadata": {},
   "source": [
    "Il arrive souvent que l'on veuille créer un tableau avec non pas un nombre d'éléments donné à l'avance, mais un *pas* donné à l'avance. Le *pas* est l'intervalle entre 2 éléments. Si l'intervalle entre n'importe quels 2 éléments consécutifs reste le même, on parle alors de *pas fixe* ou de *pas constant*.\n",
    "\n",
    "Voici une petite routine qui permet de créer un tableau d'éléments compris entre 2 bornes connues à l'avance et un pas fixe :"
   ]
  },
  {
   "cell_type": "code",
   "execution_count": 12,
   "metadata": {
    "execution": {
     "iopub.execute_input": "2021-03-29T22:15:37.946572Z",
     "iopub.status.busy": "2021-03-29T22:15:37.946034Z",
     "iopub.status.idle": "2021-03-29T22:15:37.950186Z",
     "shell.execute_reply": "2021-03-29T22:15:37.949703Z"
    },
    "tags": []
   },
   "outputs": [
    {
     "name": "stdout",
     "output_type": "stream",
     "text": [
      "-----\n",
      "[-1.  -0.9 -0.8 -0.7 -0.6 -0.5 -0.4 -0.3 -0.2 -0.1  0.   0.1  0.2  0.3\n",
      "  0.4  0.5  0.6  0.7  0.8  0.9  1.   1.1  1.2  1.3  1.4  1.5  1.6  1.7\n",
      "  1.8  1.9  2. ]\n",
      "shape:  (31,)\n",
      "number of dimensions : 1\n",
      "datatype:  float64\n",
      "-----\n"
     ]
    }
   ],
   "source": [
    "# Paramètres\n",
    "start = -1.0   # borne inférieure\n",
    "end = 2.0       # borne supérieure\n",
    "step = 0.1      # pas\n",
    "\n",
    "# Création du tableau\n",
    "interval = end - start                     # intervalle\n",
    "num_points = int(interval / step) + 1      # nombre d'éléments\n",
    "g = np.linspace(start, end, num_points)    # taleau\n",
    "\n",
    "# Attributs du tableau\n",
    "arrayInfo(g)"
   ]
  },
  {
   "cell_type": "markdown",
   "metadata": {},
   "source": [
    "### Exercice\n",
    "\n",
    "Pourquoi dans la routine précédente le nombre de points est donné par `int(interval / step) + 1` ?"
   ]
  },
  {
   "cell_type": "markdown",
   "metadata": {},
   "source": [
    "La fonction `arange()` génère des valeurs dans l'intervalle semi-ouvert [début, fin[ avec un pas donné. Cependant, il est conseillé de ne pas l'utiliser avec un pas non entier, car le résultat n'est pas toujours cohérent avec la définition. Par exemple :"
   ]
  },
  {
   "cell_type": "code",
   "execution_count": 13,
   "metadata": {
    "execution": {
     "iopub.execute_input": "2021-03-29T22:15:37.954831Z",
     "iopub.status.busy": "2021-03-29T22:15:37.954266Z",
     "iopub.status.idle": "2021-03-29T22:15:37.958545Z",
     "shell.execute_reply": "2021-03-29T22:15:37.958958Z"
    },
    "tags": []
   },
   "outputs": [
    {
     "name": "stdout",
     "output_type": "stream",
     "text": [
      "[7.8  7.85 7.9  7.95 8.   8.05 8.1  8.15 8.2  8.25 8.3  8.35 8.4 ]\n"
     ]
    }
   ],
   "source": [
    "print(np.arange(7.8, 8.4, 0.05))"
   ]
  },
  {
   "cell_type": "markdown",
   "metadata": {},
   "source": [
    "inclut l'élément 8.4 au lieu de l'exclure.\n",
    "\n",
    "Par défaut la fonction `arange()` va générer des valeurs entières si tous les arguments d'entrée sont des nombres entiers. De plus, si le pas est omis, la fonction `arange()` utilisera le pas par de défaut de 1.\n",
    "\n",
    "On peut donc l'utiliser à la place de la fonction `range()` pour générer un tableau Numpy d'entier :"
   ]
  },
  {
   "cell_type": "code",
   "execution_count": 14,
   "metadata": {
    "execution": {
     "iopub.execute_input": "2021-03-29T22:15:37.964563Z",
     "iopub.status.busy": "2021-03-29T22:15:37.964048Z",
     "iopub.status.idle": "2021-03-29T22:15:37.969452Z",
     "shell.execute_reply": "2021-03-29T22:15:37.969923Z"
    },
    "tags": []
   },
   "outputs": [
    {
     "name": "stdout",
     "output_type": "stream",
     "text": [
      "-----\n",
      "[-3 -2 -1  0  1  2  3  4]\n",
      "shape:  (8,)\n",
      "number of dimensions : 1\n",
      "datatype:  int64\n",
      "-----\n",
      "-----\n",
      "[-3 -2 -1  0  1  2  3  4]\n",
      "shape:  (8,)\n",
      "number of dimensions : 1\n",
      "datatype:  int64\n",
      "-----\n"
     ]
    }
   ],
   "source": [
    "A = np.arange(-3, 5)\n",
    "\n",
    "# est équivalent à :\n",
    "B = np.array(list(range(-3, 5)))\n",
    "\n",
    "arrayInfo(A)\n",
    "arrayInfo(B)"
   ]
  },
  {
   "cell_type": "markdown",
   "metadata": {},
   "source": [
    "### Exercice\n",
    "\n",
    "En vous aidant de l'aide de la fonction `logspace()`, créer le tableau Numpy contenant toutes les puissances de $10$ depuis $10^{-4}$ à $10^{5}$, puis affichez les attributs du tableau avec arrayInfo."
   ]
  },
  {
   "cell_type": "code",
   "execution_count": 15,
   "metadata": {
    "execution": {
     "iopub.execute_input": "2021-03-29T22:15:37.974923Z",
     "iopub.status.busy": "2021-03-29T22:15:37.974400Z",
     "iopub.status.idle": "2021-03-29T22:15:37.979090Z",
     "shell.execute_reply": "2021-03-29T22:15:37.979516Z"
    },
    "tags": [
     "solution"
    ]
   },
   "outputs": [
    {
     "name": "stdout",
     "output_type": "stream",
     "text": [
      "-----\n",
      "[1.e-04 1.e-03 1.e-02 1.e-01 1.e+00 1.e+01 1.e+02 1.e+03 1.e+04 1.e+05]\n",
      "shape:  (10,)\n",
      "number of dimensions : 1\n",
      "datatype:  float64\n",
      "-----\n"
     ]
    }
   ],
   "source": [
    "# help(np.logspace)\n",
    "A = np.logspace(-4, 5, 10)\n",
    "arrayInfo(A)"
   ]
  },
  {
   "cell_type": "markdown",
   "metadata": {},
   "source": [
    "## Manipulation de tableau\n",
    "\n",
    "Voici quelques fonction utiles pour manipuler les tableaux Numpy. [La liste complète](https://numpy.org/doc/stable/reference/routines.array-manipulation.html) est dans la documentation Numpy.\n",
    "\n",
    "fonction | description\n",
    "--|--\n",
    "`reshape()` | donne une forme différente au tableau sans changer ses éléments\n",
    "`t.flatten()` | retourne une copie 1D du tableau\n",
    "`t.T()` | transposée du tableau\n",
    "`concatenate()` | joindre plusieurs tableaux\n",
    "`append()` | ajoute des valeurs à la fin du tableau\n",
    "`unique()` | trouve les éléments uniques du tableau\n",
    "`flip()` | inverse l'ordre des éléments"
   ]
  },
  {
   "cell_type": "markdown",
   "metadata": {},
   "source": [
    "Voici quelques exemples d'utilisation de ces fonctions :"
   ]
  },
  {
   "cell_type": "code",
   "execution_count": 16,
   "metadata": {
    "execution": {
     "iopub.execute_input": "2021-03-29T22:15:37.984135Z",
     "iopub.status.busy": "2021-03-29T22:15:37.983640Z",
     "iopub.status.idle": "2021-03-29T22:15:37.988459Z",
     "shell.execute_reply": "2021-03-29T22:15:37.988893Z"
    },
    "tags": []
   },
   "outputs": [
    {
     "name": "stdout",
     "output_type": "stream",
     "text": [
      "-----\n",
      "[[ 2  7  9  1]\n",
      " [-3  4  0  2]]\n",
      "shape:  (2, 4)\n",
      "number of dimensions : 2\n",
      "datatype:  int64\n",
      "-----\n"
     ]
    }
   ],
   "source": [
    "# tableau de forme (2, 4)\n",
    "A = np.array([[2, 7, 9, 1],\n",
    "            [-3, 4, 0, 2]])\n",
    "arrayInfo(A)"
   ]
  },
  {
   "cell_type": "code",
   "execution_count": 17,
   "metadata": {
    "execution": {
     "iopub.execute_input": "2021-03-29T22:15:37.992990Z",
     "iopub.status.busy": "2021-03-29T22:15:37.992493Z",
     "iopub.status.idle": "2021-03-29T22:15:37.997260Z",
     "shell.execute_reply": "2021-03-29T22:15:37.996823Z"
    },
    "tags": []
   },
   "outputs": [
    {
     "name": "stdout",
     "output_type": "stream",
     "text": [
      "-----\n",
      "[[ 2  7]\n",
      " [ 9  1]\n",
      " [-3  4]\n",
      " [ 0  2]]\n",
      "shape:  (4, 2)\n",
      "number of dimensions : 2\n",
      "datatype:  int64\n",
      "-----\n"
     ]
    }
   ],
   "source": [
    "# reformer en tableau de forme (4, 2)\n",
    "B = np.reshape(A, (4, 2))\n",
    "arrayInfo(B)"
   ]
  },
  {
   "cell_type": "code",
   "execution_count": 18,
   "metadata": {
    "execution": {
     "iopub.execute_input": "2021-03-29T22:15:38.001211Z",
     "iopub.status.busy": "2021-03-29T22:15:38.000723Z",
     "iopub.status.idle": "2021-03-29T22:15:38.005828Z",
     "shell.execute_reply": "2021-03-29T22:15:38.005211Z"
    },
    "tags": []
   },
   "outputs": [
    {
     "name": "stdout",
     "output_type": "stream",
     "text": [
      "-----\n",
      "[[ 2 -3]\n",
      " [ 7  4]\n",
      " [ 9  0]\n",
      " [ 1  2]]\n",
      "shape:  (4, 2)\n",
      "number of dimensions : 2\n",
      "datatype:  int64\n",
      "-----\n"
     ]
    }
   ],
   "source": [
    "# Attention, on voit que c'est différent de la transposée\n",
    "C = A.T\n",
    "arrayInfo(C)"
   ]
  },
  {
   "cell_type": "markdown",
   "metadata": {},
   "source": [
    "On peut joindre 2 tableaux suivant un axe donné, ici la première dimension, ou dimension 0 (lignes), avec la fonction `append()` :"
   ]
  },
  {
   "cell_type": "code",
   "execution_count": 19,
   "metadata": {
    "execution": {
     "iopub.execute_input": "2021-03-29T22:15:38.013003Z",
     "iopub.status.busy": "2021-03-29T22:15:38.012218Z",
     "iopub.status.idle": "2021-03-29T22:15:38.015395Z",
     "shell.execute_reply": "2021-03-29T22:15:38.014892Z"
    },
    "tags": []
   },
   "outputs": [
    {
     "name": "stdout",
     "output_type": "stream",
     "text": [
      "-----\n",
      "[[1 2]\n",
      " [3 4]\n",
      " [5 6]]\n",
      "shape:  (3, 2)\n",
      "number of dimensions : 2\n",
      "datatype:  int64\n",
      "-----\n"
     ]
    }
   ],
   "source": [
    "A = np.array([[1, 2], [3, 4]])\n",
    "B = np.array([[5, 6]])\n",
    "D = np.append(A, B, axis = 0)\n",
    "\n",
    "arrayInfo(D)"
   ]
  },
  {
   "cell_type": "markdown",
   "metadata": {},
   "source": [
    "Si on veut joindre plusieurs tableaux ensemble, il faut les *concaténer* avec la fonction `concatenate()` :"
   ]
  },
  {
   "cell_type": "code",
   "execution_count": 20,
   "metadata": {
    "execution": {
     "iopub.execute_input": "2021-03-29T22:15:38.020516Z",
     "iopub.status.busy": "2021-03-29T22:15:38.019982Z",
     "iopub.status.idle": "2021-03-29T22:15:38.025203Z",
     "shell.execute_reply": "2021-03-29T22:15:38.024748Z"
    },
    "tags": []
   },
   "outputs": [
    {
     "name": "stdout",
     "output_type": "stream",
     "text": [
      "-----\n",
      "[[ 1  2]\n",
      " [ 3  4]\n",
      " [ 5  6]\n",
      " [ 7  8]\n",
      " [ 9 10]\n",
      " [11 12]]\n",
      "shape:  (6, 2)\n",
      "number of dimensions : 2\n",
      "datatype:  int64\n",
      "-----\n"
     ]
    }
   ],
   "source": [
    "C = np.array([[7, 8], [9, 10], [11, 12]])\n",
    "D = np.concatenate((A, B, C), axis = 0)\n",
    "\n",
    "arrayInfo(D)"
   ]
  },
  {
   "cell_type": "markdown",
   "metadata": {},
   "source": [
    "## Un peu de tri\n",
    "\n",
    "Il peut être utile de trier un tableau Numpy. Reprenons les tableaux de la leçon précédente donnant les nombres d'habitants et les superficies des 8 villes les plus peuplées de France en 2017 :"
   ]
  },
  {
   "cell_type": "code",
   "execution_count": 21,
   "metadata": {
    "execution": {
     "iopub.execute_input": "2021-03-29T22:15:38.030156Z",
     "iopub.status.busy": "2021-03-29T22:15:38.029636Z",
     "iopub.status.idle": "2021-03-29T22:15:38.033221Z",
     "shell.execute_reply": "2021-03-29T22:15:38.033656Z"
    }
   },
   "outputs": [],
   "source": [
    "noms = np.array(['Paris', 'Marseille', 'Lyon', 'Toulouse', 'Nice', 'Nantes', 'Montpellier', 'Strasbourg'])\n",
    "nombre_habitants = np.array([2187526, 863310, 516092, 479553, 340017, 309346, 285121, 280966])\n",
    "superficie = np.array([105.40, 240.62, 47.87, 118.30, 71.92, 65.19, 56.88, 78.26]) # km**2"
   ]
  },
  {
   "cell_type": "markdown",
   "metadata": {},
   "source": [
    "Nous voyons que les tableaux sont triés suivant la donnée du nombre d'habitants, du plus grand au plus petit. On aimerait trier les données des villes suivant la donnée de la superficie en ordre décroissant. On peut utiliser les fonctions `sort()` et `flip()` :"
   ]
  },
  {
   "cell_type": "code",
   "execution_count": 22,
   "metadata": {
    "execution": {
     "iopub.execute_input": "2021-03-29T22:15:38.038532Z",
     "iopub.status.busy": "2021-03-29T22:15:38.037955Z",
     "iopub.status.idle": "2021-03-29T22:15:38.042215Z",
     "shell.execute_reply": "2021-03-29T22:15:38.042626Z"
    },
    "tags": []
   },
   "outputs": [
    {
     "name": "stdout",
     "output_type": "stream",
     "text": [
      "[240.62 118.3  105.4   78.26  71.92  65.19  56.88  47.87]\n"
     ]
    }
   ],
   "source": [
    "superficie_sort = np.sort(superficie)         # tri par défaut dans l'ordre croissant\n",
    "superficie_sort = np.flip(superficie_sort)    # inverse l'ordre du tri\n",
    "print(superficie_sort)"
   ]
  },
  {
   "cell_type": "markdown",
   "metadata": {},
   "source": [
    "Si on obtient bien un tableau trié dans le bon ordre pour les superficies, les tableaux contenant les nombres d'habitants et les noms de ville n'ont pas été triés, et on ne sait pas dans quel ordre les trier pour qu'ils correspondent au nouvel ordre du tableau donnant les superficies.\n",
    "\n",
    "Pour résoudre ce problème, on va utiliser un *masque d'indices* grâce à la fonction `argsort()`. Cette fonction retourne non pas le tableau trié, mais le tableau d'indices qui permet de trier le tableau. On peut alors utiliser ce *masque d'indices* en indice pour trier les autres tableaux :"
   ]
  },
  {
   "cell_type": "code",
   "execution_count": 23,
   "metadata": {
    "execution": {
     "iopub.execute_input": "2021-03-29T22:15:38.048259Z",
     "iopub.status.busy": "2021-03-29T22:15:38.047682Z",
     "iopub.status.idle": "2021-03-29T22:15:38.051458Z",
     "shell.execute_reply": "2021-03-29T22:15:38.051866Z"
    },
    "tags": []
   },
   "outputs": [
    {
     "name": "stdout",
     "output_type": "stream",
     "text": [
      "['Marseille' 'Toulouse' 'Paris' 'Strasbourg' 'Nice' 'Nantes' 'Montpellier'\n",
      " 'Lyon']\n",
      "[ 863310  479553 2187526  280966  340017  309346  285121  516092]\n",
      "[240.62 118.3  105.4   78.26  71.92  65.19  56.88  47.87]\n"
     ]
    }
   ],
   "source": [
    "mask = np.argsort(superficie)   # retourne le masque d'indices pour trier le tableau dans l'ordre croissant\n",
    "mask = np.flip(mask)            # inverse l'ordre du masque pour obtenir un ordre décroissant\n",
    "\n",
    "# Application du masque sur les 3 tableaux\n",
    "noms_sort = noms[mask]\n",
    "nombre_habitants_sort = nombre_habitants[mask]\n",
    "superficie_sort = superficie[mask]\n",
    "\n",
    "# Affichage des tableaux triés\n",
    "print(noms_sort)\n",
    "print(nombre_habitants_sort)\n",
    "print(superficie_sort)"
   ]
  },
  {
   "cell_type": "markdown",
   "metadata": {},
   "source": [
    "## Quelle est la date ?\n",
    "\n",
    "Afin de manipuler simplement des dates, Numpy a un type de données `datetime64`. On peut alors utiliser les fonctions vues plus haut sur ce nouveau type de données.\n",
    "\n",
    "Pour créer une date on utilise alors la fonction `datetime()` :"
   ]
  },
  {
   "cell_type": "code",
   "execution_count": 24,
   "metadata": {
    "execution": {
     "iopub.execute_input": "2021-03-29T22:15:38.056266Z",
     "iopub.status.busy": "2021-03-29T22:15:38.055661Z",
     "iopub.status.idle": "2021-03-29T22:15:38.059741Z",
     "shell.execute_reply": "2021-03-29T22:15:38.060150Z"
    },
    "tags": []
   },
   "outputs": [
    {
     "name": "stdout",
     "output_type": "stream",
     "text": [
      "La date est : 2020-09-21\n",
      "L'année est : 2020\n"
     ]
    }
   ],
   "source": [
    "date = np.datetime64('2020-09-21')\n",
    "print(\"La date est :\", date)\n",
    "print(\"L'année est :\", np.datetime64(date, 'Y'))"
   ]
  },
  {
   "cell_type": "markdown",
   "metadata": {},
   "source": [
    "On peut créer simplement des tableaux de dates avec la fonction `arange()` :"
   ]
  },
  {
   "cell_type": "code",
   "execution_count": 25,
   "metadata": {
    "execution": {
     "iopub.execute_input": "2021-03-29T22:15:38.065424Z",
     "iopub.status.busy": "2021-03-29T22:15:38.064746Z",
     "iopub.status.idle": "2021-03-29T22:15:38.068479Z",
     "shell.execute_reply": "2021-03-29T22:15:38.068011Z"
    },
    "tags": []
   },
   "outputs": [
    {
     "name": "stdout",
     "output_type": "stream",
     "text": [
      "Dates de septembre 2020 :\n",
      " ['2020-09-01' '2020-09-02' '2020-09-03' '2020-09-04' '2020-09-05'\n",
      " '2020-09-06' '2020-09-07' '2020-09-08' '2020-09-09' '2020-09-10'\n",
      " '2020-09-11' '2020-09-12' '2020-09-13' '2020-09-14' '2020-09-15'\n",
      " '2020-09-16' '2020-09-17' '2020-09-18' '2020-09-19' '2020-09-20'\n",
      " '2020-09-21' '2020-09-22' '2020-09-23' '2020-09-24' '2020-09-25'\n",
      " '2020-09-26' '2020-09-27' '2020-09-28' '2020-09-29' '2020-09-30']\n",
      "La date est en septembre : True\n"
     ]
    }
   ],
   "source": [
    "dates = np.arange('2020-09', '2020-10', dtype = 'datetime64[D]') \n",
    "print(\"Dates de septembre 2020 :\\n\", dates) \n",
    "print(\"La date est en septembre :\", date in dates)"
   ]
  },
  {
   "cell_type": "markdown",
   "metadata": {},
   "source": [
    "Ou encore calculer des durées :"
   ]
  },
  {
   "cell_type": "code",
   "execution_count": 26,
   "metadata": {
    "execution": {
     "iopub.execute_input": "2021-03-29T22:15:38.072877Z",
     "iopub.status.busy": "2021-03-29T22:15:38.072379Z",
     "iopub.status.idle": "2021-03-29T22:15:38.076316Z",
     "shell.execute_reply": "2021-03-29T22:15:38.076737Z"
    },
    "tags": []
   },
   "outputs": [
    {
     "name": "stdout",
     "output_type": "stream",
     "text": [
      "No. de jours : 110 days\n",
      "No. de semaines : 15 weeks\n"
     ]
    }
   ],
   "source": [
    "dur = np.datetime64('2021-01-09') - np.datetime64('2020-09-21')\n",
    "print(\"No. de jours :\", dur) \n",
    "print(\"No. de semaines :\", np.timedelta64(dur, 'W')) "
   ]
  },
  {
   "cell_type": "markdown",
   "metadata": {},
   "source": [
    "Ou encore trier un tableau de dates :"
   ]
  },
  {
   "cell_type": "code",
   "execution_count": 27,
   "metadata": {
    "execution": {
     "iopub.execute_input": "2021-03-29T22:15:38.081321Z",
     "iopub.status.busy": "2021-03-29T22:15:38.080154Z",
     "iopub.status.idle": "2021-03-29T22:15:38.084258Z",
     "shell.execute_reply": "2021-03-29T22:15:38.084711Z"
    },
    "tags": []
   },
   "outputs": [
    {
     "name": "stdout",
     "output_type": "stream",
     "text": [
      "Dates triées : ['2017-05-06' '2018-01-19' '2021-11-25']\n"
     ]
    }
   ],
   "source": [
    "a = np.array(['2018-01-19', '2017-05-06', '2021-11-25'], dtype = 'datetime64') \n",
    "print(\"Dates triées :\", np.sort(a))"
   ]
  },
  {
   "cell_type": "markdown",
   "metadata": {},
   "source": [
    "<div class=\"alert alert-info\">\n",
    "\n",
    "**Pour aller plus loin**\n",
    "\n",
    "Le type `datetime64` de Numpy est similaire au type `datetime` de Python. On peut trouver les références [pour Numpy ici](https://numpy.org/doc/stable/reference/arrays.datetime.html#arrays-dtypes-dateunits), et [pour Python ici](https://docs.python.org/3/library/datetime.html#datetime-objects).\n",
    "\n",
    "</div>"
   ]
  },
  {
   "cell_type": "markdown",
   "metadata": {},
   "source": [
    "## Les fonctions mathématiques\n",
    "\n",
    "La force de Numpy est d'avoir de nombreuses fonctions mathématiques prédéfinies que l'on peut utiliser avec comme argument des tableaux Numpy. La plupart de ces fonctions sont vectorisées, c'est-à-dire qu'elles fonctionnent avec des tableaux multidimensionnels, de la même manière que lorsque l'on a utilisé les opérateurs arithmétiques.\n",
    "\n",
    "Voici une liste non exhaustive de fonctions classées par thème. La [liste complète](https://numpy.org/doc/stable/reference/routines.math.html) est dans l'aide de Numpy.\n",
    "\n",
    "fonctions | Numpy\n",
    "--|--\n",
    "Trigonométrique| `sin()`, `cos()`, `tan()`, `degrees()`, `radians()`\n",
    "Somme, produit | `prod()`, `sum()`\n",
    "Exponentielle et logarithme | `exp()`, `log()`, `log10`\n",
    "Autres | `sqrt()`, `fabs()`, `maximum()`, `minimum()`\n",
    "\n",
    "Ces fonctions appartiennent au module Numpy, il ne faut donc pas oublier d'écrire `np.func()` pour les appeler."
   ]
  },
  {
   "cell_type": "markdown",
   "metadata": {},
   "source": [
    "### Exercice\n",
    "\n",
    "Un oscillateur amorti en régime libre à une dimension, lorsque le taux d'amortissement $\\xi$ est faible, se déplace suivant l'équation\n",
    "$$ x(t) = C e^{-\\xi\\omega_0 t} \\sin(\\omega_d t+\\phi) $$\n",
    "avec $x$ la position, $t$ le temps, et $\\omega_d=\\omega_0\\sqrt{1-\\xi^2}$. Vous prendrez comme valeurs : $C=1~\\mathrm{m}$, $\\xi=0.1$, $\\omega_0=1~\\mathrm{s}^{-1}$ et $\\phi=0.2~\\mathrm{rad}$.\n",
    "\n",
    "1. Créer le tableau Numpy `t` contenant 50 valeurs de $t$ entre 0 et 10.\n",
    "2. Calculer alors le tableau Numpy `x` contenant les valeurs de $x$ pour les valeurs correspondantes du tableau `t`, grâce à une unique expression\n",
    "3. Afficher le tableau des positions"
   ]
  },
  {
   "cell_type": "code",
   "execution_count": 28,
   "metadata": {
    "execution": {
     "iopub.execute_input": "2021-03-29T22:15:38.090773Z",
     "iopub.status.busy": "2021-03-29T22:15:38.090268Z",
     "iopub.status.idle": "2021-03-29T22:15:38.094051Z",
     "shell.execute_reply": "2021-03-29T22:15:38.094482Z"
    },
    "tags": [
     "solution"
    ]
   },
   "outputs": [
    {
     "name": "stdout",
     "output_type": "stream",
     "text": [
      "[ 0.19866933  0.38431009  0.54689659  0.6807386   0.78154248  0.84652994\n",
      "  0.87449045  0.86576775  0.82218372  0.74690515  0.64426118  0.51952075\n",
      "  0.37864069  0.227996    0.07410384 -0.07664723 -0.21825188 -0.34531696\n",
      " -0.45325632 -0.53844506 -0.59832852 -0.63148334 -0.63763015 -0.61759912\n",
      " -0.57325189 -0.50736454 -0.42347814 -0.32572417 -0.21863285 -0.10693294\n",
      "  0.00464846  0.11157817  0.20969347  0.29535659  0.3655817   0.41813022\n",
      "  0.45157202  0.46531119  0.45957698  0.43538141  0.39444687  0.3391076\n",
      "  0.27219031  0.19687956  0.11657387  0.03473899 -0.04523576 -0.12017224\n",
      " -0.18722434 -0.24398044]\n"
     ]
    }
   ],
   "source": [
    "# Paramètres\n",
    "C = 1       # m\n",
    "xi = 0.1    # sans unités\n",
    "w0 = 1      # s**-1\n",
    "phi = 0.2   # radians\n",
    "\n",
    "# Tableau des temps\n",
    "t = np.linspace(0, 10, 50) # s\n",
    "\n",
    "# Tableau correspondant des positions\n",
    "x = C * np.exp(-xi * w0 * t) * np.sin(w0 * np.sqrt(1 - xi ** 2) * t + phi)\n",
    "\n",
    "# Affichage des positions\n",
    "print(x)"
   ]
  }
 ],
 "metadata": {
  "kernelspec": {
   "display_name": "Python 3",
   "language": "python",
   "name": "python3"
  },
  "language_info": {
   "codemirror_mode": {
    "name": "ipython",
    "version": 3
   },
   "file_extension": ".py",
   "mimetype": "text/x-python",
   "name": "python",
   "nbconvert_exporter": "python",
   "pygments_lexer": "ipython3",
   "version": "3.6.7"
  }
 },
 "nbformat": 4,
 "nbformat_minor": 4
}
