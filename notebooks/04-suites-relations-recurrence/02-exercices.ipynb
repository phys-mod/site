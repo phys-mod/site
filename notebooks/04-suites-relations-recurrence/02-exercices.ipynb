{
 "cells": [
  {
   "cell_type": "markdown",
   "metadata": {},
   "source": [
    "# Exercices"
   ]
  },
  {
   "cell_type": "markdown",
   "metadata": {},
   "source": [
    "## Compréhension de liste\n",
    "\n",
    "1. Construisez une liste dont les éléments sont les 13 premiers entiers qui ne sont multiples ni de 3 ni de 5. Commencez par faire cet exercice avec des boucles, des tests... vous allez arriver a quelque chose qui va marcher (normalement) mais qui va être lourd à lire et éventuellement à comprendre."
   ]
  },
  {
   "cell_type": "code",
   "execution_count": 1,
   "metadata": {
    "execution": {
     "iopub.execute_input": "2021-03-29T22:16:11.806164Z",
     "iopub.status.busy": "2021-03-29T22:16:11.805268Z",
     "iopub.status.idle": "2021-03-29T22:16:11.816234Z",
     "shell.execute_reply": "2021-03-29T22:16:11.815769Z"
    },
    "tags": [
     "solution"
    ]
   },
   "outputs": [
    {
     "name": "stdout",
     "output_type": "stream",
     "text": [
      "[1, 2, 4, 7, 8, 11, 13, 14, 16, 17, 19, 22, 23]\n"
     ]
    }
   ],
   "source": [
    "k = 1\n",
    "res = []\n",
    "while len(res) < 13:\n",
    "    if k % 3 != 0 and k % 5 != 0:\n",
    "        res.append(k)\n",
    "    k += 1\n",
    "print(res)"
   ]
  },
  {
   "cell_type": "markdown",
   "metadata": {},
   "source": [
    "2. Même exercice avec « simplement » une compréhension de liste."
   ]
  },
  {
   "cell_type": "code",
   "execution_count": 2,
   "metadata": {
    "execution": {
     "iopub.execute_input": "2021-03-29T22:16:11.827089Z",
     "iopub.status.busy": "2021-03-29T22:16:11.826397Z",
     "iopub.status.idle": "2021-03-29T22:16:11.829449Z",
     "shell.execute_reply": "2021-03-29T22:16:11.829871Z"
    },
    "tags": [
     "solution"
    ]
   },
   "outputs": [
    {
     "data": {
      "text/plain": [
       "[1, 2, 4, 7, 8, 11, 13, 14, 16, 17, 19, 22, 23]"
      ]
     },
     "execution_count": 1,
     "metadata": {},
     "output_type": "execute_result"
    }
   ],
   "source": [
    "[k for k in range(40) if k % 3 != 0 and k % 5 != 0][:13]"
   ]
  },
  {
   "cell_type": "markdown",
   "metadata": {},
   "source": [
    "3. Soit la liste suivante :"
   ]
  },
  {
   "cell_type": "code",
   "execution_count": 3,
   "metadata": {
    "execution": {
     "iopub.execute_input": "2021-03-29T22:16:11.834962Z",
     "iopub.status.busy": "2021-03-29T22:16:11.833414Z",
     "iopub.status.idle": "2021-03-29T22:16:11.835569Z",
     "shell.execute_reply": "2021-03-29T22:16:11.835990Z"
    }
   },
   "outputs": [],
   "source": [
    "foo = [2, 5, 12, 31, 2, 17, 31, 42, 2]"
   ]
  },
  {
   "cell_type": "markdown",
   "metadata": {},
   "source": [
    "Pour chaque compréhension ci-dessous, écrire le résultat sur une feuille, puis vérifiez votre résultat à la console :"
   ]
  },
  {
   "cell_type": "code",
   "execution_count": 4,
   "metadata": {
    "execution": {
     "iopub.execute_input": "2021-03-29T22:16:11.841046Z",
     "iopub.status.busy": "2021-03-29T22:16:11.840349Z",
     "iopub.status.idle": "2021-03-29T22:16:11.843531Z",
     "shell.execute_reply": "2021-03-29T22:16:11.843948Z"
    }
   },
   "outputs": [
    {
     "data": {
      "text/plain": [
       "[2, 0, 2, 1, 2, 2, 1, 2, 2]"
      ]
     },
     "execution_count": 1,
     "metadata": {},
     "output_type": "execute_result"
    }
   ],
   "source": [
    "[n % 5 for n in foo]"
   ]
  },
  {
   "cell_type": "code",
   "execution_count": 5,
   "metadata": {
    "execution": {
     "iopub.execute_input": "2021-03-29T22:16:11.848930Z",
     "iopub.status.busy": "2021-03-29T22:16:11.848243Z",
     "iopub.status.idle": "2021-03-29T22:16:11.851191Z",
     "shell.execute_reply": "2021-03-29T22:16:11.851588Z"
    }
   },
   "outputs": [
    {
     "data": {
      "text/plain": [
       "[4, 7, 14, 33, 4, 19, 33]"
      ]
     },
     "execution_count": 1,
     "metadata": {},
     "output_type": "execute_result"
    }
   ],
   "source": [
    "[n + 2 for n in foo[:-2]]"
   ]
  },
  {
   "cell_type": "code",
   "execution_count": 6,
   "metadata": {
    "execution": {
     "iopub.execute_input": "2021-03-29T22:16:11.856497Z",
     "iopub.status.busy": "2021-03-29T22:16:11.855825Z",
     "iopub.status.idle": "2021-03-29T22:16:11.858705Z",
     "shell.execute_reply": "2021-03-29T22:16:11.859117Z"
    }
   },
   "outputs": [
    {
     "data": {
      "text/plain": [
       "[True, False, False, False, False]"
      ]
     },
     "execution_count": 1,
     "metadata": {},
     "output_type": "execute_result"
    }
   ],
   "source": [
    "[n <= 12 for n in foo if n >= 12]"
   ]
  },
  {
   "cell_type": "code",
   "execution_count": 7,
   "metadata": {
    "execution": {
     "iopub.execute_input": "2021-03-29T22:16:11.864041Z",
     "iopub.status.busy": "2021-03-29T22:16:11.863371Z",
     "iopub.status.idle": "2021-03-29T22:16:11.866293Z",
     "shell.execute_reply": "2021-03-29T22:16:11.866696Z"
    }
   },
   "outputs": [
    {
     "data": {
      "text/plain": [
       "['0b11111', '0b10001', '0b11111', '0b101010']"
      ]
     },
     "execution_count": 1,
     "metadata": {},
     "output_type": "execute_result"
    }
   ],
   "source": [
    "[bin(n) for n in foo if n > 15]"
   ]
  },
  {
   "cell_type": "markdown",
   "metadata": {},
   "source": [
    "4. Écrire la liste des lettres qui sont dans la chaîne `ampfusntqnsuet`"
   ]
  },
  {
   "cell_type": "code",
   "execution_count": 8,
   "metadata": {
    "execution": {
     "iopub.execute_input": "2021-03-29T22:16:11.872660Z",
     "iopub.status.busy": "2021-03-29T22:16:11.871598Z",
     "iopub.status.idle": "2021-03-29T22:16:11.874888Z",
     "shell.execute_reply": "2021-03-29T22:16:11.875326Z"
    },
    "tags": [
     "solution"
    ]
   },
   "outputs": [
    {
     "data": {
      "text/plain": [
       "['a', 'm', 'p', 'f', 'u', 's', 'n', 't', 'q', 'n', 's', 'u', 'e', 't']"
      ]
     },
     "execution_count": 1,
     "metadata": {},
     "output_type": "execute_result"
    }
   ],
   "source": [
    "[c for c in 'ampfusntqnsuet']\n",
    "\n",
    "# Ou bien :\n",
    "list(map(lambda x: x, 'ampfusntqnsuet'))"
   ]
  },
  {
   "cell_type": "markdown",
   "metadata": {},
   "source": [
    "5. Soit la liste :"
   ]
  },
  {
   "cell_type": "code",
   "execution_count": 9,
   "metadata": {
    "execution": {
     "iopub.execute_input": "2021-03-29T22:16:11.881060Z",
     "iopub.status.busy": "2021-03-29T22:16:11.879328Z",
     "iopub.status.idle": "2021-03-29T22:16:11.881775Z",
     "shell.execute_reply": "2021-03-29T22:16:11.882214Z"
    }
   },
   "outputs": [],
   "source": [
    "foo = [2, 4, 3, 9, 6, 9, 2, 6, 1, 0, 1, 0, 0, 6, 4, 5, 5, 0]"
   ]
  },
  {
   "cell_type": "markdown",
   "metadata": {},
   "source": [
    "Écrire une liste qui contient les éléments `pair` ou `impair` pour chaque élément de `foo`, suivant que l'élément est pair ou impair."
   ]
  },
  {
   "cell_type": "code",
   "execution_count": 10,
   "metadata": {
    "execution": {
     "iopub.execute_input": "2021-03-29T22:16:11.888457Z",
     "iopub.status.busy": "2021-03-29T22:16:11.887207Z",
     "iopub.status.idle": "2021-03-29T22:16:11.890523Z",
     "shell.execute_reply": "2021-03-29T22:16:11.890959Z"
    },
    "tags": [
     "solution"
    ]
   },
   "outputs": [
    {
     "data": {
      "text/plain": [
       "['pair',\n",
       " 'pair',\n",
       " 'impair',\n",
       " 'impair',\n",
       " 'pair',\n",
       " 'impair',\n",
       " 'pair',\n",
       " 'pair',\n",
       " 'impair',\n",
       " 'pair',\n",
       " 'impair',\n",
       " 'pair',\n",
       " 'pair',\n",
       " 'pair',\n",
       " 'pair',\n",
       " 'impair',\n",
       " 'impair',\n",
       " 'pair']"
      ]
     },
     "execution_count": 1,
     "metadata": {},
     "output_type": "execute_result"
    }
   ],
   "source": [
    "['pair' if i % 2 == 0 else 'impair' for i in foo]"
   ]
  },
  {
   "cell_type": "markdown",
   "metadata": {},
   "source": [
    "6. Écrire par ordre croissant la liste des chiffres impairs dans `foo`. Note : on pourra utiliser la fonction `sorted()`."
   ]
  },
  {
   "cell_type": "code",
   "execution_count": 11,
   "metadata": {
    "execution": {
     "iopub.execute_input": "2021-03-29T22:16:11.897254Z",
     "iopub.status.busy": "2021-03-29T22:16:11.896014Z",
     "iopub.status.idle": "2021-03-29T22:16:11.899167Z",
     "shell.execute_reply": "2021-03-29T22:16:11.899587Z"
    },
    "tags": [
     "solution"
    ]
   },
   "outputs": [
    {
     "data": {
      "text/plain": [
       "[1, 1, 3, 5, 5, 9, 9]"
      ]
     },
     "execution_count": 1,
     "metadata": {},
     "output_type": "execute_result"
    }
   ],
   "source": [
    "[k for k in sorted(foo) if k%2 == 1]\n",
    "\n",
    "# Ou\n",
    "sorted([k for k in foo if k%2 == 1])"
   ]
  },
  {
   "cell_type": "markdown",
   "metadata": {},
   "source": [
    "7. Écrire la liste associée à `foo` indiquant si les éléments sont pairs ou non (avec le booléen `True` ou `False`)."
   ]
  },
  {
   "cell_type": "code",
   "execution_count": 12,
   "metadata": {
    "execution": {
     "iopub.execute_input": "2021-03-29T22:16:11.905853Z",
     "iopub.status.busy": "2021-03-29T22:16:11.904803Z",
     "iopub.status.idle": "2021-03-29T22:16:11.907967Z",
     "shell.execute_reply": "2021-03-29T22:16:11.908386Z"
    },
    "tags": [
     "solution"
    ]
   },
   "outputs": [
    {
     "data": {
      "text/plain": [
       "[True,\n",
       " True,\n",
       " False,\n",
       " False,\n",
       " True,\n",
       " False,\n",
       " True,\n",
       " True,\n",
       " False,\n",
       " True,\n",
       " False,\n",
       " True,\n",
       " True,\n",
       " True,\n",
       " True,\n",
       " False,\n",
       " False,\n",
       " True]"
      ]
     },
     "execution_count": 1,
     "metadata": {},
     "output_type": "execute_result"
    }
   ],
   "source": [
    "[i % 2 == 0 for i in foo]\n",
    "\n",
    "# Ou avec une fonction lambda\n",
    "[(lambda x: x % 2 == 0)(i) for i in foo]"
   ]
  },
  {
   "cell_type": "markdown",
   "metadata": {},
   "source": [
    "8. Soit la liste :"
   ]
  },
  {
   "cell_type": "code",
   "execution_count": 13,
   "metadata": {
    "execution": {
     "iopub.execute_input": "2021-03-29T22:16:11.913674Z",
     "iopub.status.busy": "2021-03-29T22:16:11.912037Z",
     "iopub.status.idle": "2021-03-29T22:16:11.914387Z",
     "shell.execute_reply": "2021-03-29T22:16:11.914842Z"
    }
   },
   "outputs": [],
   "source": [
    "bar = [2.3, 3.2, 5.9, -0.4, 6.2, -4.9, 0.1, -2.7, 4.8, -2.0]"
   ]
  },
  {
   "cell_type": "markdown",
   "metadata": {},
   "source": [
    "Écrire la liste associée à `bar` de la partie entière des nombres positifs. Note : on pourra utiliser la fonction `int()`."
   ]
  },
  {
   "cell_type": "code",
   "execution_count": 14,
   "metadata": {
    "execution": {
     "iopub.execute_input": "2021-03-29T22:16:11.920488Z",
     "iopub.status.busy": "2021-03-29T22:16:11.919469Z",
     "iopub.status.idle": "2021-03-29T22:16:11.922628Z",
     "shell.execute_reply": "2021-03-29T22:16:11.923059Z"
    },
    "tags": [
     "solution"
    ]
   },
   "outputs": [
    {
     "data": {
      "text/plain": [
       "[2, 3, 5, 6, 0, 4]"
      ]
     },
     "execution_count": 1,
     "metadata": {},
     "output_type": "execute_result"
    }
   ],
   "source": [
    "[int(x) for x in bar if x > 0]"
   ]
  },
  {
   "cell_type": "markdown",
   "metadata": {},
   "source": [
    "9. Soit la liste :"
   ]
  },
  {
   "cell_type": "code",
   "execution_count": 15,
   "metadata": {
    "execution": {
     "iopub.execute_input": "2021-03-29T22:16:11.928422Z",
     "iopub.status.busy": "2021-03-29T22:16:11.926713Z",
     "iopub.status.idle": "2021-03-29T22:16:11.929117Z",
     "shell.execute_reply": "2021-03-29T22:16:11.929566Z"
    }
   },
   "outputs": [],
   "source": [
    "baz = ['z', 'a', 'f', 'u', 'a', 'i', 'k', 'o', 'b', 'f', 'y']"
   ]
  },
  {
   "cell_type": "markdown",
   "metadata": {},
   "source": [
    "Écrire la liste des lettres dans `baz` en majuscule. Note : On pourra utiliser la méthode `.upper()`."
   ]
  },
  {
   "cell_type": "code",
   "execution_count": 16,
   "metadata": {
    "execution": {
     "iopub.execute_input": "2021-03-29T22:16:11.935339Z",
     "iopub.status.busy": "2021-03-29T22:16:11.934329Z",
     "iopub.status.idle": "2021-03-29T22:16:11.937500Z",
     "shell.execute_reply": "2021-03-29T22:16:11.937933Z"
    },
    "tags": [
     "solution"
    ]
   },
   "outputs": [
    {
     "data": {
      "text/plain": [
       "['Z', 'A', 'F', 'U', 'A', 'I', 'K', 'O', 'B', 'F', 'Y']"
      ]
     },
     "execution_count": 1,
     "metadata": {},
     "output_type": "execute_result"
    }
   ],
   "source": [
    "[c.upper() for c in baz]"
   ]
  },
  {
   "cell_type": "markdown",
   "metadata": {},
   "source": [
    "## Suite de Fibonacci"
   ]
  },
  {
   "cell_type": "markdown",
   "metadata": {},
   "source": [
    "Leonardo Fibonacci (*circa* 1175 – 1250), mathématicien italien, proposa comme un exercice mathématique amusant le modèle suivant pour décrire la croissance naturelle d’une population de lapins. On suppose qu’on dispose d’un couple de lapins tout juste nés, maintenus isolés de leurs congénères. On suppose de plus que chaque mois, chaque couple âgé d’au moins deux mois engendre un nouveau couple de lapins. On ne tient pas compte de la mortalité naturelle des lapins. Le nombre $C_n$ de couples de lapins suit par conséquent une relation de récurrence,\n",
    "\n",
    "$$\n",
    "C_0 = C_1 = 1 \\ \\ \\ , \\ \\ \\  C_n = C_{n-1}+C_{n-2}\n",
    "$$\n",
    "\n",
    "La suite d’entiers $C_n$ est connue comme la suite de Fibonacci. On commence par inclure les paquets `numpy` et `matplotlib`"
   ]
  },
  {
   "cell_type": "code",
   "execution_count": 17,
   "metadata": {
    "execution": {
     "iopub.execute_input": "2021-03-29T22:16:11.942752Z",
     "iopub.status.busy": "2021-03-29T22:16:11.941787Z",
     "iopub.status.idle": "2021-03-29T22:16:12.267037Z",
     "shell.execute_reply": "2021-03-29T22:16:12.266531Z"
    }
   },
   "outputs": [],
   "source": [
    "import numpy as np\n",
    "import matplotlib.pyplot as plt"
   ]
  },
  {
   "cell_type": "markdown",
   "metadata": {},
   "source": [
    "1. Créez un tableau `ns` de 50 entiers de 0 à 49 inclus."
   ]
  },
  {
   "cell_type": "code",
   "execution_count": 18,
   "metadata": {
    "execution": {
     "iopub.execute_input": "2021-03-29T22:16:12.271286Z",
     "iopub.status.busy": "2021-03-29T22:16:12.270751Z",
     "iopub.status.idle": "2021-03-29T22:16:12.274546Z",
     "shell.execute_reply": "2021-03-29T22:16:12.274110Z"
    },
    "tags": [
     "solution"
    ]
   },
   "outputs": [],
   "source": [
    "N = 50\n",
    "ns = np.arange(50)"
   ]
  },
  {
   "cell_type": "markdown",
   "metadata": {},
   "source": [
    "2. En utilisant une boucle `for`, la valeur des deux premiers termes $C_0$ et $C_1$, et la relation de récurrence, calculez les 50 premières valeurs de cette suite, et stockez-les dans un tableau numpy `C`."
   ]
  },
  {
   "cell_type": "code",
   "execution_count": 19,
   "metadata": {
    "execution": {
     "iopub.execute_input": "2021-03-29T22:16:12.280903Z",
     "iopub.status.busy": "2021-03-29T22:16:12.279162Z",
     "iopub.status.idle": "2021-03-29T22:16:12.281545Z",
     "shell.execute_reply": "2021-03-29T22:16:12.281982Z"
    },
    "tags": [
     "solution"
    ]
   },
   "outputs": [],
   "source": [
    "C = np.empty(N, dtype = 'int64')\n",
    "C[0] = 1\n",
    "C[1] = 1\n",
    "for i in range(2, N):\n",
    "    C[i] = C[i - 1] + C[i - 2]"
   ]
  },
  {
   "cell_type": "markdown",
   "metadata": {},
   "source": [
    "3. Représentez l’évolution du nombre de couples de lapins en fonction du temps (exprimé en mois), pendant 50 mois. Pensez à ajouter un titre, à indiquez les axes et les unités."
   ]
  },
  {
   "cell_type": "code",
   "execution_count": 20,
   "metadata": {
    "execution": {
     "iopub.execute_input": "2021-03-29T22:16:12.332712Z",
     "iopub.status.busy": "2021-03-29T22:16:12.300564Z",
     "iopub.status.idle": "2021-03-29T22:16:12.444203Z",
     "shell.execute_reply": "2021-03-29T22:16:12.444613Z"
    },
    "tags": [
     "solution"
    ]
   },
   "outputs": [
    {
     "data": {
      "image/png": "[encoded data removed]",
      "text/plain": [
       "<Figure size 432x288 with 1 Axes>"
      ]
     },
     "metadata": {
      "needs_background": "light"
     },
     "output_type": "display_data"
    }
   ],
   "source": [
    "plt.plot(ns, C, 'b+-')\n",
    "plt.title(\"Évolution du nombre de couples de lapins\")\n",
    "plt.xlabel(\"Temps [mois]\")\n",
    "plt.ylabel(\"Couples de lapins\")\n",
    "plt.show()"
   ]
  },
  {
   "cell_type": "markdown",
   "metadata": {},
   "source": [
    "4. Ajoutez dans votre programme le calcul de la suite des rapports $r_n$ entre deux termes successifs de la suite de Fibonacci (pour $n$ allant de 1 à 49 inclus) :\n",
    "$$\n",
    "r_n = \\frac{C_n}{C_{n-1}}\n",
    "$$"
   ]
  },
  {
   "cell_type": "code",
   "execution_count": 21,
   "metadata": {
    "execution": {
     "iopub.execute_input": "2021-03-29T22:16:12.451338Z",
     "iopub.status.busy": "2021-03-29T22:16:12.449737Z",
     "iopub.status.idle": "2021-03-29T22:16:12.451935Z",
     "shell.execute_reply": "2021-03-29T22:16:12.452347Z"
    },
    "tags": [
     "solution"
    ]
   },
   "outputs": [],
   "source": [
    "# Avec boucle :\n",
    "r = np.empty((N - 1,))\n",
    "for i in range(N - 1):\n",
    "    r[i] = C[i + 1] / C[i]\n",
    "\n",
    "# Ou sans boucle :\n",
    "r = np.array(C[1:], dtype = 'float') / C[:-1] # Si on veut être sûr des conversions de type\n",
    "# Ou plus simplement :\n",
    "r = C[1:] / C[:-1]"
   ]
  },
  {
   "cell_type": "markdown",
   "metadata": {},
   "source": [
    "5. Tracez le graphe de ce rapport $r_n$ en fonction du mois $n$, pour $n$ allant de 1 à 49 inclus."
   ]
  },
  {
   "cell_type": "code",
   "execution_count": 22,
   "metadata": {
    "execution": {
     "iopub.execute_input": "2021-03-29T22:16:12.469135Z",
     "iopub.status.busy": "2021-03-29T22:16:12.461400Z",
     "iopub.status.idle": "2021-03-29T22:16:12.741720Z",
     "shell.execute_reply": "2021-03-29T22:16:12.742158Z"
    },
    "tags": [
     "solution"
    ]
   },
   "outputs": [
    {
     "data": {
      "image/png": "[encoded data removed]",
      "text/plain": [
       "<Figure size 432x288 with 1 Axes>"
      ]
     },
     "metadata": {
      "needs_background": "light"
     },
     "output_type": "display_data"
    }
   ],
   "source": [
    "plt.plot(ns[1:], r, 'b+-')\n",
    "plt.title(\"Suite de Fibonacci : rapport entre termes successifs\")\n",
    "plt.xlabel(\"Temps $n$ [mois]\")\n",
    "plt.ylabel(\"$r_n = C_n/C_{n-1}$\")\n",
    "plt.show()"
   ]
  },
  {
   "cell_type": "markdown",
   "metadata": {},
   "source": [
    "On peut montrer que le rapport $r_n$ a pour limite le nombre d’or $\\phi = \\frac{1}{2} \\left(1+\\sqrt{5}\\right)$. Pour des $n$ suffisamment grands, la suite $C_n$ tend donc vers une suite géométrique de la forme $A \\phi^n$.\n",
    "\n",
    "6. Tracez les 50 premiers termes de la suite de Fibonacci sur un graphe semi-logarithmique (échelle log selon les ordonnées). La suite de Fibonacci tend-elle bien vers une suite géométrique ?"
   ]
  },
  {
   "cell_type": "code",
   "execution_count": 23,
   "metadata": {
    "execution": {
     "iopub.execute_input": "2021-03-29T22:16:12.761296Z",
     "iopub.status.busy": "2021-03-29T22:16:12.760287Z",
     "iopub.status.idle": "2021-03-29T22:16:12.967892Z",
     "shell.execute_reply": "2021-03-29T22:16:12.968316Z"
    },
    "tags": [
     "solution"
    ]
   },
   "outputs": [
    {
     "data": {
      "image/png": "[encoded data removed]",
      "text/plain": [
       "<Figure size 432x288 with 1 Axes>"
      ]
     },
     "metadata": {
      "needs_background": "light"
     },
     "output_type": "display_data"
    }
   ],
   "source": [
    "plt.semilogy(ns, C, 'b+-')\n",
    "plt.title(\"Suite de Fibonacci\")\n",
    "plt.xlabel(\"Temps [mois]\")\n",
    "plt.ylabel(\"Couples de lapins\")\n",
    "plt.show()"
   ]
  },
  {
   "cell_type": "markdown",
   "metadata": {},
   "source": [
    "Comme la suite $C_n$ tend vers une suite géométrique, on a de manière immédiate :\n",
    "$$\n",
    "\\lim\\limits_{n \\rightarrow \\infty} D_n = \\lim\\limits_{n \\rightarrow \\infty} \\log(C_n) = \\log A + n \\log \\phi\n",
    "$$\n",
    "\n",
    "7. Calculez la suite $D_n$ et stockez-la dans un tableau numpy."
   ]
  },
  {
   "cell_type": "code",
   "execution_count": 24,
   "metadata": {
    "execution": {
     "iopub.execute_input": "2021-03-29T22:16:12.973430Z",
     "iopub.status.busy": "2021-03-29T22:16:12.971979Z",
     "iopub.status.idle": "2021-03-29T22:16:12.974145Z",
     "shell.execute_reply": "2021-03-29T22:16:12.974557Z"
    },
    "tags": [
     "solution"
    ]
   },
   "outputs": [],
   "source": [
    "D = np.log(C)"
   ]
  },
  {
   "cell_type": "markdown",
   "metadata": {},
   "source": [
    "## Récursion\n",
    "1. Écrire une [fonction factorielle](https://fr.wikipedia.org/wiki/Factorielle) en utilisant la récursion, et proposer un test avec `assert`"
   ]
  },
  {
   "cell_type": "code",
   "execution_count": 25,
   "metadata": {
    "execution": {
     "iopub.execute_input": "2021-03-29T22:16:12.980471Z",
     "iopub.status.busy": "2021-03-29T22:16:12.978967Z",
     "iopub.status.idle": "2021-03-29T22:16:12.981105Z",
     "shell.execute_reply": "2021-03-29T22:16:12.981561Z"
    },
    "tags": [
     "solution"
    ]
   },
   "outputs": [],
   "source": [
    "# Définition de la fonction factorielle\n",
    "def factorielle(x):\n",
    "    ''' Retourne la factorielle du nombre x '''\n",
    "    if x == 1:\n",
    "        return 1\n",
    "    else:\n",
    "        return x * factorielle(x - 1)\n",
    "\n",
    "# Test de la fonction\n",
    "assert factorielle(6) == 720"
   ]
  },
  {
   "cell_type": "markdown",
   "metadata": {},
   "source": [
    "2. Écrire une fonction récursive de signature `pascal(n)` qui prend comme argument un entier $n$, et qui retourne la liste contenant les coefficients de la ligne $n$ du triangle de Pascal. Utiliserer pour cela une boucle `for`. Proposer un test de la fontion avec `assert`."
   ]
  },
  {
   "cell_type": "code",
   "execution_count": 26,
   "metadata": {
    "execution": {
     "iopub.execute_input": "2021-03-29T22:16:12.988233Z",
     "iopub.status.busy": "2021-03-29T22:16:12.986588Z",
     "iopub.status.idle": "2021-03-29T22:16:12.988850Z",
     "shell.execute_reply": "2021-03-29T22:16:12.989254Z"
    },
    "tags": [
     "solution"
    ]
   },
   "outputs": [],
   "source": [
    "# Définition de la fonction pascal\n",
    "def pascal(n):\n",
    "    ''' Retourne la ligne n du triangle de Pascal '''\n",
    "    if n == 1:\n",
    "        return [1]\n",
    "    else:\n",
    "        previous_line = pascal(n - 1)\n",
    "        line = [1]\n",
    "        for i in range(len(previous_line) - 1):\n",
    "            line += [previous_line[i] + previous_line[i + 1]]\n",
    "        line += [1]\n",
    "        return line\n",
    "\n",
    "# Test de la fonction\n",
    "assert pascal(6) == [1, 5, 10, 10, 5, 1]"
   ]
  },
  {
   "cell_type": "markdown",
   "metadata": {},
   "source": [
    "3. Même question avec une compréhension de liste au lieu de la boucle `for`."
   ]
  },
  {
   "cell_type": "code",
   "execution_count": 27,
   "metadata": {
    "execution": {
     "iopub.execute_input": "2021-03-29T22:16:12.995556Z",
     "iopub.status.busy": "2021-03-29T22:16:12.994007Z",
     "iopub.status.idle": "2021-03-29T22:16:12.996174Z",
     "shell.execute_reply": "2021-03-29T22:16:12.996572Z"
    },
    "tags": [
     "solution"
    ]
   },
   "outputs": [],
   "source": [
    "# Définition de la fonction pascal\n",
    "def pascal(n):\n",
    "    ''' Retourne la ligne n du triangle de Pascal '''\n",
    "    if n == 1:\n",
    "        return [1]\n",
    "    else:\n",
    "        p_line = pascal(n - 1)\n",
    "        return [1] + [p_line[i] + p_line[i + 1] for i in range(len(p_line) - 1)] + [1]\n",
    "\n",
    "# Test de la fonction\n",
    "assert pascal(6) == [1, 5, 10, 10, 5, 1]"
   ]
  },
  {
   "cell_type": "code",
   "execution_count": 28,
   "metadata": {
    "execution": {
     "iopub.execute_input": "2021-03-29T22:16:13.003928Z",
     "iopub.status.busy": "2021-03-29T22:16:13.003123Z",
     "iopub.status.idle": "2021-03-29T22:16:17.558321Z",
     "shell.execute_reply": "2021-03-29T22:16:17.558854Z"
    }
   },
   "outputs": [
    {
     "ename": "RecursionError",
     "evalue": "maximum recursion depth exceeded in comparison",
     "output_type": "error",
     "traceback": [
      "\u001b[0;31m---------------------------------------------------------------------------\u001b[0m",
      "\u001b[0;31mRecursionError\u001b[0m                            Traceback (most recent call last)",
      "\u001b[0;32m<ipython-input-1-3ee2c2a92af1>\u001b[0m in \u001b[0;36m<module>\u001b[0;34m\u001b[0m\n\u001b[1;32m      1\u001b[0m \u001b[0;32mfor\u001b[0m \u001b[0mi\u001b[0m \u001b[0;32min\u001b[0m \u001b[0mrange\u001b[0m\u001b[0;34m(\u001b[0m\u001b[0;36m10\u001b[0m\u001b[0;34m)\u001b[0m\u001b[0;34m:\u001b[0m\u001b[0;34m\u001b[0m\u001b[0;34m\u001b[0m\u001b[0m\n\u001b[0;32m----> 2\u001b[0;31m     \u001b[0mprint\u001b[0m\u001b[0;34m(\u001b[0m\u001b[0mpascal\u001b[0m\u001b[0;34m(\u001b[0m\u001b[0mi\u001b[0m\u001b[0;34m)\u001b[0m\u001b[0;34m)\u001b[0m\u001b[0;34m\u001b[0m\u001b[0;34m\u001b[0m\u001b[0m\n\u001b[0m",
      "\u001b[0;32m<ipython-input-1-e6131c2c86c0>\u001b[0m in \u001b[0;36mpascal\u001b[0;34m(n)\u001b[0m\n\u001b[1;32m      5\u001b[0m         \u001b[0;32mreturn\u001b[0m \u001b[0;34m[\u001b[0m\u001b[0;36m1\u001b[0m\u001b[0;34m]\u001b[0m\u001b[0;34m\u001b[0m\u001b[0;34m\u001b[0m\u001b[0m\n\u001b[1;32m      6\u001b[0m     \u001b[0;32melse\u001b[0m\u001b[0;34m:\u001b[0m\u001b[0;34m\u001b[0m\u001b[0;34m\u001b[0m\u001b[0m\n\u001b[0;32m----> 7\u001b[0;31m         \u001b[0mp_line\u001b[0m \u001b[0;34m=\u001b[0m \u001b[0mpascal\u001b[0m\u001b[0;34m(\u001b[0m\u001b[0mn\u001b[0m \u001b[0;34m-\u001b[0m \u001b[0;36m1\u001b[0m\u001b[0;34m)\u001b[0m\u001b[0;34m\u001b[0m\u001b[0;34m\u001b[0m\u001b[0m\n\u001b[0m\u001b[1;32m      8\u001b[0m         \u001b[0;32mreturn\u001b[0m \u001b[0;34m[\u001b[0m\u001b[0;36m1\u001b[0m\u001b[0;34m]\u001b[0m \u001b[0;34m+\u001b[0m \u001b[0;34m[\u001b[0m\u001b[0mp_line\u001b[0m\u001b[0;34m[\u001b[0m\u001b[0mi\u001b[0m\u001b[0;34m]\u001b[0m \u001b[0;34m+\u001b[0m \u001b[0mp_line\u001b[0m\u001b[0;34m[\u001b[0m\u001b[0mi\u001b[0m \u001b[0;34m+\u001b[0m \u001b[0;36m1\u001b[0m\u001b[0;34m]\u001b[0m \u001b[0;32mfor\u001b[0m \u001b[0mi\u001b[0m \u001b[0;32min\u001b[0m \u001b[0mrange\u001b[0m\u001b[0;34m(\u001b[0m\u001b[0mlen\u001b[0m\u001b[0;34m(\u001b[0m\u001b[0mp_line\u001b[0m\u001b[0;34m)\u001b[0m \u001b[0;34m-\u001b[0m \u001b[0;36m1\u001b[0m\u001b[0;34m)\u001b[0m\u001b[0;34m]\u001b[0m \u001b[0;34m+\u001b[0m \u001b[0;34m[\u001b[0m\u001b[0;36m1\u001b[0m\u001b[0;34m]\u001b[0m\u001b[0;34m\u001b[0m\u001b[0;34m\u001b[0m\u001b[0m\n\u001b[1;32m      9\u001b[0m \u001b[0;34m\u001b[0m\u001b[0m\n",
      "... last 1 frames repeated, from the frame below ...\n",
      "\u001b[0;32m<ipython-input-1-e6131c2c86c0>\u001b[0m in \u001b[0;36mpascal\u001b[0;34m(n)\u001b[0m\n\u001b[1;32m      5\u001b[0m         \u001b[0;32mreturn\u001b[0m \u001b[0;34m[\u001b[0m\u001b[0;36m1\u001b[0m\u001b[0;34m]\u001b[0m\u001b[0;34m\u001b[0m\u001b[0;34m\u001b[0m\u001b[0m\n\u001b[1;32m      6\u001b[0m     \u001b[0;32melse\u001b[0m\u001b[0;34m:\u001b[0m\u001b[0;34m\u001b[0m\u001b[0;34m\u001b[0m\u001b[0m\n\u001b[0;32m----> 7\u001b[0;31m         \u001b[0mp_line\u001b[0m \u001b[0;34m=\u001b[0m \u001b[0mpascal\u001b[0m\u001b[0;34m(\u001b[0m\u001b[0mn\u001b[0m \u001b[0;34m-\u001b[0m \u001b[0;36m1\u001b[0m\u001b[0;34m)\u001b[0m\u001b[0;34m\u001b[0m\u001b[0;34m\u001b[0m\u001b[0m\n\u001b[0m\u001b[1;32m      8\u001b[0m         \u001b[0;32mreturn\u001b[0m \u001b[0;34m[\u001b[0m\u001b[0;36m1\u001b[0m\u001b[0;34m]\u001b[0m \u001b[0;34m+\u001b[0m \u001b[0;34m[\u001b[0m\u001b[0mp_line\u001b[0m\u001b[0;34m[\u001b[0m\u001b[0mi\u001b[0m\u001b[0;34m]\u001b[0m \u001b[0;34m+\u001b[0m \u001b[0mp_line\u001b[0m\u001b[0;34m[\u001b[0m\u001b[0mi\u001b[0m \u001b[0;34m+\u001b[0m \u001b[0;36m1\u001b[0m\u001b[0;34m]\u001b[0m \u001b[0;32mfor\u001b[0m \u001b[0mi\u001b[0m \u001b[0;32min\u001b[0m \u001b[0mrange\u001b[0m\u001b[0;34m(\u001b[0m\u001b[0mlen\u001b[0m\u001b[0;34m(\u001b[0m\u001b[0mp_line\u001b[0m\u001b[0;34m)\u001b[0m \u001b[0;34m-\u001b[0m \u001b[0;36m1\u001b[0m\u001b[0;34m)\u001b[0m\u001b[0;34m]\u001b[0m \u001b[0;34m+\u001b[0m \u001b[0;34m[\u001b[0m\u001b[0;36m1\u001b[0m\u001b[0;34m]\u001b[0m\u001b[0;34m\u001b[0m\u001b[0;34m\u001b[0m\u001b[0m\n\u001b[1;32m      9\u001b[0m \u001b[0;34m\u001b[0m\u001b[0m\n",
      "\u001b[0;31mRecursionError\u001b[0m: maximum recursion depth exceeded in comparison"
     ]
    }
   ],
   "source": [
    "for i in range(10):\n",
    "    print(pascal(i))"
   ]
  },
  {
   "cell_type": "code",
   "execution_count": 29,
   "metadata": {
    "execution": {
     "iopub.execute_input": "2021-03-29T22:16:17.566460Z",
     "iopub.status.busy": "2021-03-29T22:16:17.564747Z",
     "iopub.status.idle": "2021-03-29T22:16:17.567072Z",
     "shell.execute_reply": "2021-03-29T22:16:17.567495Z"
    }
   },
   "outputs": [],
   "source": [
    "# Complément : usage des tableaux NumPy\n",
    "\n",
    "# Définition de la fonction pascal\n",
    "def pascal(n):\n",
    "    ''' Retourne la ligne n du triangle de Pascal '''\n",
    "    if n == 1:\n",
    "        return np.array([1])\n",
    "    else:\n",
    "        precedent = pascal(n - 1)\n",
    "        return np.concatenate(([1], precedent[:-1] + precedent[1:], [1]))\n",
    "\n",
    "# Test de la fonction\n",
    "assert (pascal(6) == np.array([1, 5, 10, 10, 5, 1])).all()"
   ]
  }
 ],
 "metadata": {
  "kernelspec": {
   "display_name": "Python 3",
   "language": "python",
   "name": "python3"
  },
  "language_info": {
   "codemirror_mode": {
    "name": "ipython",
    "version": 3
   },
   "file_extension": ".py",
   "mimetype": "text/x-python",
   "name": "python",
   "nbconvert_exporter": "python",
   "pygments_lexer": "ipython3",
   "version": "3.6.7"
  }
 },
 "nbformat": 4,
 "nbformat_minor": 4
}
