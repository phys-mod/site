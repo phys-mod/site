{
 "cells": [
  {
   "cell_type": "markdown",
   "metadata": {},
   "source": [
    "# Représentation graphique d'une suite mathématique\n",
    "Nous introduisons la suite $a_n$ définie par :\n",
    "\n",
    "$$\n",
    "a_n = \\frac{3n-5}{2n+2}\n",
    "$$\n",
    "\n",
    "où $a_n$ est un nombre réel et $n$ un entier positif.\n",
    "\n",
    "Nous pouvons calculer la liste des $N$ premiers éléments de cette suite avec une fonction et une compréhension de liste :"
   ]
  },
  {
   "cell_type": "code",
   "execution_count": 1,
   "metadata": {
    "execution": {
     "iopub.execute_input": "2021-03-29T22:16:19.464215Z",
     "iopub.status.busy": "2021-03-29T22:16:19.463341Z",
     "iopub.status.idle": "2021-03-29T22:16:19.473708Z",
     "shell.execute_reply": "2021-03-29T22:16:19.473203Z"
    }
   },
   "outputs": [],
   "source": [
    "# Nombre de termes\n",
    "N = 25\n",
    "\n",
    "# Définition de la fonction F\n",
    "def F(n):\n",
    "    ''' Retourne l'élément Sn de la suite '''\n",
    "    return (3 * n - 5) / (2 * n + 2)\n",
    "\n",
    "# Liste des éléments\n",
    "liste_elements = [F(k) for k in range(N)]"
   ]
  },
  {
   "cell_type": "markdown",
   "metadata": {},
   "source": [
    "Dans ce cas, la suite n'est qu'une version discrète de la fonction `F`. Nous pouvons représenter sur un même graphique les éléments de la suite et la fonction :"
   ]
  },
  {
   "cell_type": "code",
   "execution_count": 2,
   "metadata": {
    "execution": {
     "iopub.execute_input": "2021-03-29T22:16:19.479199Z",
     "iopub.status.busy": "2021-03-29T22:16:19.478292Z",
     "iopub.status.idle": "2021-03-29T22:16:19.944826Z",
     "shell.execute_reply": "2021-03-29T22:16:19.945246Z"
    }
   },
   "outputs": [
    {
     "data": {
      "image/png": "[encoded data removed]",
      "text/plain": [
       "<Figure size 432x288 with 1 Axes>"
      ]
     },
     "metadata": {
      "needs_background": "light"
     },
     "output_type": "display_data"
    }
   ],
   "source": [
    "# Import des modules\n",
    "import numpy as np\n",
    "import matplotlib.pyplot as plt\n",
    "\n",
    "# Tracé de la fonction\n",
    "x = np.linspace(0, N)\n",
    "plt.plot(x, F(x))\n",
    "\n",
    "# Tracé des éléments de la suite\n",
    "plt.plot(range(N), liste_elements, 'og')\n",
    "plt.show()"
   ]
  },
  {
   "cell_type": "markdown",
   "metadata": {},
   "source": [
    "Pour illustrer la façon donc chaque élément est calculé, on peut relier l'argument de la fonction et son image par un segment :"
   ]
  },
  {
   "cell_type": "code",
   "execution_count": 3,
   "metadata": {
    "execution": {
     "iopub.execute_input": "2021-03-29T22:16:20.019993Z",
     "iopub.status.busy": "2021-03-29T22:16:19.996108Z",
     "iopub.status.idle": "2021-03-29T22:16:20.127979Z",
     "shell.execute_reply": "2021-03-29T22:16:20.128417Z"
    }
   },
   "outputs": [
    {
     "data": {
      "image/png": "[encoded data removed]",
      "text/plain": [
       "<Figure size 432x288 with 1 Axes>"
      ]
     },
     "metadata": {
      "needs_background": "light"
     },
     "output_type": "display_data"
    }
   ],
   "source": [
    "# Tracé de la fonction\n",
    "x = np.linspace(0, N)\n",
    "plt.plot(x, F(x))\n",
    "\n",
    "# Tracé des éléments de la suite\n",
    "plt.plot(range(N), liste_elements, 'og')\n",
    "\n",
    "# Tracé de la ligne y = 0\n",
    "plt.plot([0, N], [0, 0], 'g')\n",
    "\n",
    "# Tracé des segments\n",
    "for k in range(N):\n",
    "    plt.plot([k, k], [0, F(k)], 'k')\n",
    "\n",
    "plt.show()"
   ]
  },
  {
   "cell_type": "markdown",
   "metadata": {},
   "source": [
    "Un peu plus intéressant, introduisons maintenant la suite $u_n$ définie par récurrence :\n",
    "\n",
    "$$\n",
    "u_{n+1} = u_n - \\ln{u_n}\n",
    "$$\n",
    "\n",
    "Une écriture équivalente est :\n",
    "\n",
    "$$\n",
    "u_{n+1} = G(u_n), \\ \\text{avec} \\ G(x) = x - \\ln{x}\n",
    "$$"
   ]
  },
  {
   "cell_type": "markdown",
   "metadata": {},
   "source": [
    "Ainsi, le terme $n+1$ est trouvé en prenant l'image par la fonction $G$ du terme $n$. Supposons que $u_0=10$, on peut alors calculer $u_1$ :"
   ]
  },
  {
   "cell_type": "code",
   "execution_count": 4,
   "metadata": {
    "execution": {
     "iopub.execute_input": "2021-03-29T22:16:20.133897Z",
     "iopub.status.busy": "2021-03-29T22:16:20.133375Z",
     "iopub.status.idle": "2021-03-29T22:16:20.137678Z",
     "shell.execute_reply": "2021-03-29T22:16:20.136958Z"
    },
    "tags": []
   },
   "outputs": [
    {
     "name": "stdout",
     "output_type": "stream",
     "text": [
      "7.697414907005954\n",
      "5.656530360877891\n"
     ]
    }
   ],
   "source": [
    "# Initialisation de la suite\n",
    "u0 = 10\n",
    "\n",
    "# Définition de la fonction G\n",
    "def G(x):\n",
    "    return x - np.log(x)\n",
    "\n",
    "# Calcul des termes suivants\n",
    "u1 = G(u0)\n",
    "u2 = G(u1)\n",
    "\n",
    "# Affichage\n",
    "print(u1)\n",
    "print(u2)"
   ]
  },
  {
   "cell_type": "markdown",
   "metadata": {},
   "source": [
    "On peut illustrer cela sur le graphique suivant. D'abord, on trace la bissectrice $y=x$ et la fonction $G$. Ensuite, pour trouver $u_1$ :\n",
    "\n",
    "1. on place le point $U_0 \\ (x=u_0, y=u_0)$ sur la bissectrice\n",
    "2. on place le point $U_{01} \\ (x=u_0, y=G(u_0)=u_1)$ sur la fonction $G$ en traçant une ligne verticale depuis le point $U_0$\n",
    "\n",
    "Pour trouver le point suivant :\n",
    "\n",
    "3. on place le point $U_1 \\ (x=u_1, y=u_1)$ sur la bissectrice en traçant une ligne horizontale depuis le point $U_{01}$\n",
    "4. on place le point $U_{12} \\ (x=u_1, y=G(u_1)=u_2)$ sur la fonction $G$ en traçant une ligne verticale depuis le point $U_1$\n",
    "\n",
    "et ainsi de suite ..."
   ]
  },
  {
   "cell_type": "code",
   "execution_count": 5,
   "metadata": {
    "execution": {
     "iopub.execute_input": "2021-03-29T22:16:20.186924Z",
     "iopub.status.busy": "2021-03-29T22:16:20.173372Z",
     "iopub.status.idle": "2021-03-29T22:16:20.286812Z",
     "shell.execute_reply": "2021-03-29T22:16:20.286335Z"
    }
   },
   "outputs": [
    {
     "data": {
      "image/png": "[encoded data removed]",
      "text/plain": [
       "<Figure size 432x288 with 1 Axes>"
      ]
     },
     "metadata": {
      "needs_background": "light"
     },
     "output_type": "display_data"
    }
   ],
   "source": [
    "# Limites des abscisses\n",
    "xb = 1e-3\n",
    "xe = 12\n",
    "\n",
    "# Tracé de la bissectrice et de la fonction G\n",
    "x = np.linspace(xb, xe)\n",
    "plt.plot(x, x)\n",
    "plt.plot(x, G(x))\n",
    "\n",
    "# Étape 1 : point U0\n",
    "plt.plot([u0], [u0], 'og')\n",
    "\n",
    "# Étape 2 : image du point U0 avec une ligne \n",
    "#   verticale -> U_01\n",
    "u1 = G(u0)\n",
    "plt.plot([u0, u0], [u0, u1], 'k')\n",
    "plt.plot([u0], [u1], 'og')\n",
    "\n",
    "# Étape 3 : placer le point U1 sur la bissectrice \n",
    "#   avec une ligne horizontale depuis U_01\n",
    "plt.plot([u0, u1], [u1, u1], 'k')\n",
    "plt.plot([u1], [u1], 'og')\n",
    "\n",
    "# Étape 4 : image du point U1 avec une ligne \n",
    "#   verticale -> U_12\n",
    "u2 = G(u1)\n",
    "plt.plot([u1, u1], [u1, u2], 'k')\n",
    "plt.plot([u1], [u2], 'og')\n",
    "\n",
    "plt.show()"
   ]
  },
  {
   "cell_type": "markdown",
   "metadata": {},
   "source": [
    "On voit que cette visualisation peut se généraliser à N points avec une boucle `for` :"
   ]
  },
  {
   "cell_type": "code",
   "execution_count": 6,
   "metadata": {
    "execution": {
     "iopub.execute_input": "2021-03-29T22:16:20.371419Z",
     "iopub.status.busy": "2021-03-29T22:16:20.317567Z",
     "iopub.status.idle": "2021-03-29T22:16:20.488099Z",
     "shell.execute_reply": "2021-03-29T22:16:20.488511Z"
    }
   },
   "outputs": [
    {
     "data": {
      "image/png": "[encoded data removed]",
      "text/plain": [
       "<Figure size 432x288 with 1 Axes>"
      ]
     },
     "metadata": {
      "needs_background": "light"
     },
     "output_type": "display_data"
    }
   ],
   "source": [
    "# Limites des abscisses et nombre de récurrence\n",
    "xb = 1e-3\n",
    "xe = 12\n",
    "N = 10\n",
    "\n",
    "# Tracé de la bissectrice et de la fonction G\n",
    "x = np.linspace(xb, xe)\n",
    "plt.plot(x, x)\n",
    "plt.plot(x, G(x))\n",
    "\n",
    "# Initialisation\n",
    "plt.plot([u0], [u0], 'og')\n",
    "\n",
    "# Récurrence\n",
    "for k in range(N):\n",
    "    # Étape 2 : image du point U0 avec une ligne \n",
    "    #   verticale -> U_01\n",
    "    u1 = G(u0)\n",
    "    plt.plot([u0, u0], [u0, u1], 'k')\n",
    "    plt.plot([u0], [u1], 'og')\n",
    "    # Étape 3 : placer le point U1 sur la bissectrice \n",
    "    #   avec une ligne horizontale depuis U_01\n",
    "    plt.plot([u0, u1], [u1, u1], 'k')\n",
    "    plt.plot([u1], [u1], 'og')\n",
    "    # Récurrence :\n",
    "    u0 = u1"
   ]
  },
  {
   "cell_type": "markdown",
   "metadata": {},
   "source": [
    "On voit que la suite tend vers une limite finie."
   ]
  }
 ],
 "metadata": {
  "kernelspec": {
   "display_name": "Python 3",
   "language": "python",
   "name": "python3"
  },
  "language_info": {
   "codemirror_mode": {
    "name": "ipython",
    "version": 3
   },
   "file_extension": ".py",
   "mimetype": "text/x-python",
   "name": "python",
   "nbconvert_exporter": "python",
   "pygments_lexer": "ipython3",
   "version": "3.6.7"
  }
 },
 "nbformat": 4,
 "nbformat_minor": 4
}
