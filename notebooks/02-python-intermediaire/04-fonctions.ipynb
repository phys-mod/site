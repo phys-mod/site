{
 "cells": [
  {
   "cell_type": "markdown",
   "metadata": {},
   "source": [
    "# Fonctions"
   ]
  },
  {
   "cell_type": "markdown",
   "metadata": {},
   "source": [
    "## Créer de nouvelles fonctions\n",
    "Jusqu'à maintenant nous avons utilisé des fonctions déjà définies dans Python ou dans des modules. Cependant, il est possible de définir ses propres fonctions. Au minimum, la définition d'une fonction spécifie le *nom de la fonction*, et le *bloc d'instructions* à exécuter lorsque la fonction est appelée.\n",
    "\n",
    "Voici par exemple une fonction qui, lorsqu'on l'appelle, affiche la chaîne de caractères `\"en forme\"` :"
   ]
  },
  {
   "cell_type": "code",
   "execution_count": 1,
   "metadata": {
    "execution": {
     "iopub.execute_input": "2021-03-29T22:15:55.143359Z",
     "iopub.status.busy": "2021-03-29T22:15:55.142498Z",
     "iopub.status.idle": "2021-03-29T22:15:55.152157Z",
     "shell.execute_reply": "2021-03-29T22:15:55.152563Z"
    },
    "tags": []
   },
   "outputs": [
    {
     "name": "stdout",
     "output_type": "stream",
     "text": [
      "en forme\n"
     ]
    }
   ],
   "source": [
    "# Définition de la fonction state\n",
    "def state():\n",
    "    print(\"en forme\")\n",
    "\n",
    "# Appel de la fonction\n",
    "state()"
   ]
  },
  {
   "cell_type": "markdown",
   "metadata": {},
   "source": [
    "Pour définir la fonction, on a utilisé l'instruction `def` suivie du nom de la fonction, `state`, de deux parenthèses et de deux points : c'est **l'en-tête** de la fonction. Cet en-tête est suivi par le bloc d'instructions, qui est indenté, et peut contenir n'importe quel nombre d'instructions. La définition de la fonction se termine lorsque l'indentation est terminée.\n",
    "\n",
    "Pour appeler la fonction une fois qu'elle est définie, il suffit d'écrire son nom suivi de parenthèses, comme pour les fonctions pré-définies.\n",
    "\n",
    "Il est possible de créer de nouvelles variables à l'intérieur d'une fonction :"
   ]
  },
  {
   "cell_type": "code",
   "execution_count": 2,
   "metadata": {
    "execution": {
     "iopub.execute_input": "2021-03-29T22:15:55.158342Z",
     "iopub.status.busy": "2021-03-29T22:15:55.156732Z",
     "iopub.status.idle": "2021-03-29T22:15:55.160043Z",
     "shell.execute_reply": "2021-03-29T22:15:55.159612Z"
    },
    "tags": []
   },
   "outputs": [
    {
     "name": "stdout",
     "output_type": "stream",
     "text": [
      "Je suis en forme\n"
     ]
    }
   ],
   "source": [
    "# Définition de la fonction state\n",
    "def state():\n",
    "    my_state = \"Je suis \" + \"en forme\"\n",
    "    print(my_state)\n",
    "\n",
    "# Appel de la fonction\n",
    "state()"
   ]
  },
  {
   "cell_type": "markdown",
   "metadata": {},
   "source": [
    "Ici nous avons re-défini la fonction `state`, et à l'intérieur de cette fonction nous avons défini la variable `my_state`, qui est le résultat d'une concaténation de chaînes de caractères. Cette variable n'existe pas en dehors du *champ* de la fonction, elle est détruite à la fin de l'exécution du bloc d'instructions. Ainsi, le code suivant produit une erreur :"
   ]
  },
  {
   "cell_type": "code",
   "execution_count": 3,
   "metadata": {
    "execution": {
     "iopub.execute_input": "2021-03-29T22:15:55.165084Z",
     "iopub.status.busy": "2021-03-29T22:15:55.164252Z",
     "iopub.status.idle": "2021-03-29T22:15:55.215692Z",
     "shell.execute_reply": "2021-03-29T22:15:55.215225Z"
    }
   },
   "outputs": [
    {
     "name": "stdout",
     "output_type": "stream",
     "text": [
      "Je suis en forme\n"
     ]
    },
    {
     "ename": "NameError",
     "evalue": "name 'my_state' is not defined",
     "output_type": "error",
     "traceback": [
      "\u001b[0;31m---------------------------------------------------------------------------\u001b[0m",
      "\u001b[0;31mNameError\u001b[0m                                 Traceback (most recent call last)",
      "\u001b[0;32m<ipython-input-1-7d2a4bb2f182>\u001b[0m in \u001b[0;36m<module>\u001b[0;34m\u001b[0m\n\u001b[1;32m      8\u001b[0m \u001b[0;34m\u001b[0m\u001b[0m\n\u001b[1;32m      9\u001b[0m \u001b[0;31m# Test de l'usage de la variable my_state\u001b[0m\u001b[0;34m\u001b[0m\u001b[0;34m\u001b[0m\u001b[0;34m\u001b[0m\u001b[0m\n\u001b[0;32m---> 10\u001b[0;31m \u001b[0mprint\u001b[0m\u001b[0;34m(\u001b[0m\u001b[0mmy_state\u001b[0m\u001b[0;34m)\u001b[0m\u001b[0;34m\u001b[0m\u001b[0;34m\u001b[0m\u001b[0m\n\u001b[0m",
      "\u001b[0;31mNameError\u001b[0m: name 'my_state' is not defined"
     ]
    }
   ],
   "source": [
    "# Définition de la fonction state\n",
    "def state():\n",
    "    my_state = \"Je suis \" + \"en forme\"\n",
    "    print(my_state)\n",
    "\n",
    "# Appel de la fonction\n",
    "state()\n",
    "\n",
    "# Test de l'usage de la variable my_state\n",
    "print(my_state)"
   ]
  },
  {
   "cell_type": "markdown",
   "metadata": {},
   "source": [
    "### Exercice\n",
    "Créer une fonction nommée `cube`. Dans le bloc d'instructions, calculer le cube du chiffre 3 (sans utiliser de fonction pré-définie) et affecter le résultat à une variable nommée `result`, puis afficher à l'écran cette variable. Tester votre fonction en l'appelant. "
   ]
  },
  {
   "cell_type": "code",
   "execution_count": 4,
   "metadata": {
    "execution": {
     "iopub.execute_input": "2021-03-29T22:15:55.221668Z",
     "iopub.status.busy": "2021-03-29T22:15:55.220076Z",
     "iopub.status.idle": "2021-03-29T22:15:55.223353Z",
     "shell.execute_reply": "2021-03-29T22:15:55.222913Z"
    },
    "tags": [
     "solution"
    ]
   },
   "outputs": [
    {
     "name": "stdout",
     "output_type": "stream",
     "text": [
      "27\n"
     ]
    }
   ],
   "source": [
    "# Définition de la fonction cube\n",
    "def cube():\n",
    "    result = 3 * 3 * 3\n",
    "    print(result)\n",
    "\n",
    "# Appel de la fonction\n",
    "cube()"
   ]
  },
  {
   "cell_type": "markdown",
   "metadata": {},
   "source": [
    "## Paramètres et arguments\n",
    "La plupart des fonctions pré-définies que nous avons vues nécessitent des *arguments*. Par exemple :"
   ]
  },
  {
   "cell_type": "code",
   "execution_count": 5,
   "metadata": {
    "execution": {
     "iopub.execute_input": "2021-03-29T22:15:55.233182Z",
     "iopub.status.busy": "2021-03-29T22:15:55.230911Z",
     "iopub.status.idle": "2021-03-29T22:15:55.235704Z",
     "shell.execute_reply": "2021-03-29T22:15:55.236120Z"
    }
   },
   "outputs": [
    {
     "data": {
      "text/plain": [
       "'2'"
      ]
     },
     "execution_count": 1,
     "metadata": {},
     "output_type": "execute_result"
    }
   ],
   "source": [
    "str(2)"
   ]
  },
  {
   "cell_type": "markdown",
   "metadata": {},
   "source": [
    "prend comme argument l'entier `2`. Lorsque l'on définit une fonction, les arguments sont *assignés* à des variables appelées **paramètres**. Définissons de nouveau la fonction `state` avec un paramètre :"
   ]
  },
  {
   "cell_type": "code",
   "execution_count": 6,
   "metadata": {
    "execution": {
     "iopub.execute_input": "2021-03-29T22:15:55.242553Z",
     "iopub.status.busy": "2021-03-29T22:15:55.240895Z",
     "iopub.status.idle": "2021-03-29T22:15:55.244297Z",
     "shell.execute_reply": "2021-03-29T22:15:55.243853Z"
    },
    "tags": []
   },
   "outputs": [
    {
     "name": "stdout",
     "output_type": "stream",
     "text": [
      "Je suis en forme\n"
     ]
    }
   ],
   "source": [
    "# Définition de la fonction state\n",
    "def state(mot):\n",
    "    my_state = \"Je suis \" + mot\n",
    "    print(my_state)\n",
    "\n",
    "# appel de la fonction\n",
    "state(\"en forme\")"
   ]
  },
  {
   "cell_type": "markdown",
   "metadata": {},
   "source": [
    "Lorsque l'on appelle la fonction `state`, l'argument entre parenthèses, `\"en forme\"`, est assigné au paramètre `mot`. La partie de l'en-tête qui définit le nom de la fonction et son (ou ses) paramètre(s), ici `state(mot)`, est appelée la **signature** de la fonction."
   ]
  },
  {
   "cell_type": "markdown",
   "metadata": {},
   "source": [
    "### Exercice\n",
    "Reprendre la fonction `cube`. Définir un paramètre appelé `x` afin de pouvoir mettre au cube n'importe quel nombre. La signature de la fonction est donc `cube(x)`. Tester la fonction avec le chiffre 3."
   ]
  },
  {
   "cell_type": "code",
   "execution_count": 7,
   "metadata": {
    "execution": {
     "iopub.execute_input": "2021-03-29T22:15:55.250343Z",
     "iopub.status.busy": "2021-03-29T22:15:55.248711Z",
     "iopub.status.idle": "2021-03-29T22:15:55.252144Z",
     "shell.execute_reply": "2021-03-29T22:15:55.251704Z"
    },
    "tags": [
     "solution"
    ]
   },
   "outputs": [
    {
     "name": "stdout",
     "output_type": "stream",
     "text": [
      "27\n"
     ]
    }
   ],
   "source": [
    "# Définition de la fonction cube\n",
    "def cube(x):\n",
    "    result = x * x * x\n",
    "    print(result)\n",
    "\n",
    "# Appel de la fonction\n",
    "cube(3)"
   ]
  },
  {
   "cell_type": "markdown",
   "metadata": {},
   "source": [
    "## Retourner une valeur\n",
    "Nous avons vu que les fonctions pré-définies *retournent* généralement une valeur, que l'on peut affecter à une variable. Par exemple :"
   ]
  },
  {
   "cell_type": "code",
   "execution_count": 8,
   "metadata": {
    "execution": {
     "iopub.execute_input": "2021-03-29T22:15:55.257130Z",
     "iopub.status.busy": "2021-03-29T22:15:55.255594Z",
     "iopub.status.idle": "2021-03-29T22:15:55.257788Z",
     "shell.execute_reply": "2021-03-29T22:15:55.258329Z"
    }
   },
   "outputs": [],
   "source": [
    "s2 = str(2)"
   ]
  },
  {
   "cell_type": "markdown",
   "metadata": {},
   "source": [
    "Il est souvent préférable lorsque l'on définit une fonction de retourner la valeur plutôt que l'afficher avec `print()`. Pour cela, nous utilisons l'instruction `return`. Reprenons notre fonction `state` :"
   ]
  },
  {
   "cell_type": "code",
   "execution_count": 9,
   "metadata": {
    "execution": {
     "iopub.execute_input": "2021-03-29T22:15:55.264290Z",
     "iopub.status.busy": "2021-03-29T22:15:55.262756Z",
     "iopub.status.idle": "2021-03-29T22:15:55.266028Z",
     "shell.execute_reply": "2021-03-29T22:15:55.265602Z"
    },
    "tags": []
   },
   "outputs": [
    {
     "name": "stdout",
     "output_type": "stream",
     "text": [
      "Je suis en forme\n"
     ]
    }
   ],
   "source": [
    "# Définition de la fonction state\n",
    "def state(mot):\n",
    "    my_state = \"Je suis \" + mot\n",
    "    return my_state\n",
    "\n",
    "# Appel de la fonction\n",
    "s = state(\"en forme\")\n",
    "print(s)"
   ]
  },
  {
   "cell_type": "markdown",
   "metadata": {},
   "source": [
    "Grâce à l'instruction `return`, nous avons pu affecter le résultat de la fonction à une nouvelle variable `s`."
   ]
  },
  {
   "cell_type": "markdown",
   "metadata": {},
   "source": [
    "### Exercice\n",
    "Reprendre la fonction `cube` et remplacer l'instruction `print()` par `return`. Affecter le résultat de la fonction pour l'argument 3 à une nouvelle variable et l'afficher à l'écran (en dehors de la fonction)."
   ]
  },
  {
   "cell_type": "code",
   "execution_count": 10,
   "metadata": {
    "execution": {
     "iopub.execute_input": "2021-03-29T22:15:55.272272Z",
     "iopub.status.busy": "2021-03-29T22:15:55.270761Z",
     "iopub.status.idle": "2021-03-29T22:15:55.274281Z",
     "shell.execute_reply": "2021-03-29T22:15:55.273697Z"
    },
    "tags": [
     "solution"
    ]
   },
   "outputs": [
    {
     "name": "stdout",
     "output_type": "stream",
     "text": [
      "27\n"
     ]
    }
   ],
   "source": [
    "# Définition de la fonction cube\n",
    "def cube(x):\n",
    "    result = x * x * x\n",
    "    return result\n",
    "\n",
    "# Appel de la fonction\n",
    "c3 = cube(3)\n",
    "print(c3)"
   ]
  },
  {
   "cell_type": "markdown",
   "metadata": {},
   "source": [
    "## Docstrings\n",
    "Nous avons vu précédemment qu'il est essentiel de commenter son code, pour les autres et soi-même. De la même façon, il est essentiel lorsque l'on crée une fonction de décrire son utilité. Pour cela nous utilisons les **Docstrings** :"
   ]
  },
  {
   "cell_type": "code",
   "execution_count": 11,
   "metadata": {
    "execution": {
     "iopub.execute_input": "2021-03-29T22:15:55.279557Z",
     "iopub.status.busy": "2021-03-29T22:15:55.278319Z",
     "iopub.status.idle": "2021-03-29T22:15:55.281201Z",
     "shell.execute_reply": "2021-03-29T22:15:55.280743Z"
    }
   },
   "outputs": [],
   "source": [
    "# Définition de la fonction state\n",
    "def state(mot):\n",
    "    \"\"\" Affiche à l'écran mon état \"\"\"\n",
    "    my_state = \"Je suis \" + mot\n",
    "    return my_state"
   ]
  },
  {
   "cell_type": "markdown",
   "metadata": {},
   "source": [
    "Le Docstring s'écrit juste après l'en-tête de la fonction, entre triple double guillemets. Cela sert de documentation à votre fonction. "
   ]
  },
  {
   "cell_type": "markdown",
   "metadata": {},
   "source": [
    "### Exercice\n",
    "Reprendre la fonction cube et documenter cette fonction."
   ]
  },
  {
   "cell_type": "code",
   "execution_count": 12,
   "metadata": {
    "execution": {
     "iopub.execute_input": "2021-03-29T22:15:55.286822Z",
     "iopub.status.busy": "2021-03-29T22:15:55.285286Z",
     "iopub.status.idle": "2021-03-29T22:15:55.287463Z",
     "shell.execute_reply": "2021-03-29T22:15:55.287891Z"
    },
    "tags": [
     "solution"
    ]
   },
   "outputs": [],
   "source": [
    "# Définition de la fonction cube\n",
    "def cube(x):\n",
    "    \"\"\" Retourne le cube d'une valeur \"\"\"\n",
    "    result = x * x * x\n",
    "    return result"
   ]
  },
  {
   "cell_type": "markdown",
   "metadata": {},
   "source": [
    "## Paramètres multiples\n",
    "Nous avons vu une fonction avec un seul paramètre. Cependant, il est possible de définir autant de paramètres que l'on veut. Voici la fonction `state` avec 2 paramètres, dont la signature est `state(mot, jour)` :"
   ]
  },
  {
   "cell_type": "code",
   "execution_count": 13,
   "metadata": {
    "execution": {
     "iopub.execute_input": "2021-03-29T22:15:55.294297Z",
     "iopub.status.busy": "2021-03-29T22:15:55.292761Z",
     "iopub.status.idle": "2021-03-29T22:15:55.295765Z",
     "shell.execute_reply": "2021-03-29T22:15:55.296208Z"
    },
    "tags": []
   },
   "outputs": [
    {
     "name": "stdout",
     "output_type": "stream",
     "text": [
      "Le lundi, je suis en forme\n"
     ]
    }
   ],
   "source": [
    "# Définition de la fonction state\n",
    "def state(mot, jour):\n",
    "    \"\"\" Affiche à l'écran mon état \"\"\"\n",
    "    my_state = \"Le \" + jour + \", je suis \" + mot\n",
    "    return my_state\n",
    "\n",
    "# appel de la fonction\n",
    "s = state(\"en forme\", \"lundi\")\n",
    "print(s)"
   ]
  },
  {
   "cell_type": "markdown",
   "metadata": {},
   "source": [
    "On voit qu'il faut faire attention à l'ordre dans lequel on écrit les arguments lors de l'appel de la fonction : les arguments sont assignés dans le même ordre aux paramètres.\n",
    "\n",
    "Il est possible de définir une valeur par défaut du (ou des) dernier(s) paramètre(s), avec le signe `=`. Lors de l'appel de la fonction, on n'est alors pas obligé de spécifier le deuxième argument, qui prend la valeur par défaut :"
   ]
  },
  {
   "cell_type": "code",
   "execution_count": 14,
   "metadata": {
    "execution": {
     "iopub.execute_input": "2021-03-29T22:15:55.302672Z",
     "iopub.status.busy": "2021-03-29T22:15:55.301167Z",
     "iopub.status.idle": "2021-03-29T22:15:55.304569Z",
     "shell.execute_reply": "2021-03-29T22:15:55.304043Z"
    },
    "tags": []
   },
   "outputs": [
    {
     "name": "stdout",
     "output_type": "stream",
     "text": [
      "Le lundi, je suis en forme\n",
      "Le vendredi, je suis fatigué\n"
     ]
    }
   ],
   "source": [
    "# Définition de la fonction state\n",
    "def state(mot, jour = \"lundi\"):\n",
    "    \"\"\" Affiche à l'écran mon état \"\"\"\n",
    "    my_state = \"Le \" + jour + \", je suis \" + mot\n",
    "    return my_state\n",
    "\n",
    "# appel de la fonction\n",
    "s = state(\"en forme\"); print(s)\n",
    "s = state(\"fatigué\", \"vendredi\"); print(s)"
   ]
  },
  {
   "cell_type": "markdown",
   "metadata": {},
   "source": [
    "### Exercice\n",
    "Écrire une fonction de signature `add(a,b)` qui retourne la somme de `a` et `b`. Par défaut, `b` est égal à 1. Tester et documenter la fonction."
   ]
  },
  {
   "cell_type": "code",
   "execution_count": 15,
   "metadata": {
    "execution": {
     "iopub.execute_input": "2021-03-29T22:15:55.310855Z",
     "iopub.status.busy": "2021-03-29T22:15:55.309351Z",
     "iopub.status.idle": "2021-03-29T22:15:55.312661Z",
     "shell.execute_reply": "2021-03-29T22:15:55.312229Z"
    },
    "tags": [
     "solution"
    ]
   },
   "outputs": [
    {
     "name": "stdout",
     "output_type": "stream",
     "text": [
      "6\n",
      "12\n"
     ]
    }
   ],
   "source": [
    "# Définition de la fonction add\n",
    "def add(a, b = 1):\n",
    "    \"\"\" Retourne la somme des valeurs \"\"\"\n",
    "    result = a + b\n",
    "    return result\n",
    "\n",
    "# Test de la fonction\n",
    "x = add(5); print(x)\n",
    "x = add(4, 8); print(x)"
   ]
  },
  {
   "cell_type": "markdown",
   "metadata": {},
   "source": [
    "## Retours multiples\n",
    "Il est possible de retourner plusieurs valeurs avec l'instruction `return`, en les séparant par des virgules. Les valeurs sont alors retournées sous la forme d'un tuple (voir le module Numpy) :"
   ]
  },
  {
   "cell_type": "code",
   "execution_count": 16,
   "metadata": {
    "execution": {
     "iopub.execute_input": "2021-03-29T22:15:55.318455Z",
     "iopub.status.busy": "2021-03-29T22:15:55.317395Z",
     "iopub.status.idle": "2021-03-29T22:15:55.320698Z",
     "shell.execute_reply": "2021-03-29T22:15:55.321150Z"
    },
    "tags": []
   },
   "outputs": [
    {
     "name": "stdout",
     "output_type": "stream",
     "text": [
      "('Le mercredi, je suis content', 28)\n"
     ]
    }
   ],
   "source": [
    "# Définition de la fonction state\n",
    "def state(mot, jour = \"lundi\"):\n",
    "    \"\"\" Affiche à l'écran mon état et le nombre de caractères \"\"\"\n",
    "    my_state = \"Le \" + jour + \", je suis \" + mot\n",
    "    my_state_length = len(my_state)\n",
    "    return (my_state, my_state_length)\n",
    "\n",
    "# Appel de la fonction\n",
    "t = state(\"content\", \"mercredi\")\n",
    "print(t)"
   ]
  },
  {
   "cell_type": "markdown",
   "metadata": {},
   "source": [
    "Vérifions que l'objet retourné est bien un *tuple* avec 2 éléments :"
   ]
  },
  {
   "cell_type": "code",
   "execution_count": 17,
   "metadata": {
    "execution": {
     "iopub.execute_input": "2021-03-29T22:15:55.327488Z",
     "iopub.status.busy": "2021-03-29T22:15:55.325804Z",
     "iopub.status.idle": "2021-03-29T22:15:55.329572Z",
     "shell.execute_reply": "2021-03-29T22:15:55.329092Z"
    },
    "tags": []
   },
   "outputs": [
    {
     "name": "stdout",
     "output_type": "stream",
     "text": [
      "<class 'tuple'>\n",
      "2\n"
     ]
    }
   ],
   "source": [
    "print(type(t))\n",
    "print(len(t))"
   ]
  },
  {
   "cell_type": "markdown",
   "metadata": {},
   "source": [
    "Dans l'exemple, on a affecté le tuple à une nouvelle variable. Il est aussi possible d'affecter directement les 2 éléments du tuple dans deux nouvelles variables :"
   ]
  },
  {
   "cell_type": "code",
   "execution_count": 18,
   "metadata": {
    "execution": {
     "iopub.execute_input": "2021-03-29T22:15:55.336060Z",
     "iopub.status.busy": "2021-03-29T22:15:55.334967Z",
     "iopub.status.idle": "2021-03-29T22:15:55.337915Z",
     "shell.execute_reply": "2021-03-29T22:15:55.336684Z"
    },
    "tags": []
   },
   "outputs": [
    {
     "name": "stdout",
     "output_type": "stream",
     "text": [
      "Le mercredi, je suis content\n",
      "Cette phrase contient 28 caractères\n"
     ]
    }
   ],
   "source": [
    "# Appel de la fonction\n",
    "s, l = state(\"content\", \"mercredi\")\n",
    "print(s)\n",
    "print(\"Cette phrase contient\", l, \"caractères\")"
   ]
  },
  {
   "cell_type": "markdown",
   "metadata": {},
   "source": [
    "### Exercice\n",
    "Créer une fonction de signature `addmul(a, b)` qui retourne la somme et le produit de `a` et `b`. Documenter et tester la fonction."
   ]
  },
  {
   "cell_type": "code",
   "execution_count": 19,
   "metadata": {
    "execution": {
     "iopub.execute_input": "2021-03-29T22:15:55.345159Z",
     "iopub.status.busy": "2021-03-29T22:15:55.343819Z",
     "iopub.status.idle": "2021-03-29T22:15:55.347130Z",
     "shell.execute_reply": "2021-03-29T22:15:55.347613Z"
    },
    "tags": [
     "solution"
    ]
   },
   "outputs": [
    {
     "data": {
      "text/plain": [
       "(8, 12)"
      ]
     },
     "execution_count": 1,
     "metadata": {},
     "output_type": "execute_result"
    }
   ],
   "source": [
    "# Définition de la fonction addmul\n",
    "def addmul(a,b):\n",
    "    \"\"\" Retourne la somme et le produit de a et b \"\"\"\n",
    "    somme = a + b\n",
    "    produit = a * b\n",
    "    return (somme, produit)\n",
    "\n",
    "# test de la fonction\n",
    "addmul(2, 6)"
   ]
  },
  {
   "cell_type": "markdown",
   "metadata": {},
   "source": [
    "## Forme Lambda\n",
    "Reprenons la fonction de signature `state(mot)` :"
   ]
  },
  {
   "cell_type": "code",
   "execution_count": 20,
   "metadata": {
    "execution": {
     "iopub.execute_input": "2021-03-29T22:15:55.354074Z",
     "iopub.status.busy": "2021-03-29T22:15:55.352761Z",
     "iopub.status.idle": "2021-03-29T22:15:55.356075Z",
     "shell.execute_reply": "2021-03-29T22:15:55.356536Z"
    }
   },
   "outputs": [
    {
     "data": {
      "text/plain": [
       "'Je suis en forme'"
      ]
     },
     "execution_count": 1,
     "metadata": {},
     "output_type": "execute_result"
    }
   ],
   "source": [
    "# Définition de la fonction state\n",
    "def state(mot):\n",
    "    my_state = \"Je suis \" + mot\n",
    "    return my_state\n",
    "\n",
    "# appel de la fonction\n",
    "state(\"en forme\")"
   ]
  },
  {
   "cell_type": "markdown",
   "metadata": {},
   "source": [
    "La forme *lambda* de cette fonction est :"
   ]
  },
  {
   "cell_type": "code",
   "execution_count": 21,
   "metadata": {
    "execution": {
     "iopub.execute_input": "2021-03-29T22:15:55.361400Z",
     "iopub.status.busy": "2021-03-29T22:15:55.360443Z",
     "iopub.status.idle": "2021-03-29T22:15:55.364747Z",
     "shell.execute_reply": "2021-03-29T22:15:55.364259Z"
    },
    "tags": []
   },
   "outputs": [
    {
     "data": {
      "text/plain": [
       "<function __main__.<lambda>(mot)>"
      ]
     },
     "execution_count": 1,
     "metadata": {},
     "output_type": "execute_result"
    }
   ],
   "source": [
    "# Forme lambda\n",
    "lambda mot : \"je suis \" + mot"
   ]
  },
  {
   "cell_type": "markdown",
   "metadata": {},
   "source": [
    "Cette expression est formée du mot-clef `lambda`, de la variable `mot` et de l'instruction `\"Je suis \" + mot`. Vous notez que la forme lamda ici n'a pas de nom, contrairement à une fonction définie avec le mot-clef `def`. C'est une *fonction anonyme*."
   ]
  },
  {
   "cell_type": "markdown",
   "metadata": {},
   "source": [
    "Ainsi, la syntaxe générale est:\n",
    "\n",
    "   `lambda nom_variable : instruction`\n",
    "\n",
    "Pour donner une valeur d'entrée à la forme lambda, on écrit :"
   ]
  },
  {
   "cell_type": "code",
   "execution_count": 22,
   "metadata": {
    "execution": {
     "iopub.execute_input": "2021-03-29T22:15:55.370137Z",
     "iopub.status.busy": "2021-03-29T22:15:55.369596Z",
     "iopub.status.idle": "2021-03-29T22:15:55.374193Z",
     "shell.execute_reply": "2021-03-29T22:15:55.373676Z"
    }
   },
   "outputs": [
    {
     "data": {
      "text/plain": [
       "'je suis en forme'"
      ]
     },
     "execution_count": 1,
     "metadata": {},
     "output_type": "execute_result"
    }
   ],
   "source": [
    "(lambda mot : \"je suis \" + mot)(\"en forme\")"
   ]
  },
  {
   "cell_type": "markdown",
   "metadata": {},
   "source": [
    "On peut aussi donner un nom à la forme lambda :"
   ]
  },
  {
   "cell_type": "code",
   "execution_count": 23,
   "metadata": {
    "execution": {
     "iopub.execute_input": "2021-03-29T22:15:55.378930Z",
     "iopub.status.busy": "2021-03-29T22:15:55.378422Z",
     "iopub.status.idle": "2021-03-29T22:15:55.383289Z",
     "shell.execute_reply": "2021-03-29T22:15:55.383678Z"
    }
   },
   "outputs": [
    {
     "data": {
      "text/plain": [
       "'Je suis en forme'"
      ]
     },
     "execution_count": 1,
     "metadata": {},
     "output_type": "execute_result"
    }
   ],
   "source": [
    "# Forme lambda\n",
    "state_lambda = lambda mot : \"Je suis \" + mot\n",
    "\n",
    "# Appel\n",
    "state_lambda(\"en forme\")"
   ]
  },
  {
   "cell_type": "markdown",
   "metadata": {},
   "source": [
    "Il est possible de faire des formes lambda plus compliquées. Par exemple :"
   ]
  },
  {
   "cell_type": "code",
   "execution_count": 24,
   "metadata": {
    "execution": {
     "iopub.execute_input": "2021-03-29T22:15:55.390845Z",
     "iopub.status.busy": "2021-03-29T22:15:55.389596Z",
     "iopub.status.idle": "2021-03-29T22:15:55.393036Z",
     "shell.execute_reply": "2021-03-29T22:15:55.393481Z"
    }
   },
   "outputs": [
    {
     "data": {
      "text/plain": [
       "('Le mercredi, je suis content', 28)"
      ]
     },
     "execution_count": 1,
     "metadata": {},
     "output_type": "execute_result"
    }
   ],
   "source": [
    "(lambda mot, jour = \"lundi\" : (\"Le \" + jour + \", je suis \" + mot, len(\"Le \" + jour + \", je suis \" + mot)))(\"content\", \"mercredi\")"
   ]
  },
  {
   "cell_type": "markdown",
   "metadata": {},
   "source": [
    "Cependant, ce n'est pas lisible et une fonction classique est mieux adaptée dans ce cas."
   ]
  },
  {
   "cell_type": "markdown",
   "metadata": {},
   "source": [
    "### Exercice\n",
    "Créez une forme lambda qui retourne le carré d'un argument, et testez-la."
   ]
  },
  {
   "cell_type": "code",
   "execution_count": 25,
   "metadata": {
    "execution": {
     "iopub.execute_input": "2021-03-29T22:15:55.398845Z",
     "iopub.status.busy": "2021-03-29T22:15:55.397671Z",
     "iopub.status.idle": "2021-03-29T22:15:55.401314Z",
     "shell.execute_reply": "2021-03-29T22:15:55.401754Z"
    }
   },
   "outputs": [
    {
     "data": {
      "text/plain": [
       "25"
      ]
     },
     "execution_count": 1,
     "metadata": {},
     "output_type": "execute_result"
    }
   ],
   "source": [
    "# forme lambda\n",
    "(lambda x : x * x)(5)"
   ]
  }
 ],
 "metadata": {
  "kernelspec": {
   "display_name": "Python 3",
   "language": "python",
   "name": "python3"
  },
  "language_info": {
   "codemirror_mode": {
    "name": "ipython",
    "version": 3
   },
   "file_extension": ".py",
   "mimetype": "text/x-python",
   "name": "python",
   "nbconvert_exporter": "python",
   "pygments_lexer": "ipython3",
   "version": "3.6.7"
  }
 },
 "nbformat": 4,
 "nbformat_minor": 4
}
