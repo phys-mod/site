{
 "cells": [
  {
   "cell_type": "code",
   "execution_count": 1,
   "metadata": {
    "execution": {
     "iopub.execute_input": "2021-03-29T22:16:50.315332Z",
     "iopub.status.busy": "2021-03-29T22:16:50.314583Z",
     "iopub.status.idle": "2021-03-29T22:16:50.318053Z",
     "shell.execute_reply": "2021-03-29T22:16:50.317534Z"
    }
   },
   "outputs": [],
   "source": [
    "# Numbering the equations"
   ]
  },
  {
   "cell_type": "code",
   "execution_count": 2,
   "metadata": {
    "execution": {
     "iopub.execute_input": "2021-03-29T22:16:50.333817Z",
     "iopub.status.busy": "2021-03-29T22:16:50.332738Z",
     "iopub.status.idle": "2021-03-29T22:16:50.336432Z",
     "shell.execute_reply": "2021-03-29T22:16:50.336857Z"
    }
   },
   "outputs": [
    {
     "data": {
      "application/javascript": [
       "MathJax.Hub.Config({\n",
       "    TeX: { equationNumbers: { autoNumber: \"AMS\" } }\n",
       "});\n"
      ],
      "text/plain": [
       "<IPython.core.display.Javascript object>"
      ]
     },
     "metadata": {},
     "output_type": "display_data"
    }
   ],
   "source": [
    "%%javascript\n",
    "MathJax.Hub.Config({\n",
    "    TeX: { equationNumbers: { autoNumber: \"AMS\" } }\n",
    "});"
   ]
  },
  {
   "cell_type": "markdown",
   "metadata": {},
   "source": [
    "# Mini-Projet : modèle de bifurcation d'Alben\n",
    "\n",
    "## Préparation sur la physique du problème (à la maison)\n",
    "\n",
    "### Introduction\n",
    "\n",
    "Les transitions de phase (c’est-à-dire des changements d’état : fusion, changement de structure \n",
    "de la matière) seront étudiées en détail en thermodynamique. L’un des modèles les plus importants de transitions \n",
    "de phase est celui de Landau dans lequel l’énergie d’un système est exprimée comme un polynôme : \n",
    "\n",
    "\\begin{equation}\n",
    "E = A (T − T_c) X^2 + B X^4\n",
    "\\end{equation}   \n",
    "\n",
    "où $A$ et $B$ sont des coefficients positifs, $T_c$ la température de transition et $X$ le paramètre \n",
    "pertinent pour cette transition, par exemple l’aimantation d’un système magnétique. \n",
    "\n",
    "Il est aisé de voir que si $T > T_c$, on obtient pour l’équilibre une solution unique $X = 0$, \n",
    "mais si $T < Tc$, on a deux solutions stables     \n",
    "\n",
    "\\begin{equation}\n",
    "    X = \\pm X_0 \\sqrt{1-\\frac{T}{T_c}} \n",
    "\\end{equation}\n",
    "\n",
    "où $X_0 = \\sqrt{\\frac{A T_c}{2 B}}$.\n",
    "\n",
    "Ainsi, à $T_c$ une transition est obtenue en dessous de laquelle $X$ est non nul (si $X$ est l’aimantation, cela signifie que le matériau a une aimantation permanente : c’est un aimant) et au-dessus de laquelle $X$ est nul (ainsi, un aimant peut perdre son \n",
    "aimantation au-dessus d’une certaine température). C’est un comportement très général et le \n",
    "modèle mécanique proposé ci-dessous vise à produire un comportement similaire dans un système simple. Dans l'approche des systèmes dynamiques cette transition s'appelle une bifurcation. \n",
    "\n",
    "La figure ci-dessous illustre le modèle mécanique :\n",
    "\n",
    "![\"figure modele d'Alben\"](fig_alben.png)\n",
    "\n",
    "*Figure : modèle mécanique d'Alben de la transition de phase de Landau.*\n",
    "\n",
    "\n",
    "\n",
    "### Un modèle mécanique de bifurcation\n",
    "\n",
    "Le modèle mécanique proposé consiste en une bille de masse $m$ astreinte à se déplacer dans un tube en \n",
    "verre recourbé vers le bas et de rayon de courbure $\\ell$. La bille sépare de façon étanche le tube en \n",
    "deux parties qui contiennent chacune $x$ moles d’un gaz parfait. La section du tube est $S$, \n",
    "la température $T$ est considérée comme uniforme et constante. Le segment qui lie le centre du cercle à \n",
    "la bille fait un angle $\\theta$ avec la verticale ce qui permet de repérer la position de la bille. \n",
    "L’ouverture totale du tube est $2 \\theta_0 \\;\\; (−\\theta_0 < \\theta < \\theta_0)$.\n",
    "\n",
    "1. Montrer que l’équation du mouvement de ce système s’écrit :     \n",
    "\\begin{equation}\n",
    "m \\ell \\ddot{\\theta} = m g \\sin{\\theta} + \\frac{x R T}{\\ell} \\left( \\frac{1}{\\theta_0+\\theta} -\\frac{1}{\\theta_0-\\theta} \\right)\n",
    "\\end{equation}    \n",
    "où $R$ est la constante des gaz parfaits.\n",
    "\n",
    "2. Montrer que la condition d'équilibre peut s'écrire :    \n",
    "\\begin{equation}\n",
    "\\sin{\\theta} = \\frac{2 x R T}{ m g \\ell} \\frac{\\theta}{\\theta_0^2-\\theta^2} \n",
    "\\end{equation}\n",
    "\n",
    "3. Étudier graphiquement l’équation ci-dessus ; expliquer qualitativement ce qu'il se passe lorsque \n",
    "la température augmente. Déterminer la température $T_c$ en dessous de laquelle il existe des positions \n",
    "d’équilibre pour $\\theta \\neq 0$.\n",
    "\n",
    "4. Peut-on résoudre analytiquement ce problème dans le cas général afin d’obtenir une solution du \n",
    "type $θ_{eq}(T) =$ une expression ? Déterminer $θ_{eq}$ lorsque $T \\rightarrow 0$. \n",
    "Montrer que lorsque T est inférieur mais proche de $T_c$ alors :\n",
    "\n",
    "\\begin{equation}\n",
    "\\theta_{eq} \\sim \\theta_0 \\sqrt{ \\left( \\frac{1}{ 1+\\frac{\\theta_0^2}{6}} \\right) \\left( 1- \\frac{T}{T_c} \\right)}\n",
    "\\end{equation}"
   ]
  },
  {
   "cell_type": "markdown",
   "metadata": {},
   "source": [
    "## Modélisation numérique du problème \n",
    "\n",
    "5. Dans ce qui suit, on se propose de résoudre numériquement ce problème dans le cas général à l’aide d’une \n",
    "méthode de recherche de zéro. On posera :    \n",
    "\n",
    "\\begin{equation} \n",
    "\\omega_0^2 = \\frac{g}{\\ell} \\;\\; \\textrm{et} \\;\\; \\gamma = \\frac{2 x R}{m \\ell^2}\n",
    "\\end{equation}     \n",
    "\n",
    "Pourquoi est-il préférable de chercher les zéros de la fonction **suivante** ?   \n",
    "\n",
    "\\begin{equation}\n",
    "f(\\theta) = \\frac{\\sin{\\theta}}{\\theta} \\left(\\theta_0^2 - \\theta^2\\right) - \\frac{\\gamma T}{\\omega_0^2} \n",
    "\\end{equation}\n",
    "\n",
    "6. Adapter le programme pour résoudre l’équation (1) à une température donnée, par exemple, \n",
    "$T = T_c/2$. Enfin, modifier le programme afin de tracer la courbe $θ_{eq}(T)$. Comparer ces résultats avec \n",
    "ceux du 4).\n",
    "Valeurs numériques : $g = 9,81\\mathrm{~m/s^2}$, $l = 0,1\\mathrm{~m}$, $m = 6\\cdot 10^{−3}\\mathrm{~kg}$, $R = 8,32 \\mathrm{~J/K}$, $\\theta_0 = 1 \\mathrm{~rad}$, $S = 1 \\mathrm{~cm^2}$. \n",
    "Le nombre de moles $x$ est donné par le fait que le tube est rempli à une pression de $200 \\mathrm{~Pa}$ et à une \n",
    "température de $300 \\mathrm{~K}$.\n",
    "\n",
    "7. À partir de l’équation du mouvement, il est intéressant de chercher des solutions périodiques de pulsation $\\omega$ pour des mouvements de petite amplitude $\\delta$ :  \n",
    "\n",
    "\\begin{equation}\n",
    "\\theta =\\theta_{eq} + \\delta = \\theta_{eq} + \\delta_0 e^{i\\omega t}\n",
    "\\end{equation}     \n",
    "\n",
    "où $\\theta_{eq}$ dépend de la température et non du temps. On obtient après quelques calculs un peu \n",
    "laborieux mais sans difficulté :      \n",
    "\n",
    "\\begin{equation}\n",
    "\\omega^2 = \\frac{\\gamma T}{\\theta_0^2 - \\theta_{eq}^2} \\left( \\frac{2 \\theta_{eq}^2}{\\theta_0^2 - \\theta_{eq}^2} +1 \\right) - \\frac{\\gamma T_c}{\\theta_0^2} \\cos{\\theta_{eq}} \n",
    "\\end{equation}    \n",
    "\n",
    "où $\\omega$, la pulsation de résonance, dépend de la température $T$. Montrer que si $T > T_c$, alors :   \n",
    "\n",
    "\\begin{equation}\n",
    "\\omega^2(T)= \\frac{\\gamma}{\\theta_0^2} (T−T_c) \n",
    "\\end{equation}       \n",
    "\n",
    "et que si $T < T_c$ en restant proche de $T_c$, alors, en posant \n",
    "\n",
    "$$ \n",
    "\\theta_{eq}^2=\\theta_{0}^2 \\left(1- \\frac{T}{T_c}\\right) = \\theta_{0}^2 \\frac{\\Delta}{T_c}\n",
    "$$\n",
    "\n",
    "soit $\\Delta = T_c - T$ :      \n",
    "\n",
    "\\begin{equation}\n",
    "\\omega^2(T) = \\frac{ \\gamma \\Delta }{\\theta_0^2} \\left(2 + \\frac{\\theta_0^2}{2} \\right)\n",
    "\\end{equation}\n",
    "\n",
    "Que se passe-t-il quand $T = T_c$ ? Comparer les valeurs données par les expressions analytiques ci-dessus \n",
    "avec le résultat du calcul numérique obtenu à partir de l’équation (2) en prenant les valeurs de \n",
    "$\\theta_{eq}$ données par le calcul numérique."
   ]
  }
 ],
 "metadata": {
  "kernelspec": {
   "display_name": "Python 3",
   "language": "python",
   "name": "python3"
  },
  "language_info": {
   "codemirror_mode": {
    "name": "ipython",
    "version": 3
   },
   "file_extension": ".py",
   "mimetype": "text/x-python",
   "name": "python",
   "nbconvert_exporter": "python",
   "pygments_lexer": "ipython3",
   "version": "3.6.7"
  }
 },
 "nbformat": 4,
 "nbformat_minor": 2
}
