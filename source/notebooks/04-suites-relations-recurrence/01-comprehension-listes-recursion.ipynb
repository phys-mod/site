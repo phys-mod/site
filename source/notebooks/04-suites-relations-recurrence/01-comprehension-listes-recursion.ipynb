{
 "cells": [
  {
   "cell_type": "markdown",
   "metadata": {},
   "source": [
    "# Compréhensions de listes et récursion\n",
    "\n",
    "Les listes de Python sont très versatiles ; elles sont beaucoup utilisées dans des situations dont le point commun est de nécessiter le stockage d'élements en séquence, c'est-à-dire avec un ordre donné.\n",
    "\n",
    "On rappelle que les listes de Python sont des objets mutables (à l'opposé des tuples que l'on note avec une parenthèse) qui possèdent un grand nombre de [méthodes de classe](../01-python-base/03-fonctions-modules.ipynb#Méthodes-de-liste). Il existe de plus une manière très expressive de manipuler les listes : les **compréhensions de listes** (« list comprehension » en anglais).\n",
    "\n",
    "Les schémas de manipulations les plus fréquents pour les listes sont :\n",
    "\n",
    "* **schémas de construction** de liste de manière algorithmique, c'est-à-dire pas à partir d'une autre liste\n",
    "\n",
    "* **schémas de transformation** en appliquant à chaque élement de la liste une fonction à un argument\n",
    "\n",
    "* **schémas de filtrage** en sélectionnant les élements d'une liste avec une condition donnée agissant sur chaque élement de la liste (voir [Logique, structures de contrôle et filtrage](../02-python-intermediaire/02-logique-filtrage.ipynb))\n",
    "\n",
    "* **schémas de réduction** en réduisant l'information disponible dans la liste par une procédure algorithmique\n",
    "\n",
    "Les compréhensions de liste permettent d'appliquer les trois premiers schémas de manière élégante, et surtout très intuitive à la lecture. Les schémas de réductions peuvent eux être généralisés à l'aide des fonctionnelles."
   ]
  },
  {
   "cell_type": "markdown",
   "metadata": {},
   "source": [
    "## Schéma de construction\n",
    "\n",
    "On peut créer une liste à partir d'un intervalle d'entiers en définissant la fonction suivante:"
   ]
  },
  {
   "cell_type": "code",
   "execution_count": null,
   "metadata": {},
   "outputs": [],
   "source": [
    "# Définition de la fonction naturelsFor\n",
    "def naturelsFor(a, b):\n",
    "    ''' Retourne une liste d'entiers [a,b[ '''\n",
    "    listRes = []\n",
    "    for k in range(a, b):\n",
    "        listRes.append(k)\n",
    "    return listRes"
   ]
  },
  {
   "cell_type": "markdown",
   "metadata": {},
   "source": [
    "Pour vérifier le fonctionnement de la fonction, on peut utiliser l'instruction `assert`. Cette instruction vérifie que la fonction produit bien le résultat attendu. Si ce n'est pas le cas elle renvoie un message d'erreur, sinon elle ne renvoie rien :"
   ]
  },
  {
   "cell_type": "code",
   "execution_count": null,
   "metadata": {},
   "outputs": [],
   "source": [
    "assert naturelsFor(2, 8) == [2, 3, 4, 5, 6, 7]\n",
    "assert naturelsFor(-3, 1) == [-3, -2, -1, 0]"
   ]
  },
  {
   "cell_type": "markdown",
   "metadata": {},
   "source": [
    "### Exercice\n",
    "On rappelle que l'objet de type `range` est différent d'une liste (vu [par ici](../02-python-intermediaire/03-iteration.ipynb#L'instruction-for)). Pour le convertir en liste, on peut utiliser la fonction `list()`. Proposez un test de la fonction `naturelsFor()` avec `assert`, en comparant son résultat au résultat d'une liste construite avec `range()`."
   ]
  },
  {
   "cell_type": "code",
   "execution_count": null,
   "metadata": {
    "tags": [
     "solution"
    ]
   },
   "outputs": [],
   "source": [
    "assert naturelsFor(-3, 1) == list(range(-3, 1))"
   ]
  },
  {
   "cell_type": "markdown",
   "metadata": {},
   "source": [
    "## Compréhension de liste\n",
    "\n",
    "La fonction `naturelsFor` n'est pas optimisée du tout, et sa lecture est plutôt lourde. Elle peut se réduire à la simple ligne :"
   ]
  },
  {
   "cell_type": "code",
   "execution_count": null,
   "metadata": {
    "tags": []
   },
   "outputs": [],
   "source": [
    "# Définition de la fonction naturelsFor2\n",
    "def naturelsFor2(a, b):\n",
    "    ''' Retourne une liste d'entiers [a,b[ '''\n",
    "    return [k for k in range(a, b)]\n",
    "\n",
    "# Appel de la fonction\n",
    "print(naturelsFor2(-3, 1))"
   ]
  },
  {
   "cell_type": "markdown",
   "metadata": {},
   "source": [
    "Ce qui est entre crochet `[...]` est une compréhension de liste. Elle peut se lire :\n",
    "\n",
    "> « Construis la liste des $k$ pour $k$ dans l'intervalle $[a, b[$. »\n",
    "\n",
    "On dit que les compréhensions de liste ont un *caractère déclaratif*."
   ]
  },
  {
   "cell_type": "markdown",
   "metadata": {},
   "source": [
    "La syntaxe générale d'une compréhension de liste est la suivante:\n",
    "\n",
    "> `[ <elem> for <var> in <seq> ]`\n",
    "\n",
    "où `<var>` est la variable de compréhension, `<elem>` est une expression appliquée aux valeurs successives de la variable `<var>` et `<seq>` est une expression qui retourne une séquence."
   ]
  },
  {
   "cell_type": "markdown",
   "metadata": {},
   "source": [
    "### Exercice\n",
    "Notez que `<seq>` peut être n'importe quelle séquence, ce qui inclu tdonc les chaînes de caractères `str`. À vous de faire des essais.\n"
   ]
  },
  {
   "cell_type": "code",
   "execution_count": null,
   "metadata": {},
   "outputs": [],
   "source": [
    "mot = \"ABCDEFG\""
   ]
  },
  {
   "cell_type": "markdown",
   "metadata": {},
   "source": [
    "Grâce à une compréhension de liste, créer une liste de chaîne de caractères à partir de la variable `mot` de la forme `['A0', 'B0', 'C0', ...]`"
   ]
  },
  {
   "cell_type": "code",
   "execution_count": null,
   "metadata": {
    "tags": [
     "solution"
    ]
   },
   "outputs": [],
   "source": [
    "[s + '0' for s in mot]"
   ]
  },
  {
   "cell_type": "markdown",
   "metadata": {},
   "source": [
    "## Schéma de transformation\n",
    "\n",
    "On a plusieurs choix pour utiliser un schéma de transformation. Ainsi, si l'on a défini la fonction"
   ]
  },
  {
   "cell_type": "code",
   "execution_count": null,
   "metadata": {},
   "outputs": [],
   "source": [
    "# Définition de la fonction carre\n",
    "def carre(x):\n",
    "    ''' Retourne le carre de x '''\n",
    "    return x * x"
   ]
  },
  {
   "cell_type": "markdown",
   "metadata": {},
   "source": [
    "alors, on peut écrire"
   ]
  },
  {
   "cell_type": "code",
   "execution_count": null,
   "metadata": {},
   "outputs": [],
   "source": [
    "[carre(k) for k in range(1, 7)]"
   ]
  },
  {
   "cell_type": "markdown",
   "metadata": {},
   "source": [
    "afin d'appliquer la fonction `carre()` à chaque entier compris dans $[1,7[$."
   ]
  },
  {
   "cell_type": "markdown",
   "metadata": {},
   "source": [
    "### Exercice\n",
    "Il est possible d'avoir une écriture encore plus compacte en utilisant les [formes lambda](../02-python-intermediaire/04-fonctions.ipynb#Forme-lambda). Proposez une alternative à la question précédente avec une forme lambda."
   ]
  },
  {
   "cell_type": "code",
   "execution_count": null,
   "metadata": {
    "tags": [
     "solution"
    ]
   },
   "outputs": [],
   "source": [
    "[(lambda x: x*x)(x) for x in range(1, 7)]"
   ]
  },
  {
   "cell_type": "markdown",
   "metadata": {},
   "source": [
    "Cependant, ce n'est pas optimal car dans ce cas, vous allez créer à la volée 6 formes lambda qui sont en fait les mêmes. Mais vous faites l'économie de nommer la fonction, ce qui peut-être le but."
   ]
  },
  {
   "cell_type": "markdown",
   "metadata": {},
   "source": [
    "## La fonction `map()`\n",
    "La fonction générique `map()` offre une alternative aux compréhensions de liste pour exprimer de façon concise des transformations de listes. \n",
    "\n",
    "La fonction `map()` applique une fonction sur un objet, par exemple sur une liste :"
   ]
  },
  {
   "cell_type": "code",
   "execution_count": null,
   "metadata": {
    "tags": []
   },
   "outputs": [],
   "source": [
    "map(lambda x : x*x, [1, 2, 3, 4, 5])"
   ]
  },
  {
   "cell_type": "markdown",
   "metadata": {},
   "source": [
    "`map()` renvoie un **itérateur** et non pas une liste. Un itérateur est une notion avancée de python que nous ne traiterons pas en détails ici. Afin de le transformer en liste, on peut utiliser la fonction `list()` :"
   ]
  },
  {
   "cell_type": "code",
   "execution_count": null,
   "metadata": {},
   "outputs": [],
   "source": [
    "list(map(lambda x : x * x, [1, 2, 3, 4, 5]))"
   ]
  },
  {
   "cell_type": "markdown",
   "metadata": {},
   "source": [
    "La forme lambda est bien adaptée dans ce cas."
   ]
  },
  {
   "cell_type": "markdown",
   "metadata": {},
   "source": [
    "## Schéma de filtrage\n",
    "On peut ajouter la possibilité de faire du filtrage sur les élements sur lesquels on itère dans `<seq>`. La syntaxe est la suivante :\n",
    "\n",
    "> `[ <elem> for <var> in <seq> if <condition> ]`\n",
    "\n",
    "où `<condition>` est une expression booléenne portant sur la variable de compréhension, ici `<var>`. Dans cet exemple, on prend le carré de chaque élément de la liste, à condition que l'élément de la liste soit pair :"
   ]
  },
  {
   "cell_type": "code",
   "execution_count": null,
   "metadata": {},
   "outputs": [],
   "source": [
    "[k * k for k in range(1, 7) if k % 2 == 0]"
   ]
  },
  {
   "cell_type": "markdown",
   "metadata": {},
   "source": [
    "On peut donner une instruction alternative si la condition n'est pas remplie avec `else`. Par exemple, on applique la fonction carre pour les éléments pairs, et la fonction cube pour les éléments impairs:"
   ]
  },
  {
   "cell_type": "code",
   "execution_count": null,
   "metadata": {},
   "outputs": [],
   "source": [
    "[k * k if k % 2 == 0 else k * k * k for k in range(1, 7)]"
   ]
  },
  {
   "cell_type": "markdown",
   "metadata": {},
   "source": [
    "Attention : dans ce cas les instruction `if ... else` sont placées *avant* l'instruction `for`."
   ]
  },
  {
   "cell_type": "markdown",
   "metadata": {},
   "source": [
    "### Exercice"
   ]
  },
  {
   "cell_type": "code",
   "execution_count": null,
   "metadata": {},
   "outputs": [],
   "source": [
    "mot = \"vwsxyazvxlwyzuvwxtxv wxycv'wxezyvxyszwtxyz zywvcvwzoywzovxlwzy\""
   ]
  },
  {
   "cell_type": "markdown",
   "metadata": {},
   "source": [
    "À l'aide d'une compréhension de liste conditionnelle, créer une liste de toutes les lettres strictement inférieures à `'v'` de la variable `mot`."
   ]
  },
  {
   "cell_type": "code",
   "execution_count": null,
   "metadata": {
    "tags": []
   },
   "outputs": [],
   "source": [
    "print([s for s in mot if s < 'v'])"
   ]
  },
  {
   "cell_type": "markdown",
   "metadata": {},
   "source": [
    "## Compréhension multiple\n",
    "Pour achever cette présentation, on peut utiliser des compréhensions multiples. Par exemple :"
   ]
  },
  {
   "cell_type": "code",
   "execution_count": null,
   "metadata": {},
   "outputs": [],
   "source": [
    "[(i, j) for i in range(1, 4) for j in range(i, 4)]"
   ]
  },
  {
   "cell_type": "markdown",
   "metadata": {},
   "source": [
    "## Récursion\n",
    "Une fonction peut en appeler une autre, et peut donc s'appeler elle-même ! C'est ce que l'on appelle une **fonction récursive**, et cela permet de créer des fonctions très ingénieuses.\n",
    "\n",
    "Regardez par exemple cette fonction de signature `compte_a_rebours(n)` :"
   ]
  },
  {
   "cell_type": "code",
   "execution_count": null,
   "metadata": {},
   "outputs": [],
   "source": [
    "# Définition de la fonction compte_a_rebours\n",
    "def compte_a_rebours(n):\n",
    "    ''' Affiche un compte-à-rebours à partir de n '''\n",
    "    if n <= 0:\n",
    "        print('Partez !')\n",
    "    else:\n",
    "        print(n)\n",
    "        compte_a_rebours(n - 1)"
   ]
  },
  {
   "cell_type": "markdown",
   "metadata": {},
   "source": [
    "Si la variable `n` est inférieure ou égale à 0, la fonction affiche `Partez !`, sinon elle affiche la valeur de `n` et elle appelle la fonction `compte_a_rebours`, c'est-à-dire elle-même, avec l'argument `n - 1`.\n",
    "\n",
    "Par exemple :"
   ]
  },
  {
   "cell_type": "code",
   "execution_count": null,
   "metadata": {
    "tags": []
   },
   "outputs": [],
   "source": [
    "compte_a_rebours(3)"
   ]
  }
 ],
 "metadata": {
  "kernelspec": {
   "display_name": "Python 3",
   "language": "python",
   "name": "python3"
  },
  "language_info": {
   "codemirror_mode": {
    "name": "ipython",
    "version": 3
   },
   "file_extension": ".py",
   "mimetype": "text/x-python",
   "name": "python",
   "nbconvert_exporter": "python",
   "pygments_lexer": "ipython3",
   "version": "3.8.3"
  }
 },
 "nbformat": 4,
 "nbformat_minor": 4
}
