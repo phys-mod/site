{
 "cells": [
  {
   "cell_type": "markdown",
   "metadata": {},
   "source": [
    "# Exercices"
   ]
  },
  {
   "cell_type": "markdown",
   "metadata": {},
   "source": [
    "## Dérivée numérique décentrée\n",
    "\n",
    "Pour un ensemble de points de coordonnées $\\{(x_i,y_i)\\}$ où $y$ est une fonction de $x$, nous avons vu qu'une première approximation pour calculer la dérivée $y' = \\frac{\\mathrm{d}y}{\\mathrm{d}x}$ est de calculer la pente entre deux points consécutifs.\n",
    "\n",
    "$$\n",
    "y'_i = \\frac{y_{i+1}-y_{i}}{x_{i+1}-x_{i}}\n",
    "$$\n",
    "\n",
    "Il est cependant arbitraire d'associer la dérivée en un point avec la pente par rapport au point *suivant*, plutôt que la pente par rapport au point précédent. Une deuxième approximation peut donc s'écrire :\n",
    "\n",
    "$$\n",
    "y'_i = \\frac{y_{i}-y_{i-1}}{x_{i}-x_{i-1}}\n",
    "$$\n",
    "\n",
    "Ces deux approximations sont appelées respectivement *dérivée décentrée à droite* et *dérivée décentrée à gauche*.\n"
   ]
  },
  {
   "attachments": {
    "derivee.png": {
     "image/png": "[encoded data removed]"
    }
   },
   "cell_type": "markdown",
   "metadata": {},
   "source": [
    "![derivee.png](attachment:derivee.png)"
   ]
  },
  {
   "cell_type": "markdown",
   "metadata": {},
   "source": [
    "Comme on peut le voir sur la figure ci-dessus, ces deux approximations (en vert et en bleu) ne sont pas toujours satisfaisantes car elles sont arbitrairement biaisées d'un côté ou de l'autre du point considéré.\n",
    "Une troisième approximation consiste à prendre la pente entre les deux points adjacents au point considéré. Cette approximation est appelée *dérivée centrale* :\n",
    "\n",
    "$$\n",
    "y'_i = \\frac{y_{i+1}-y_{i-1}}{x_{i+1}-x_{i-1}}\n",
    "$$\n",
    "\n",
    "1. Programmez une fonction pour ces trois différentes approximations. La fonction pourra prendre en arguments des points $\\{(x_i,y_i)\\}$ sous forme de listes ou de tableaux `numpy` (plusieurs solutions sont possibles)."
   ]
  },
  {
   "cell_type": "code",
   "execution_count": null,
   "metadata": {
    "tags": [
     "solution"
    ]
   },
   "outputs": [],
   "source": [
    "import numpy as np\n",
    "import matplotlib.pyplot as plt\n",
    "\n",
    "# Dans toutes ces fonctions on sera particulierement attentif aux indices, surtout en début et fin de tableau\n",
    "\n",
    "def derivdroite(x, y): # On attend en entrée 2 listes ou 2 tableaux numpy de taille n\n",
    "    n = len(x)\n",
    "    # On commence par initialiser les tableaux de sorties\n",
    "    # Attention : pour la dérivée à droite on ne peut pas calculer le dernier point !\n",
    "    # Les tableaux de sorties seront donc de taille n - 1\n",
    "    xoutput = np.zeros(n - 1)\n",
    "    youtput = np.zeros(n - 1)\n",
    "    for i in range(n - 1):\n",
    "        xoutput[i] = x[i]\n",
    "        youtput[i] = (y[i + 1] - y[i]) / (x[i + 1] - x[i])\n",
    "    return [xoutput, youtput] # La sortie est une liste de deux tableaux numpy de tailles n - 1\n",
    "\n",
    "def derivgauche(x, y): # On attend en entrée 2 listes ou 2 tableaux numpy de taille n\n",
    "    n = len(x)\n",
    "    # On commence par initialiser les tableaux de sorties\n",
    "    # Attention : pour la dérivée à gauche on ne peut pas calculer le premier point !\n",
    "    # Les tableaux de sorties seront donc de taille n - 1\n",
    "    xoutput = np.zeros(n - 1)\n",
    "    youtput = np.zeros(n - 1)\n",
    "    for i in range(n - 1):\n",
    "        # Ici le premier point du tableau de sortie est le deuxieme point du tableau d'entrée\n",
    "        xoutput[i] = x[i + 1] \n",
    "        youtput[i] = (y[i + 1] - y[i]) / (x[i + 1] - x[i])\n",
    "    return [xoutput, youtput] # La sortie est une liste de deux tableaux numpy\n",
    "\n",
    "def derivcentre(x, y): # On attend en entrée 2 listes ou 2 tableaux numpy de taille n - 1\n",
    "    n = len(x)\n",
    "    # On commence par initialiser les tableaux de sorties\n",
    "    # Normalement on ne peut pas calculer le premier ni le dernier point !\n",
    "    # Mais pour les bords de l'intervalle, on utilise une dérivée gauche ou droite.\n",
    "    # Ce choix n'est pas sans conséquences.\n",
    "    # Les tableaux de sortie auront donc la même taille que les tableaux d'entrée...\n",
    "    xoutput = np.zeros(n)\n",
    "    youtput = np.zeros(n)\n",
    "    # Premier point\n",
    "    xoutput[0] = x[0]\n",
    "    youtput[0] = (y[1] - y[0]) / (x[1] - x[0])\n",
    "    # Dernier point\n",
    "    xoutput[n - 1] = x[n - 1]\n",
    "    youtput[n - 1] = (y[n - 1] - y[n - 2]) / (x[n - 1] - x[n - 2])\n",
    "    # Les points au milieu...\n",
    "    for i in range(n - 2):\n",
    "        xoutput[i + 1] = x[i + 1]\n",
    "        youtput[i + 1] = (y[i + 2] - y[i]) / (x[i + 2] - x[i])\n",
    "    return [xoutput, youtput] # La sortie est une liste de deux tableaux numpy de tailles n"
   ]
  },
  {
   "cell_type": "markdown",
   "metadata": {},
   "source": [
    "2. Comparez les résultats obtenus pour les trois fonctions mathématiques connues que vous avez dérivées mathématiquement dans le calepin à préparer pour aujourd'hui, et comparez au résultat théorique. On prendra pour la liste de points en abscisse un intervalle contenu dans l'intervalle de définition de la fonction et un pas de 0,1 pour commencer."
   ]
  },
  {
   "cell_type": "code",
   "execution_count": null,
   "metadata": {
    "tags": [
     "solution"
    ]
   },
   "outputs": [],
   "source": [
    "# Fonctions demandées\n",
    "\n",
    "def f(x): # Intervalle R\n",
    "    return (1 - x ** 2) / (x ** 4 + 2 * x ** 2 + 1)\n",
    "\n",
    "def g(x): # Intervalle -pi / 2, +pi / 2\n",
    "    return np.tan(x)\n",
    "\n",
    "def h(x): # Intervalle R\n",
    "    return 1 / (1 + np.exp(-x))\n",
    "\n",
    "# Dérivées analytiques\n",
    "\n",
    "def fprime(x):\n",
    "    return 2 * x * (x ** 2 - 3) / (x ** 2 + 1) ** 3\n",
    "\n",
    "def gprime(x):\n",
    "    return 1 + np.tan(x) ** 2\n",
    "\n",
    "def hprime(x):\n",
    "    return np.exp(-x) / (1 + np.exp(-x)) ** 2"
   ]
  },
  {
   "cell_type": "code",
   "execution_count": null,
   "metadata": {
    "tags": [
     "solution"
    ]
   },
   "outputs": [],
   "source": [
    "# Pour f(x) = (1 - x ** 2) / (x ** 4 + 2 * x ** 2 + 1)\n",
    "\n",
    "x = np.arange(-2, 2, 0.1)\n",
    "\n",
    "fpd = derivdroite(x, f(x))\n",
    "fpg = derivgauche(x, f(x))\n",
    "fpm = derivcentre(x, f(x))\n",
    "plt.plot(fpd[0], fpd[1], label = 'droite')\n",
    "plt.plot(fpg[0], fpg[1], label = 'gauche')\n",
    "plt.plot(fpm[0], fpm[1], label = 'milieu')\n",
    "plt.plot(x, fprime(x), label = 'vraie')\n",
    "plt.legend()\n",
    "plt.show()"
   ]
  },
  {
   "cell_type": "code",
   "execution_count": null,
   "metadata": {
    "tags": [
     "solution"
    ]
   },
   "outputs": [],
   "source": [
    "# pour g(x) = np.tan(x)\n",
    "\n",
    "x = np.arange(-1, 1.1, 0.1)\n",
    "\n",
    "gpd = derivdroite(x, g(x))\n",
    "gpg = derivgauche(x, g(x))\n",
    "gpm = derivcentre(x, g(x))\n",
    "plt.plot(gpd[0], gpd[1], label = 'droite')\n",
    "plt.plot(gpg[0], gpg[1], label = 'gauche')\n",
    "plt.plot(gpm[0], gpm[1], label = 'milieu')\n",
    "plt.plot(x, gprime(x), label = 'vraie')\n",
    "plt.legend()\n",
    "plt.show()"
   ]
  },
  {
   "cell_type": "code",
   "execution_count": null,
   "metadata": {
    "tags": [
     "solution"
    ]
   },
   "outputs": [],
   "source": [
    "# Pour h(x) = 1 / (1 + np.exp(-x))\n",
    "\n",
    "x = np.arange(-4, 4.1, 0.1)\n",
    "\n",
    "hpd = derivdroite(x, h(x))\n",
    "hpg = derivgauche(x, h(x))\n",
    "hpm = derivcentre(x, h(x))\n",
    "plt.plot(hpd[0], hpd[1], label = 'droite')\n",
    "plt.plot(hpg[0], hpg[1], label = 'gauche')\n",
    "plt.plot(hpm[0], hpm[1], label = 'milieu')\n",
    "plt.plot(x, hprime(x), label = 'vraie')\n",
    "plt.legend()\n",
    "plt.show()"
   ]
  },
  {
   "cell_type": "markdown",
   "metadata": {},
   "source": [
    "3. Quantifiez et affichez l'erreur entre les 3 méthodes numériques, et le résultat théorique. Faites varier le pas de la dérivée et observez son influence sur la précision obtenue."
   ]
  },
  {
   "cell_type": "code",
   "execution_count": null,
   "metadata": {
    "tags": [
     "solution"
    ]
   },
   "outputs": [],
   "source": [
    "# Pour f(x) = (1 - x ** 2) / (x ** 4 + 2 * x ** 2 + 1)\n",
    "\n",
    "plt.plot(fpd[0], fpd[1] - fprime(fpd[0]), label = 'droite')\n",
    "plt.plot(fpg[0], fpg[1] - fprime(fpg[0]), label = 'gauche')\n",
    "plt.plot(fpm[0], fpm[1] - fprime(fpm[0]), label = 'milieu')\n",
    "plt.legend()\n",
    "plt.show()\n",
    "\n",
    "# On voit que la dérivée centrale est plus précise"
   ]
  },
  {
   "cell_type": "code",
   "execution_count": null,
   "metadata": {
    "tags": [
     "solution"
    ]
   },
   "outputs": [],
   "source": [
    "# Pour g(x) = np.tan(x)\n",
    "\n",
    "plt.plot(gpd[0], gpd[1] - gprime(gpd[0]), label = 'droite')\n",
    "plt.plot(gpg[0], gpg[1] - gprime(gpg[0]), label = 'gauche')\n",
    "plt.plot(gpm[0], gpm[1] - gprime(gpm[0]), label = 'milieu')\n",
    "plt.legend()\n",
    "plt.show()\n",
    "\n",
    "# On voit que la dérivée centrale est plus précise\n",
    "# Sauf aux bords puisque nous avons choisi une approximation gauche/droite pour ces points"
   ]
  },
  {
   "cell_type": "code",
   "execution_count": null,
   "metadata": {
    "tags": [
     "solution"
    ]
   },
   "outputs": [],
   "source": [
    "# Pour h(x) = 1 / (1 + np.exp(-x))\n",
    "\n",
    "plt.plot(hpd[0], hpd[1] - hprime(hpd[0]), label = 'droite')\n",
    "plt.plot(hpg[0], hpg[1] - hprime(hpg[0]), label = 'gauche')\n",
    "plt.plot(hpm[0], hpm[1] - hprime(hpm[0]), label = 'milieu')\n",
    "plt.legend()\n",
    "plt.show()\n",
    "\n",
    "# On voit que la dérivée centrale est plus précise\n",
    "# Sauf aux bords puisque nous avons choisi une approximation gauche/droite pour ces points"
   ]
  },
  {
   "cell_type": "markdown",
   "metadata": {},
   "source": [
    "## Dérivée d'une courbe expérimentale\n",
    "\n",
    "En physique expérimentale, il est rare d'analyser des points bien sagement ordonnés avec une précision à 12 chiffres. De plus, toute mesure expérimentale contient du bruit.\n",
    "\n",
    "Dans la suite, vous allez essayer de dériver un exemple de courbe expérimentale à partir des données brutes.\n",
    "\n",
    "1. Importez le fichier de données *dataBSCCO.csv* (par exemple avec le module `pandas`) qui contient une mesure de résistance d'un échantillon 2D de supraconducteur à haute température critique (le $\\mathrm{Bi}_2\\mathrm{Sr}_2\\mathrm{CaCu}_2\\mathrm{O}_{8+\\delta}$) en fonction de la température. Affichez quelques lignes de son contenus, ainsi qu'un graphe des données *Rs* (résistance 2D en ohms par carré - $\\Omega/\\square$ abbrégé *Ohmsq*) en fonction de *T* (température en kelvins)."
   ]
  },
  {
   "cell_type": "code",
   "execution_count": null,
   "metadata": {
    "tags": [
     "solution"
    ]
   },
   "outputs": [],
   "source": [
    "import pandas as pd\n",
    "\n",
    "# On importe le fichier avec pandas\n",
    "df1 = pd.read_csv(\"dataBSCCO.csv\")\n",
    "print(df1)\n",
    "df1.sort_values(by = ['T(K)'], inplace = True) # Optionnel, on peut trier les données avec T croissant\n",
    "\n",
    "# On le transforme en array numpy\n",
    "datas = np.array(df1)\n",
    "\n",
    "# On sépare les deux colonnes\n",
    "T = datas[:, 0]\n",
    "R = datas[:, 1]\n",
    "\n",
    "# On trace les données\n",
    "plt.plot(T, R, '+')\n",
    "plt.xlabel('$T$ (K)')\n",
    "plt.ylabel('$R_S$ ($\\Omega$/carré)')\n",
    "plt.show()"
   ]
  },
  {
   "cell_type": "markdown",
   "metadata": {},
   "source": [
    "Vous pouvez essayer d'utiliser les méthodes de dérivation numériques précédentes sur cette courbe. *A priori* ça ne marchera pas car les données *T(K)* ne sont pas uniformément réparties et ne varient pas de façon strictement monotone.\n",
    "\n",
    "Avant de dériver cette courbe, il faut donc mettre en forme les données. On peut par exemple :\n",
    "- Interpoler les données sur un tableau régulier avec la fonction `numpy.interp`.\n",
    "- Moyenner localement la courbe. Créer un tableau régulier en abscisse {$x_i$} avec un pas $p$, sélectionner les points de données tels que $|T-x_i|<p$ et en faire une moyenne pour chaque $i$."
   ]
  },
  {
   "cell_type": "markdown",
   "metadata": {},
   "source": [
    "2. Créez une nouvelle fonction qui permet de créer, à partir des données brutes, des données qui pourront être utilisées par les méthodes de dérivation créées précédemment.\n",
    "\n",
    "3. Appliquez cette nouvelle fonction aux données brutes et étudiez le comportement de la dérivée en fonction du pas choisi."
   ]
  },
  {
   "cell_type": "code",
   "execution_count": null,
   "metadata": {
    "tags": [
     "solution"
    ]
   },
   "outputs": [],
   "source": [
    "# Avant de dériver, il faut mettre en forme les données\n",
    "# Ici, on utilise une méthode de moyenne locale pour obtenir des points R(T) sur une grille régulière\n",
    "# D'autres solutions sont possibles\n",
    "\n",
    "def lavg(x, y, step): # Fonction moyenne locale \n",
    "    \n",
    "    # L'idée est de créer un tableau régulier en abscisse avec un pas 'step'\n",
    "    # puis de moyenner tous les points d'abscisses proches des points du nouveau tableau\n",
    "    \n",
    "    # Bornes des abcisses\n",
    "    xmin = np.min(x) \n",
    "    xmax = np.max(x)\n",
    "    \n",
    "    # Premièrement on vérifie que le pas n'est pas trop petit pour les données\n",
    "    # Si le pas est trop petit, on pourrait trouver un point sans données à moyenner\n",
    "    # On cherche donc le pas le plus petit acceptable, \n",
    "    # c'est-a-dire l'écart maximum entre deux abscisses consécutives\n",
    "    stepmin = 0 \n",
    "    for i in range(len(x) - 1):\n",
    "        if abs(x[i] - x[i + 1]) > stepmin: # La valeur absolue permet d'avoir un tableau x classé en ordre décroissant si on veut\n",
    "            stepmin = abs(x[i] - x[i + 1])\n",
    "    \n",
    "    if step < stepmin: # Si le pas est trop petit pour la moyenne, on envoie un message d'erreur\n",
    "        print(\"step too small\")\n",
    "        return 0\n",
    "    \n",
    "    # On crée le nouveau tableau d'abscisses\n",
    "    nx = np.arange(xmin, xmax, step)\n",
    "    # On initialise le nouveau tableau d'ordonnées\n",
    "    ny = np.zeros(len(nx))\n",
    "    \n",
    "    for i in range(len(nx)): # Pour chaque point de nx\n",
    "        xresult = [] # Initialisation de xresult\n",
    "        for j in range(len(x)): # On cherche tous les points de x contenus dans l'intervalle autour du nx[i]\n",
    "            if x[j] >= (nx[i] - step / 2) and x[j] < (nx[i] + step / 2):\n",
    "                xresult.append(j) # On liste ces points dans xresult\n",
    "        \n",
    "        for j in range(len(xresult)): # On moyenne ensuite les ordonnées correspondantes\n",
    "            ny[i] = ny[i] + y[xresult[j]]\n",
    "        ny[i] = ny[i] / len(xresult)\n",
    "        \n",
    "    return [nx, ny] # On retourne une liste de 2 tableaux numpy [abscisses, ordonnées]\n",
    "\n",
    "\n",
    "\n",
    "def derivclean(x, y, step): # Fonction combinant moyenne locale et dérivée\n",
    "    cleaned = lavg(x, y, step)\n",
    "    \n",
    "    if cleaned == 0: # Si le pas est trop petit pour la moyenne, on envoie un message d'erreur\n",
    "        print(\"step too small\")\n",
    "        return 0\n",
    "    \n",
    "    nx = cleaned[0]\n",
    "    ny = cleaned[1]\n",
    "    deriv = derivcentre(nx, ny) # On apelle la fonction de dérivation \n",
    "    \n",
    "    return [nx, ny, deriv[1]] # On retourne à la fois la nouvelle abscisse, la courbe moyennée et sa dérivée"
   ]
  },
  {
   "cell_type": "code",
   "execution_count": null,
   "metadata": {
    "tags": [
     "solution"
    ]
   },
   "outputs": [],
   "source": [
    "out = derivclean(T, R, 0.8)\n",
    "# On affiche d'abord la fonction et son interpolation\n",
    "plt.plot(T, R, '+', label = 'brut')\n",
    "plt.plot(out[0], out[1], label = 'clean')\n",
    "plt.xlabel('$T$ (K)')\n",
    "plt.ylabel('$R_S$ ($\\Omega$/carré)')\n",
    "plt.legend()\n",
    "plt.show()\n",
    "# On affiche ensuite la dérivée\n",
    "plt.plot(out[0], out[2])\n",
    "plt.xlabel('$T$ (K)')\n",
    "plt.ylabel('$dRs/dT$ (a.u.)')\n",
    "plt.show()"
   ]
  },
  {
   "cell_type": "markdown",
   "metadata": {},
   "source": [
    "## Intégration numérique\n",
    "\n",
    "Nous allons étudier plusieurs méthodes d'intégration numérique. Nous commençons par rappeler la méthode des rectangles vue dans la partie cours.\n",
    "\n",
    "### Méthode des rectangles\n",
    "\n",
    "Pour une fonction intégrable $f$, on cherche à calculer l'intégrale suivante :\n",
    "$$\n",
    "I(f) = \\int_{a}^{b} f(x)\\mathrm{d}x \n",
    "$$\n",
    "On choisit de discrétiser l'intervalle $[a,b]$ en $n$ intervalles de même longueur, repérés par les points $x_i = a+i\\times \\Delta x$ avec $\\Delta x=\\frac{b-a}{n}$ . Une approximation de l'intégrale $I(f)$ est donnée par :\n",
    "$$\n",
    "I(f) \\approx  I_n(f) = \\sum_{i=0}^{n-1} f(x_i)\\Delta x \n",
    "$$\n"
   ]
  },
  {
   "attachments": {
    "IntRect.png": {
     "image/png": "[encoded data removed]"
    }
   },
   "cell_type": "markdown",
   "metadata": {},
   "source": [
    "![IntRect.png](attachment:IntRect.png)"
   ]
  },
  {
   "cell_type": "markdown",
   "metadata": {},
   "source": [
    "### Méthode du point milieu\n",
    "\n",
    "Une approximation plus précise de l'intégrale $I(f)$ peut être calculée en considérant les valeurs de $f$ au centre des $n$ intervalles considérés. C'est-à-dire les points de coordonnées $x_i = a + (i+1/2)\\times\\Delta x$. L'intervalle est alors calculé par l'approximation :\n",
    "$$\n",
    "J_n(f) = \\sum_{i=0}^{n-1} f(x_i)\\Delta x  \n",
    "$$"
   ]
  },
  {
   "attachments": {
    "IntTrap.png": {
     "image/png": "[encoded data removed]"
    }
   },
   "cell_type": "markdown",
   "metadata": {},
   "source": [
    "![IntTrap.png](attachment:IntTrap.png)"
   ]
  },
  {
   "cell_type": "markdown",
   "metadata": {},
   "source": [
    "### Méthode des trapèzes\n",
    "Enfin, la méthode des trapèzes consiste à approximer la fonction $f$ par une fonction affine par morceaux entre les points de coordonnées $x_i = a + i\\times\\Delta x$. On peut alors calculer l'intégrale :\n",
    "$$\n",
    "K_n(f) = \\sum_{i=0}^{n-1} \\frac{f(x_i)+f(x_{i+1})}{2}\\Delta x \n",
    "$$\n",
    "\n",
    "1. Implémentez ces trois méthodes d'intégration numérique sous la forme de fonctions. On pourra mettre en arguments des fonctions : la fonction à intégrer, les bornes d'intégrations et le nombre de points d'intégration.\n"
   ]
  },
  {
   "cell_type": "code",
   "execution_count": null,
   "metadata": {
    "tags": [
     "solution"
    ]
   },
   "outputs": [],
   "source": [
    "# Méthode des rectangles\n",
    "def Intrect(f, a, b, n):    \n",
    "    deltax = (b - a) / n\n",
    "    output = 0 # Initialisation de la somme à zéro\n",
    "    for i in range(n):\n",
    "        output = output + f(a + i * deltax) * deltax\n",
    "    return output\n",
    "\n",
    "# Méthode du point milieu\n",
    "def Intmilieu(f, a, b, n):\n",
    "    deltax = (b - a) / n\n",
    "    output = 0 # Initialisation de la somme à zéro\n",
    "    for i in range(n):\n",
    "        output = output + f(a + (i + 0.5) * deltax) * deltax\n",
    "    return output\n",
    "\n",
    "# Méthode des trapèzes\n",
    "def Inttrap(f, a, b, n):\n",
    "    deltax = (b - a) / n\n",
    "    output = 0 # Initialisation de la somme à zéro\n",
    "    for i in range(n):\n",
    "        output = output + (f(a + i * deltax) + f(a + (i + 1) * deltax)) * deltax / 2\n",
    "    return output"
   ]
  },
  {
   "cell_type": "markdown",
   "metadata": {},
   "source": [
    "2. Appliquez ces méthodes d'intégration aux trois fonctions données en introduction et comparez aux valeurs analytiques que vous aurez calculées en choisissant des bornes appropriées."
   ]
  },
  {
   "cell_type": "code",
   "execution_count": null,
   "metadata": {
    "tags": [
     "solution"
    ]
   },
   "outputs": [],
   "source": [
    "# Primitives\n",
    "\n",
    "def F(x):\n",
    "    return (x ** 2 + x + 1) / (x ** 2 + 1)\n",
    "\n",
    "def G(x):\n",
    "    return -np.log(np.cos(x))\n",
    "\n",
    "def H(x):\n",
    "    return np.log(1 + np.exp(x))"
   ]
  },
  {
   "cell_type": "code",
   "execution_count": null,
   "metadata": {
    "tags": [
     "solution"
    ]
   },
   "outputs": [],
   "source": [
    "# Pour calculer l'intégrale de f entre a et b\n",
    "\n",
    "a = -1\n",
    "b = 2\n",
    "n = 100\n",
    "print(\"exact :\\t\\t\", F(b) - F(a))\n",
    "print(\"rectangle :\\t\", Intrect(f, a, b, n))\n",
    "print(\"milieu :\\t\", Intmilieu(f, a, b, n))\n",
    "print(\"trapeze :\\t\", Inttrap(f, a, b, n))"
   ]
  },
  {
   "cell_type": "code",
   "execution_count": null,
   "metadata": {
    "tags": [
     "solution"
    ]
   },
   "outputs": [],
   "source": [
    "# Pour calculer l'intégrale de g entre a et b\n",
    "\n",
    "a = 0\n",
    "b = 1\n",
    "n = 100\n",
    "print(\"exact :\\t\\t\", G(b) - G(a))\n",
    "print(\"rectangle :\\t\", Intrect(g, a, b, n))\n",
    "print(\"milieu :\\t\", Intmilieu(g, a, b, n))\n",
    "print(\"trapeze :\\t\", Inttrap(g, a, b, n))"
   ]
  },
  {
   "cell_type": "code",
   "execution_count": null,
   "metadata": {
    "tags": [
     "solution"
    ]
   },
   "outputs": [],
   "source": [
    "# Pour calculer l'intégrale de h entre a et b\n",
    "\n",
    "a = 0\n",
    "b = 1\n",
    "n = 100\n",
    "print(\"exact :\\t\\t\", H(b) - H(a))\n",
    "print(\"rectangle :\\t\", Intrect(h, a, b, n))\n",
    "print(\"milieu :\\t\", Intmilieu(h, a, b, n))\n",
    "print(\"trapeze :\\t\", Inttrap(h, a, b, n))"
   ]
  },
  {
   "cell_type": "markdown",
   "metadata": {},
   "source": [
    "3. Étudiez le comprtement de l'erreur d'approximation avec le nombre de points. On pourra par exemple tracer un graphe de l'erreur en fonction du nombre de points (10, 100, 1000, etc.)"
   ]
  },
  {
   "cell_type": "code",
   "execution_count": null,
   "metadata": {
    "tags": [
     "solution"
    ]
   },
   "outputs": [],
   "source": [
    "# On crée un fonction qui prend en entrée :\n",
    "# La fonction d'intégration choisie, la primitive analytique, les bornes, et la liste des nombres de points\n",
    "\n",
    "def errorplot(Int, F, f, a, b, n):\n",
    "    # On initialise le tableau numpy de sortie\n",
    "    erreurs = np.zeros(len(n)) \n",
    "    \n",
    "    if F(a) == F(b):        \n",
    "        # Au cas où l'integrale analytique soit nulle, on prend la valeur absolue de l'intégrale approximée comme erreur\n",
    "        for i in range(len(n)):\n",
    "            # Pour chaque nombre de points, on calcule l'erreur\n",
    "            erreurs[i] = abs(Int(f, a, b, int(n[i]))) \n",
    "            # Notez le int() pour s'assurer que le n_i est bien un entier\n",
    "            \n",
    "    else: \n",
    "        # Si l'integrale est non nulle on prend l'erreur relative\n",
    "        exact = F(b) - F(a)\n",
    "        for i in range(len(n)):\n",
    "            # Pour chaque nombre de points dans la liste n, on calcule l'erreur\n",
    "            erreurs[i] = abs(exact - Int(f, a, b, int(n[i]))) / abs(exact) \n",
    "            \n",
    "    return erreurs # On retourne la liste des erreurs sous forme de tableau numpy"
   ]
  },
  {
   "cell_type": "code",
   "execution_count": null,
   "metadata": {
    "tags": [
     "solution"
    ]
   },
   "outputs": [],
   "source": [
    "# Pour f\n",
    "\n",
    "# On crée la liste des nombres de points à tester\n",
    "n = np.logspace(1, 5, 10)\n",
    "\n",
    "# On choisit les bornes d'intégrations\n",
    "a = 0\n",
    "b = 1\n",
    "\n",
    "plt.loglog(n, errorplot(Intrect, F, f, a, b, n), '+-', label = 'rectangle')\n",
    "plt.loglog(n, errorplot(Intmilieu, F, f, a, b, n), '+-', label = 'milieu')\n",
    "plt.loglog(n, errorplot(Inttrap, F, f, a, b, n), '+-', label = 'trapèze')\n",
    "plt.xlabel('nombre de points')\n",
    "plt.ylabel('erreur')\n",
    "plt.legend()\n",
    "plt.show()"
   ]
  },
  {
   "cell_type": "code",
   "execution_count": null,
   "metadata": {
    "tags": [
     "solution"
    ]
   },
   "outputs": [],
   "source": [
    "# Pour g\n",
    "\n",
    "# On crée la liste des nombres de points à tester\n",
    "n = np.logspace(1, 5, 10)\n",
    "\n",
    "# On choisit les bornes d'intégrations\n",
    "a = 0\n",
    "b = 1\n",
    "\n",
    "plt.loglog(n, errorplot(Intrect, G, g, a, b, n), '+-', label = 'rectangle')\n",
    "plt.loglog(n, errorplot(Intmilieu, G, g, a, b, n), '+-', label = 'milieu')\n",
    "plt.loglog(n, errorplot(Inttrap, G, g, a, b, n), '+-', label = 'trapèze')\n",
    "plt.xlabel('nombre de points')\n",
    "plt.ylabel('erreur')\n",
    "plt.legend()\n",
    "plt.show()"
   ]
  },
  {
   "cell_type": "code",
   "execution_count": null,
   "metadata": {
    "tags": [
     "solution"
    ]
   },
   "outputs": [],
   "source": [
    "# Pour h\n",
    "\n",
    "# On crée la liste des nombres de points à tester\n",
    "n = np.logspace(1, 5, 10)\n",
    "\n",
    "# On choisit les bornes d'intégrations\n",
    "a = 0\n",
    "b = 1\n",
    "\n",
    "plt.loglog(n, errorplot(Intrect, H, h, a, b, n), '+-', label = 'rectangle')\n",
    "plt.loglog(n, errorplot(Intmilieu, H, h, a, b, n), '+-', label = 'milieu')\n",
    "plt.loglog(n, errorplot(Inttrap, H, h, a, b, n), '+-', label = 'trapèze')\n",
    "plt.xlabel('nombre de points')\n",
    "plt.ylabel('erreur')\n",
    "plt.legend()\n",
    "plt.show()"
   ]
  },
  {
   "cell_type": "markdown",
   "metadata": {},
   "source": [
    "## Pour aller plus loin\n",
    "\n",
    "Dérivation et intégration étant incontournables en mathématiques et en physique, il serait étonnant de ne pas trouver ces outils dans certains modules. Le module `scipy` propose en effet les fonctions `derivative` et `integrate`, dont vous pouvez consulter la documentation :\n",
    "- https://docs.scipy.org/doc/scipy/reference/generated/scipy.misc.derivative.html\n",
    "- https://docs.scipy.org/doc/scipy/reference/integrate.html\n",
    "\n",
    "On peut également mentionner le module `sympy` qui permet de différencier et intégrer de manière formelle."
   ]
  },
  {
   "cell_type": "code",
   "execution_count": null,
   "metadata": {},
   "outputs": [],
   "source": [
    "import sympy as sp\n",
    "x, y, z = sp.symbols('x y z')"
   ]
  },
  {
   "cell_type": "code",
   "execution_count": null,
   "metadata": {},
   "outputs": [],
   "source": [
    "sp.diff(sp.tan(x), x)"
   ]
  },
  {
   "cell_type": "code",
   "execution_count": null,
   "metadata": {},
   "outputs": [],
   "source": [
    "sp.integrate(sp.tan(x), x)"
   ]
  }
 ],
 "metadata": {
  "celltoolbar": "Éditer les Méta-Données",
  "kernelspec": {
   "display_name": "Python 3",
   "language": "python",
   "name": "python3"
  },
  "language_info": {
   "codemirror_mode": {
    "name": "ipython",
    "version": 3
   },
   "file_extension": ".py",
   "mimetype": "text/x-python",
   "name": "python",
   "nbconvert_exporter": "python",
   "pygments_lexer": "ipython3",
   "version": "3.8.3"
  }
 },
 "nbformat": 4,
 "nbformat_minor": 4
}
