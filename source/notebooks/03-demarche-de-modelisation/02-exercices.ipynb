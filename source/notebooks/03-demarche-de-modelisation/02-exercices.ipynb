{
 "cells": [
  {
   "cell_type": "markdown",
   "metadata": {},
   "source": [
    "# Exercices\n",
    "Le but de ces exercices est d'appliquer le modèle de l'accéleration constante à 1D à de nouvelles situations, de complexifier le modèle et d'explorer ses limitations. Nous verrons aussi d'autres types de modèles utilisés en physique."
   ]
  },
  {
   "cell_type": "markdown",
   "metadata": {},
   "source": [
    "## Pile ou face\n",
    "On joue à pile ou face avec une pièce de monnaie. Connaissant les conditions initiales du lancer de la pièce, on aimerait connaître sa trajectoire.\n",
    "\n",
    "Les trois représentations du mouvement de la pièce de monnaie sont l'accélération $a$, la vitesse $v$ et la position $z$ selon l'axe $z$ :\n",
    "$$\n",
    "\\left\\{\n",
    "    \\begin{array}{lll}\n",
    "        a(t) &=& g \\\\\n",
    "        v(t) &=& gt + v_0\\\\\n",
    "        z(t) &=& \\dfrac{1}{2} gt^2 + v_0 t + z_0\n",
    "    \\end{array}\n",
    "\\right.\n",
    "$$\n",
    "\n",
    "Vous choisirez pour cet exercice de représenter numériquement les fonctions par des tableaux Numpy 1D (représentation discrète). Vous choisirez vous-même l'intervalle et le pas de temps pour la représentation discrète.\n",
    "\n",
    "1. Représenter graphiquement, l'un au-dessous de l'autre grâce à la fonction `subplot()`, l'accélération, la vitesse et la position $z$ de la pièce, pour $v_0 = -3.2 \\mathrm{~m.s^{-1}}$ et $z_0 = -1.5 \\mathrm{~m}$. Choisir l'intervalle de temps de façon à ce que la pièce dépasse de peu la position $z=0$."
   ]
  },
  {
   "cell_type": "code",
   "execution_count": null,
   "metadata": {
    "tags": [
     "solution"
    ]
   },
   "outputs": [],
   "source": [
    "# Importation des modules\n",
    "import numpy as np\n",
    "import matplotlib.pyplot as plt\n",
    "\n",
    "# Paramètres du problème\n",
    "pesanteur = 9.81 # m.s**-2\n",
    "vitesse_initiale = -3.2 # m.s**-1\n",
    "position_z_initiale = -1.5 # m\n",
    "temps_initial = 0 # s\n",
    "temps_final = 1.0 # s\n",
    "pas_temps = 0.05 # s\n",
    "\n",
    "# Création du tableau temps (discrétisation)\n",
    "intervalle = temps_final - temps_initial\n",
    "num_points = int(intervalle / pas_temps) + 1   # Nombre d'éléments\n",
    "temps = np.linspace(temps_initial, temps_final, num_points)\n",
    "\n",
    "# Création des autres tableaux\n",
    "acceleration = np.ones(temps.shape) * pesanteur\n",
    "vitesse = pesanteur * temps + vitesse_initiale\n",
    "position_z = 1 / 2 * pesanteur * temps ** 2 + vitesse_initiale * temps + position_z_initiale\n",
    "\n",
    "# Représentation de l'accélération\n",
    "plt.subplot(3, 1, 1)\n",
    "plt.plot(temps, acceleration)\n",
    "plt.ylabel('Accélération [m.s$^{-2}$]')\n",
    "plt.grid()\n",
    "plt.tick_params(axis = 'x', labelbottom = False) # Retire les labels de l'axe x\n",
    "plt.title(\"Modèle de l'accélération constante à 1D avec vitesse initiale\")\n",
    "\n",
    "# Représentation de la vitesse\n",
    "plt.subplot(3, 1, 2)\n",
    "plt.plot(temps, vitesse)\n",
    "plt.ylabel('vitesse [m.s$^{-1}$]')\n",
    "plt.grid()\n",
    "plt.tick_params(axis = 'x', labelbottom = False) # Retire les labels de l'axe x\n",
    "\n",
    "# Représentation de la position z\n",
    "plt.subplot(3, 1, 3)\n",
    "plt.plot(temps, position_z)\n",
    "plt.ylabel('position z [m]')\n",
    "plt.xlabel('temps [s]')\n",
    "plt.grid()\n",
    "\n",
    "plt.subplots_adjust(top = 1.5) # Agrandit l'espace entre les figures\n",
    "\n",
    "plt.show()"
   ]
  },
  {
   "cell_type": "markdown",
   "metadata": {},
   "source": [
    "2. Représenter le mouvement de l'objet dans le plan $(x0z)$, pour $x_0 = 4 \\mathrm{~m}$. Sur cette représentation, placer un point rouge à l'endroit de la position initiale de l'objet."
   ]
  },
  {
   "cell_type": "code",
   "execution_count": null,
   "metadata": {
    "tags": [
     "solution"
    ]
   },
   "outputs": [],
   "source": [
    "# Paramètres du problème\n",
    "position_x_initiale = 4 # m\n",
    "\n",
    "# Création du tableau position x\n",
    "position_x = np.ones(temps.shape) * position_x_initiale\n",
    "\n",
    "# Représentation graphique du mouvement\n",
    "plt.plot(position_x, -position_z, 'x-')\n",
    "\n",
    "# Style\n",
    "plt.xlabel(\"position x [m]\")\n",
    "plt.ylabel(\"position -z [m]\")\n",
    "plt.grid()\n",
    "\n",
    "# Position initiale\n",
    "plt.plot(position_x_initiale, -position_z_initiale, 'ro')\n",
    "\n",
    "plt.show()"
   ]
  },
  {
   "cell_type": "markdown",
   "metadata": {},
   "source": [
    "## Tir à l'arc\n",
    "Pour un tir à l'arc, nous souhaitons modéliser la trajectoire de la flèche, en utilisant le modèle de l'accélération constante. Nous modélisons la flèche par une particule ponctuelle. La cible se trouve à 40 mètres du tireur, à une hauteur de $1,5 \\mathrm{~m}$, et fait $50 \\mathrm{~cm}$ de diamètre.\n",
    "\n",
    "Pour un mouvement à 2D suivant les axes $z$ et $x$, nous avons les équations suivantes pour les vitesses suivant les axes $z$ et $x$, respectivement :\n",
    "$$\n",
    "\\left\\{\n",
    "    \\begin{array}{lll}\n",
    "        v_z(t) &=& gt + v_0^z\\\\\n",
    "        v_x(t) &=& v_0^x\n",
    "    \\end{array}\n",
    "\\right.\n",
    "$$\n",
    "\n",
    "et pour les positions suivant les axes $z$ et $x$, respectivement :\n",
    "$$\n",
    "\\left\\{\n",
    "    \\begin{array}{lll}\n",
    "        z(t) &=& \\dfrac{1}{2} gt^2 + v_0^z t + z_0\\\\\n",
    "        x(t) &=& v_0^x t + x_0\n",
    "    \\end{array}\n",
    "\\right.\n",
    "$$\n",
    "\n",
    "1. Créer un DataFrame Pandas pour représenter le mouvement. Vous choisirez vous-même la discrétisation des fonctions. L'index du DataFrame doit représenter le temps. Vous allez ensuite créer 5 colonnes pour le DataFrame, représentant : l'accélération, la vitesse suivant l'axe $z$, la vitesse suivant l'axe $x$, la position suivant l'axe $z$, et la position suivant l'axe $x$. Les paramètres du problème sont :\n",
    "$$\n",
    "\\left\\{\n",
    "    \\begin{array}{lll}\n",
    "        v_0^z = -1.3 \\ \\mathrm{m.s^{-1}}\\\\\n",
    "        v_0^x = 99.6 \\ \\mathrm{m.s^{-1}}\\\\\n",
    "        z_0 = -1.5 \\ \\mathrm{m}\\\\\n",
    "        x_0 = 0.0 \\ \\mathrm{m}\n",
    "    \\end{array}\n",
    "\\right.\n",
    "$$"
   ]
  },
  {
   "cell_type": "code",
   "execution_count": null,
   "metadata": {
    "tags": [
     "solution"
    ]
   },
   "outputs": [],
   "source": [
    "# Importation des modules\n",
    "import numpy as np\n",
    "import pandas as pd\n",
    "\n",
    "# Paramètres du problème\n",
    "pesanteur = 9.81 # m.s**-2\n",
    "vitesse_z_initiale = -1.3 # m.s**-1\n",
    "position_z_initiale = -1.5 # m\n",
    "vitesse_x_initiale = 99.6 # m.s**-1\n",
    "position_x_initiale = 0.0 # m\n",
    "temps_initial = 0 # s\n",
    "temps_final = 0.5 # s\n",
    "pas_temps = 0.01 # s\n",
    "\n",
    "# Création du tableau temps (discrétisation)\n",
    "intervalle = temps_final - temps_initial\n",
    "num_points = int(intervalle / pas_temps) + 1   # Nombre d'éléments\n",
    "temps = np.linspace(temps_initial, temps_final, num_points)\n",
    "\n",
    "# Création du DataFrame avec une colonne accélération\n",
    "acceleration = np.ones(temps.shape) * pesanteur\n",
    "df = pd.DataFrame(data = acceleration, index = temps, columns = ['acceleration'])\n",
    "\n",
    "# Création des autres colonnes\n",
    "df[\"vitesse_z\"] = pesanteur * temps + vitesse_z_initiale\n",
    "df[\"vitesse_x\"] = vitesse_x_initiale\n",
    "df[\"position_z\"] = 1 / 2 * pesanteur * temps ** 2 + vitesse_z_initiale * temps + position_z_initiale\n",
    "df[\"position_x\"] = vitesse_x_initiale * temps + position_x_initiale\n",
    "\n",
    "# Affichage du tableau pour vérification\n",
    "df.head(n = 10)"
   ]
  },
  {
   "cell_type": "markdown",
   "metadata": {},
   "source": [
    "2. Représenter le mouvement de l'objet dans le plan $(x0z)$, pour $z\\in [0,2] \\mathrm{~m}$ et $x\\in [0,30] \\mathrm{~m}$. Sur cette représentation, placer un point rouge à l'endroit de la position initiale de l'objet."
   ]
  },
  {
   "cell_type": "code",
   "execution_count": null,
   "metadata": {
    "tags": [
     "solution"
    ]
   },
   "outputs": [],
   "source": [
    "# Importation des modules\n",
    "import matplotlib.pyplot as plt\n",
    "\n",
    "# Représentation graphique du mouvement\n",
    "plt.plot(df[\"position_x\"], -df[\"position_z\"], 'x-')\n",
    "\n",
    "# Style\n",
    "plt.xlabel(\"position x [m]\")\n",
    "plt.ylabel(\"position -z [m]\")\n",
    "plt.ylim(0, 2)\n",
    "plt.xlim(0, 40)\n",
    "plt.grid()\n",
    "\n",
    "# Position initiale\n",
    "plt.plot(position_x_initiale, -position_z_initiale, 'ro')\n",
    "\n",
    "plt.show()"
   ]
  },
  {
   "cell_type": "markdown",
   "metadata": {},
   "source": [
    "3. En choississant mieux les limites des axes pour la représentation du mouvement, déterminez si le tireur atteint la cible."
   ]
  },
  {
   "cell_type": "code",
   "execution_count": null,
   "metadata": {
    "tags": [
     "solution"
    ]
   },
   "outputs": [],
   "source": [
    "# Représentation graphique du mouvement\n",
    "plt.plot(df[\"position_x\"], -df[\"position_z\"], 'x-')\n",
    "\n",
    "# Style\n",
    "plt.xlabel(\"position x [m]\")\n",
    "plt.ylabel(\"position -z [m]\")\n",
    "plt.ylim(1.5 - 0.25, 1.5 + 0.25)\n",
    "plt.xlim(0,40)\n",
    "plt.grid()\n",
    "\n",
    "plt.show()\n",
    "\n",
    "# On voit que le tireur n'atteint pas sa cible"
   ]
  },
  {
   "cell_type": "markdown",
   "metadata": {},
   "source": [
    "4. En réflechissant aux limites de votre modèle, est-ce que la conclusion de cette étude pourrait être changée ? Comment améliorer le modèle ?"
   ]
  },
  {
   "cell_type": "markdown",
   "metadata": {
    "tags": [
     "solution"
    ]
   },
   "source": [
    "Le modèle de particule ponctuelle pour une flèche n'est sûrement pas adapté. En effet, la flèche, de par sa longueur et son empenage, est optimisée pour garder une trajectoire horizontale. Il faudrait adapter notre modèle de flèche pour prendre en compte son extension, et notre modèle d'interaction pour prendre en compte les frottements de l'air."
   ]
  },
  {
   "cell_type": "markdown",
   "metadata": {},
   "source": [
    "## Première détection d'onde gravitationnelle\n",
    "Une [onde gravitationnelle](https://fr.wikipedia.org/wiki/Onde_gravitationnelle) est une oscillation de l'espace et du temps qui se propage à la vitesse de la lumière, dont Albert Einstein a prédit l'existence en 1916. GW150914 est le nom du signal à l'origine de la première observation directe d'ondes gravitationnelles, faite le 14 septembre 2015 sur les deux sites américains jumeaux LIGO construits en Louisiane (Livingston) et dans l'État de Washington (Hanford) à environ trois mille kilomètres de distance.\n",
    "\n",
    "Ce signal correspond aux prédictions de la relativité générale concernant la chute en spirale et la fusion d'une paire de trous noirs de 36 et 29 fois la masse du Soleil, et l'effet provoqué par le trou noir résultant. Cet évènement a dégagé pendant un court instant autant d'énergie que le rayonnement de toutes les étoiles de l'univers observable ! Cette détection marque le début de l'astronomie gravitationnelle, avec aujourd'hui [de nombreux autres événements détectés](https://fr.wikipedia.org/wiki/Liste_d%27ondes_gravitationnelles), correspondant toujours à la fusion d'objets compacts."
   ]
  },
  {
   "cell_type": "markdown",
   "metadata": {},
   "source": [
    "1. Dans le fichier *gw.dat* il y a trois colonnes correspondant respectivement au temps, au signal du détecteur de Hanford, et au signal de Livingston. Lire le fichier et stocker les données dans trois tableaux Numpy différents."
   ]
  },
  {
   "cell_type": "code",
   "execution_count": null,
   "metadata": {
    "tags": [
     "solution"
    ]
   },
   "outputs": [],
   "source": [
    "# Importation des modules\n",
    "import numpy as np\n",
    "\n",
    "# Importation des données\n",
    "time, gw1, gw2 = np.loadtxt('gw.dat', unpack = True)"
   ]
  },
  {
   "cell_type": "markdown",
   "metadata": {},
   "source": [
    "2. La fusion des 2 trous noirs a lieu au temps $t_0 = 1126259462.422 \\mathrm{~s}$. Représenter le signal du détecteur de Hanford en fonction du temps, en centrant le graphique sur le temps $t_0$ avec une fenêtre de $2 \\mathrm{~s}$, et limiter l'échelle des ordonnées entre $-4$ et $4$. Mettre un titre et nommer les axes. Que constatez-vous ?"
   ]
  },
  {
   "cell_type": "code",
   "execution_count": null,
   "metadata": {
    "tags": [
     "solution"
    ]
   },
   "outputs": [],
   "source": [
    "# Importation des modules\n",
    "import matplotlib.pyplot as plt\n",
    "\n",
    "# Graphique\n",
    "time_event = 1126259462.422\n",
    "plt.plot(time-time_event, gw1)\n",
    "\n",
    "# Style\n",
    "plt.xlim(-1, 1)\n",
    "plt.ylim(-4, 4)\n",
    "plt.grid()\n",
    "plt.xlabel('temps [s]')\n",
    "\n",
    "plt.show()\n",
    "\n",
    "# On voit clairement un signal sortir du bruit des données au moment de la fusion des 2 trous noirs."
   ]
  },
  {
   "cell_type": "markdown",
   "metadata": {},
   "source": [
    "3. Les physiciens ont calculé un modèle théorique du signal à partir des équations de la relativité générale. Lire le modèle dans le fichier *gw_model.dat*. Il contient 2 colonnes : le temps et le modèle théorique. Cette échelle de temps est décalée par rapport à l'échelle de temps du signal, car $t=0$ au moment de la fusion des deux trous noirs. Représenter sur un même graphique et avec la même échelle de temps le signal du détecteur de Hanford et le modèle théorique. Limiter l'échelle des ordonnées entre $-4$ et $4$, et l'échelle de temps à une fenêtre de $200 \\mathrm{~ms}$ autour de l'instant de la fusion du trou noir. Que constatez-vous ?"
   ]
  },
  {
   "cell_type": "code",
   "execution_count": null,
   "metadata": {
    "tags": [
     "solution"
    ]
   },
   "outputs": [],
   "source": [
    "# Lecture du modèle\n",
    "time_model, model = np.loadtxt('gw_model.dat', unpack = True)\n",
    "\n",
    "# Graphique\n",
    "plt.plot(time - time_event, gw1) # Données\n",
    "plt.plot(time_model, model)      # Modèle\n",
    "\n",
    "# Style\n",
    "plt.xlim(-0.1, 0.1)\n",
    "plt.ylim(-4, 4)\n",
    "plt.legend(('données', 'modèle'))\n",
    "plt.xlabel('temps [s]')\n",
    "plt.grid()\n",
    "\n",
    "plt.show()\n",
    "\n",
    "# On constate que le modèle se superpose plutôt bien aux données"
   ]
  },
  {
   "cell_type": "markdown",
   "metadata": {},
   "source": [
    "4. De la même façon, représenter sur un même graphique et avec la même échelle de temps le signal du détecteur de Livingston et le modèle théorique. Que constatez-vous ?"
   ]
  },
  {
   "cell_type": "code",
   "execution_count": null,
   "metadata": {
    "tags": [
     "solution"
    ]
   },
   "outputs": [],
   "source": [
    "# Graphique\n",
    "plt.plot(time - time_event, gw2)\n",
    "plt.plot(time_model, model)\n",
    "\n",
    "# Style\n",
    "plt.xlim(-0.1, 0.1)\n",
    "plt.ylim(-4, 4)\n",
    "plt.legend(('données', 'modèle'))\n",
    "plt.grid()\n",
    "\n",
    "plt.show()\n",
    "\n",
    "# On constate que le modèle ne représente plus bien les données. Les deux semblent décalés."
   ]
  },
  {
   "cell_type": "markdown",
   "metadata": {},
   "source": [
    "5. L'onde gravitationnelle met environ $\\delta t = 7$ ms à se propager depuis le détecteur de Livingston au détecteur de Hanford. En calculant le temps d'échantillonage $h$ du signal (c'est-à-dire le temps écoulé entre deux points consécutifs du signal), déduire quel est le nombre de pas $N$ qui correspond le mieux à $\\delta t$, tel que $\\delta t \\approx N \\times h$."
   ]
  },
  {
   "cell_type": "code",
   "execution_count": null,
   "metadata": {
    "tags": [
     "solution"
    ]
   },
   "outputs": [],
   "source": [
    "# Calcul du pas d'échantillonage\n",
    "dt = time[1]-time[0]\n",
    "\n",
    "# Calcul du nombre de pas\n",
    "dt1 = 7e-3\n",
    "N = int(round(dt1 / dt))\n",
    "\n",
    "# Affichage\n",
    "print(N)"
   ]
  },
  {
   "cell_type": "markdown",
   "metadata": {},
   "source": [
    "6. Définir une fonction de signature `decalage(u, N)`, avec $u$ un tableau numpy de longueur $N_u$ et $N$ un entier, qui retourne un tableau $v$ décalé de $N$ indices, tel que $v_{i+N} = u_i$ pour $0\\le i<N_u-N$, et $v_i = 0$ pour $0\\le i<N$."
   ]
  },
  {
   "cell_type": "code",
   "execution_count": null,
   "metadata": {
    "tags": [
     "solution"
    ]
   },
   "outputs": [],
   "source": [
    "# Définition de la fonction\n",
    "def decalage(u, N):\n",
    "    \"\"\" Décale le tableau u de N indice vers l'arrière \"\"\"\n",
    "    Nd = np.size(u)\n",
    "    v = np.zeros(u.shape)\n",
    "    for i in range(Nd - N):\n",
    "        v[i + N] = u[i]\n",
    "    return v"
   ]
  },
  {
   "cell_type": "code",
   "execution_count": null,
   "metadata": {
    "tags": [
     "solution"
    ]
   },
   "outputs": [],
   "source": [
    "# Autre solution plus compacte\n",
    "def decalage(u, N):\n",
    "    \"\"\" Décale le tableau u de N indice vers l'arrière \"\"\"\n",
    "    return np.concatenate((np.zeros(N), u[:len(u) - N]))"
   ]
  },
  {
   "cell_type": "markdown",
   "metadata": {},
   "source": [
    "7. Utiliser cette fonction pour décaler le signal du détecteur de Livingston de l'entier $N$ déterminé à la question 5, et représenter sur un même graphique et avec la même échelle de temps le signal du détecteur de Livingston décalé et le modèle théorique. Que constatez-vous ? Ajouter au graphique le signal du détecteur de Hanford et légender le graphique."
   ]
  },
  {
   "cell_type": "code",
   "execution_count": null,
   "metadata": {
    "tags": [
     "solution"
    ]
   },
   "outputs": [],
   "source": [
    "# Décalage du signal de Livingston\n",
    "gw2_decal = decalage(gw2, N)\n",
    "\n",
    "# Graphique\n",
    "plt.plot(time - time_event, gw1)\n",
    "plt.plot(time - time_event, gw2_decal)\n",
    "plt.plot(time_model, model)\n",
    "\n",
    "# Style\n",
    "plt.xlim(-0.1, 0.1)\n",
    "plt.ylim(-4, 4)\n",
    "plt.legend(('données Hanford', 'données Livingston', 'modèle'))\n",
    "plt.xlabel('temps [s]')\n",
    "plt.grid()\n",
    "\n",
    "plt.show()"
   ]
  }
 ],
 "metadata": {
  "celltoolbar": "Tags",
  "kernelspec": {
   "display_name": "Python 3",
   "language": "python",
   "name": "python3"
  },
  "language_info": {
   "codemirror_mode": {
    "name": "ipython",
    "version": 3
   },
   "file_extension": ".py",
   "mimetype": "text/x-python",
   "name": "python",
   "nbconvert_exporter": "python",
   "pygments_lexer": "ipython3",
   "version": "3.8.3"
  }
 },
 "nbformat": 4,
 "nbformat_minor": 4
}
