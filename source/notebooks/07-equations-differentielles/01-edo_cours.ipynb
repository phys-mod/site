{
 "cells": [
  {
   "cell_type": "markdown",
   "metadata": {},
   "source": [
    "# Équations différentielles ordinaires (EDO)"
   ]
  },
  {
   "cell_type": "markdown",
   "metadata": {},
   "source": [
    "## L'épaisseur de mousse de bière\n",
    "Reprenons l'exemple de la [vitesse de décroissance de l'épaisseur de mousse de bière](https://www.tf.uni-kiel.de/matwis/amat/iss/kap_2/articles/beer_article.pdf). Cet article montre que la hauteur de la mousse $h(t)$ suit une loi de décroissance :\n",
    "\n",
    "$$ \\frac{\\text{d}h}{\\text{d}t}(t) = -\\frac{h(t)}{\\tau}$$\n",
    "\n",
    "Afin de trouver une solution particulière à cette équation, nous spécifions la condition initiale suivante en $t_0 = 0$ :\n",
    "\n",
    "$$ h(t_0) = h_0 = 3 \\ \\text{cm}$$\n",
    "\n",
    "et la valeur du paramètre :\n",
    "\n",
    "$$ \\tau = 123 \\ \\text{s} $$\n",
    "\n",
    "Créons des variables `h0` et `t0` qui contiennent les conditions initiales, et une variable `tau` qui contient le paramètre :"
   ]
  },
  {
   "cell_type": "code",
   "execution_count": null,
   "metadata": {},
   "outputs": [],
   "source": [
    "# Condition initiale\n",
    "t0 = 0 # s\n",
    "h0 = 3 # cm\n",
    "\n",
    "# Paramètre\n",
    "tau = 123 # s"
   ]
  },
  {
   "cell_type": "markdown",
   "metadata": {},
   "source": [
    "Comment trouver la fonction $h(t)$ grâce à une méthode numérique ?"
   ]
  },
  {
   "cell_type": "markdown",
   "metadata": {},
   "source": [
    "## La formule de Taylor\n",
    "La loi de décroissance nous donne la dérivée de la fonction $h(t)$. Nous savons que la dérivée en un point est le coefficient directeur de la tangente de la courbe en ce point. Nous pouvons donc utiliser la loi de décroissance pour connaître le coefficient directeur de la tangente au point initial.\n",
    "\n",
    "Pour cela, écrivons une fonction python qui représente la loi de décroissance :"
   ]
  },
  {
   "cell_type": "code",
   "execution_count": null,
   "metadata": {},
   "outputs": [],
   "source": [
    "# Loi de décroissance\n",
    "def derivee_h (h, t):\n",
    "    '''\n",
    "        Loi de décroissance dh/dt (t) = - h / tau\n",
    "    '''\n",
    "    return -h / tau"
   ]
  },
  {
   "cell_type": "markdown",
   "metadata": {},
   "source": [
    "<div class=\"alert alert-info\">\n",
    "\n",
    "**La variable t**\n",
    "\n",
    "Nous avons mis comme 2ème argument de la fonction `derivee_h(h, t)` le temps $t$, alors que la loi de décroissance ne dépend pas explicitement de $t$. Cependant, en toute généralité, il est possible que le temps intervienne explicitement dans l'expression de la dérivée, donc on prendra l'habitude de l'écrire explicitement dans les arguments de la fonction.\n",
    "\n",
    "</div>"
   ]
  },
  {
   "cell_type": "markdown",
   "metadata": {},
   "source": [
    "La dérivée de $h$ en $(h_0,t_0)$ est :"
   ]
  },
  {
   "cell_type": "code",
   "execution_count": null,
   "metadata": {},
   "outputs": [],
   "source": [
    "print(derivee_h(h0, t0), 'cm/s')"
   ]
  },
  {
   "cell_type": "markdown",
   "metadata": {},
   "source": [
    "D'après la formule de Taylor, on peut écrire au voisinage de $t_0$ :\n",
    "$$ h(t) \\approx h_0 + (t-t_0) \\times \\frac{\\mathrm{d}h}{\\mathrm{d}t} (t_0)$$"
   ]
  },
  {
   "cell_type": "markdown",
   "metadata": {},
   "source": [
    "Utilisons la formule de Taylor pour calculer la valeur de la fonction $h_1$ en $t_1 = 10\\mathrm{~s}$ :"
   ]
  },
  {
   "cell_type": "code",
   "execution_count": null,
   "metadata": {},
   "outputs": [],
   "source": [
    "t1 = 10 # s\n",
    "\n",
    "# Application de la formule de Taylor\n",
    "h1 = h0 + (t1 - t0) * derivee_h(h0, t0)\n",
    "\n",
    "# Affichage de h1\n",
    "print(h1, 'cm')"
   ]
  },
  {
   "cell_type": "markdown",
   "metadata": {},
   "source": [
    "### Exercice\n",
    "Appiquer la formule de Taylor au voisinage de $t_1$ pour calculer la valeur $h_2$ au temps $t=20$ s."
   ]
  },
  {
   "cell_type": "markdown",
   "metadata": {},
   "source": [
    "D'après la formule de Taylor, on peut écrire au voisinage de t1 :\n",
    "$$ h(t) \\approx h_1 + (t-t_1) \\times \\frac{\\text{d}h}{\\text{d}t} (t_1)$$"
   ]
  },
  {
   "cell_type": "code",
   "execution_count": null,
   "metadata": {},
   "outputs": [],
   "source": [
    "t2 = 20 # s\n",
    "\n",
    "# Application de la formule de Taylor\n",
    "h2 = h1 + (t2 - t1) * derivee_h(h1, t1)\n",
    "\n",
    "# Affichage de h1\n",
    "print(h2, 'cm')"
   ]
  },
  {
   "cell_type": "markdown",
   "metadata": {},
   "source": [
    "## La méthode d'Euler\n",
    "On comprends alors qu'il est possible de calculer les valeurs de la fonction de proche en proche. Pour cela nous allons bien sûr utiliser une boucle `for`. C'est la méthode d'Euler.\n",
    "\n",
    "Pour les valeurs successives du temps $t$, nous allons utiliser un pas constant :"
   ]
  },
  {
   "cell_type": "code",
   "execution_count": null,
   "metadata": {},
   "outputs": [],
   "source": [
    "import numpy as np\n",
    "\n",
    "# Paramètres\n",
    "start = 0    # s\n",
    "end = 300.0  # s\n",
    "step = 10    # s\n",
    "\n",
    "# Création du tableau temps\n",
    "interval = end - start                     # Intervalle\n",
    "num_points = int(interval / step) + 1      # Nombre d'éléments\n",
    "t = np.linspace(start, end, num_points)    # Tableau temps t"
   ]
  },
  {
   "cell_type": "markdown",
   "metadata": {},
   "source": [
    "Nous appliquons alors la formule de Taylor à chaque itération :"
   ]
  },
  {
   "cell_type": "code",
   "execution_count": null,
   "metadata": {},
   "outputs": [],
   "source": [
    "# Initialisation du tableau h\n",
    "h = np.empty(t.shape)\n",
    "\n",
    "# Condition initiale\n",
    "h[0] = h0 \n",
    "\n",
    "# Boucle for\n",
    "for i in range(num_points - 1):\n",
    "    h[i + 1] = h[i] + step * derivee_h(h[i], t[i])"
   ]
  },
  {
   "cell_type": "markdown",
   "metadata": {},
   "source": [
    "<div class=\"alert alert-info\">\n",
    "\n",
    "**Combien de pas ?**\n",
    "\n",
    "On remarque que le nombre de pas pour aller de $0\\mathrm{~s}$ à $300\\mathrm{~s}$ avec un pas de $10\\mathrm{~s}$ est égal à $30$, alors que le nombre d'éléments des tableaux `h` et `t` est $31$.\n",
    "</div>"
   ]
  },
  {
   "cell_type": "markdown",
   "metadata": {},
   "source": [
    "Réprésentons graphiquement la fonction $h(t)$ obtenue numériquement, et la solution analytique :\n",
    "\n",
    "$$ h(t) = h_0 \\exp{\\left(-\\frac{t}{\\tau}\\right)} $$"
   ]
  },
  {
   "cell_type": "code",
   "execution_count": null,
   "metadata": {},
   "outputs": [],
   "source": [
    "import matplotlib.pyplot as plt\n",
    "\n",
    "# Solution analytique\n",
    "t_analytique = np.linspace(start, end)\n",
    "h_analytique = h0 * np.exp(-t_analytique / tau)\n",
    "\n",
    "# Représentation graphique\n",
    "plt.plot(t_analytique, h_analytique, label = 'Solution analytique')\n",
    "plt.plot(t, h, '+', label = 'Solution numérique')\n",
    "plt.xlabel('Temps [s]')\n",
    "plt.ylabel('Hauteur [cm]')\n",
    "plt.grid()\n",
    "plt.legend()\n",
    "plt.show()"
   ]
  },
  {
   "cell_type": "markdown",
   "metadata": {},
   "source": [
    "## Erreur d'intégration\n",
    "Afin d'étudier l'erreur entre la solution numérique et la solution analytique, créons une fonction qui applique la méthode d'Euler pour des valeurs du pas différentes :"
   ]
  },
  {
   "cell_type": "code",
   "execution_count": null,
   "metadata": {},
   "outputs": [],
   "source": [
    "def Euler(step):\n",
    "    '''\n",
    "        Application de la méthode d'Euler pour un pas `step` donné\n",
    "    '''\n",
    "    # Paramètres\n",
    "    start = 0    # s\n",
    "    end = 300.0  # s\n",
    "\n",
    "    # Création du tableau temps\n",
    "    interval = end - start                     # Intervalle\n",
    "    num_points = int(interval / step) + 1      # Nombre d'éléments\n",
    "    t = np.linspace(start, end, num_points)    # Tableau temps t\n",
    "\n",
    "    # Initialisation du tableau h\n",
    "    h = np.empty(num_points)\n",
    "\n",
    "    # Condition initiale\n",
    "    h[0] = h0 \n",
    "\n",
    "    # Boucle for\n",
    "    for i in range(num_points - 1):\n",
    "        h[i + 1] = h[i] + step * derivee_h(h[i], t[i])\n",
    "\n",
    "    # Argument de sortie\n",
    "    return t, h"
   ]
  },
  {
   "cell_type": "markdown",
   "metadata": {},
   "source": [
    "et une fonction qui calcule la solution analytique pour un temps $t$ :"
   ]
  },
  {
   "cell_type": "code",
   "execution_count": null,
   "metadata": {},
   "outputs": [],
   "source": [
    "# Fonction python qui représente la solution analytique\n",
    "def h_analytique(t):\n",
    "    '''\n",
    "        Solution analytique pour la hauteur de la mousse\n",
    "    '''\n",
    "    return h0 * np.exp(-t / tau)"
   ]
  },
  {
   "cell_type": "markdown",
   "metadata": {},
   "source": [
    "Maintenant, calculons l'erreur relative entre les solutions analytique et numérique pour des valeurs du pas comprises entre $10^{-3}\\mathrm{~s}$ et $10\\mathrm{~s}$. "
   ]
  },
  {
   "cell_type": "code",
   "execution_count": null,
   "metadata": {},
   "outputs": [],
   "source": [
    "# Répartition logarithmique des valeurs de step\n",
    "step = np.logspace(-3, 1, 5) # s\n",
    "\n",
    "# Boucle sur step\n",
    "for i in range(step.size):\n",
    "    t_numerique, h_numerique = Euler(step[i])\n",
    "    erreur = np.abs((h_numerique - h_analytique(t_numerique)) / h_analytique(t_numerique))\n",
    "    plt.loglog(t_numerique, erreur, label = \"pas = {:5.0e} s\".format(step[i]))\n",
    "plt.xlabel('Temps [s]')\n",
    "plt.ylabel('Erreur relative')\n",
    "plt.grid()\n",
    "plt.legend()\n",
    "plt.show()"
   ]
  },
  {
   "cell_type": "markdown",
   "metadata": {},
   "source": [
    "On voit que l'augmentation de l'erreur avec le temps ne dépend pas du pas, elle est proportionnelle à $t$. Pour un temps $t$ donné, on voit que l'erreur est proportionnelle au pas."
   ]
  },
  {
   "cell_type": "markdown",
   "metadata": {},
   "source": [
    "## Particule chargée\n",
    "Considérons une particule chargée dans un champ magnétique uniforme constant $B$. On considère le système régissant les composantes $v_x(t)$ et $v_y(t)$, dans le plan orthogonal au champ magnétique supposé dirigé suivant $z$, de la vitesse d'une particule de charge $q$ et de masse $m$ :\n",
    "\n",
    "\\begin{eqnarray} \n",
    "    \\dfrac{\\text{d} v_x}{\\text{d}t} &=&  \\omega v_y \\\\[1em]\n",
    "    \\dfrac{\\text{d} v_y}{\\text{d}t} &=& -\\omega v_x\n",
    "\\end{eqnarray}\n",
    "\n",
    "où $\\omega = qB/m$ est la pulsation gyromagnétique. On prendra $\\omega = 1\\mathrm{~s^{-1}}$."
   ]
  },
  {
   "cell_type": "code",
   "execution_count": null,
   "metadata": {},
   "outputs": [],
   "source": [
    "# Paramètre\n",
    "omega = 1 # s^-1"
   ]
  },
  {
   "cell_type": "markdown",
   "metadata": {},
   "source": [
    "Nous avons ici un système d'EDO couplées, qui peut être résolu de la même façon que l'EDO simple précédente. Il suffit d'appliquer la formule de Taylor aux deux équations. Prenons les temps\n",
    "\n",
    "$$t_i=t_0+i\\Delta t \\ ,\\ i = 0,1,2, \\dots, N$$\n",
    "\n",
    "où $\\Delta t$ est le pas, et $N$ le nombre de pas. Alors :\n",
    "\n",
    "\\begin{eqnarray} \n",
    "    v_x (t_{i+1}) &\\approx& v_x (t_i) + \\Delta t \\dfrac{\\text{d} v_x}{\\text{d}t} (t_i) \\\\[1em]\n",
    "    v_y (t_{i+1}) &\\approx& v_y (t_i) + \\Delta t \\dfrac{\\text{d} v_y}{\\text{d}t} (t_i)\n",
    "\\end{eqnarray}\n",
    "\n",
    "En définissant le vecteur $\\vec{v} = (v_x,v_y)$, on peut écrire la formule de Taylor vectorielle :\n",
    "\n",
    "$$ \\vec{v} (t_{i+1}) \\approx \\vec{v} (t_i) + \\Delta t \\dfrac{\\text{d} \\vec{v}}{\\text{d}t} (t_i) $$\n",
    "\n",
    "On définit alors la fonction python :"
   ]
  },
  {
   "cell_type": "code",
   "execution_count": null,
   "metadata": {},
   "outputs": [],
   "source": [
    "# EDO\n",
    "def derivee_v(v, t):\n",
    "    '''\n",
    "        Soit v = (v0, v1)\n",
    "        Loi vectorielle sur la vitesse : d(v0, v1)/dt = omega * (v1, -v0)\n",
    "    '''\n",
    "    # Initialisation de la dérivée\n",
    "    dv = np.empty(v.shape)\n",
    "    \n",
    "    # Dérivée de la vitesse\n",
    "    dv[0] = omega * v[1]\n",
    "    dv[1] = -omega * v[0]\n",
    "\n",
    "    return dv"
   ]
  },
  {
   "cell_type": "markdown",
   "metadata": {},
   "source": [
    "On définit alors la fonction qui applique la méthode d'Euler suivante :"
   ]
  },
  {
   "cell_type": "code",
   "execution_count": null,
   "metadata": {},
   "outputs": [],
   "source": [
    "def Euler(start, end, step, v_ini, derivee):\n",
    "    '''\n",
    "        Application de la méthode d'Euler\n",
    "    '''\n",
    "    # Création du tableau temps\n",
    "    interval = end - start                     # Intervalle\n",
    "    num_points = int(interval / step) + 1      # Nombre d'éléments\n",
    "    t = np.linspace(start, end, num_points)    # Tableau temps t\n",
    "\n",
    "    # Initialisation du tableau v\n",
    "    v = np.empty((2, num_points))\n",
    "\n",
    "    # Condition initiale\n",
    "    v[:, 0] = v_ini \n",
    "\n",
    "    # Boucle for\n",
    "    for i in range(num_points - 1):\n",
    "        v[:, i + 1] = v[:, i] + step * derivee(v[:, i], t[i])\n",
    "\n",
    "    # Argument de sortie\n",
    "    return t, v"
   ]
  },
  {
   "cell_type": "markdown",
   "metadata": {},
   "source": [
    "On voit que maintenant on utilise un tableau de dimensions `(2, num_points)` pour représenter le vecteur $\\vec{v}(t)$, et donc il faut adapter le calcul de la formule de Taylor en conséquence. On peut aussi facilement adapter cette fonction pour un nombre de dimensions plus grand que 2.\n",
    "\n",
    "Résolvons maintenant cette EDO couplée pour des conditions initiales $\\vec{v} = (0.1,0.0)\\mathrm{~m\\cdot s^{-1}}$, entre $0$ et $10\\mathrm{~s}$, et un pas de $0.001\\mathrm{~s}$ :"
   ]
  },
  {
   "cell_type": "code",
   "execution_count": null,
   "metadata": {},
   "outputs": [],
   "source": [
    "# Conditions initiales\n",
    "v_ini = np.array([1.1, 0.0]) # m.s^-1\n",
    "\n",
    "# Méthode d'Euler\n",
    "t, v = Euler(0, 10, 0.001, v_ini, derivee_v)\n",
    "\n",
    "# Représentation de la solution dans le plan (v_x, v_y)\n",
    "plt.plot(v[0], v[1])\n",
    "plt.xlabel('$v_x$ [m/s]')\n",
    "plt.ylabel('$v_y$ [m/s]')\n",
    "plt.axis(\"equal\") # Pour avoir des axes isométriques\n",
    "plt.grid()"
   ]
  },
  {
   "cell_type": "markdown",
   "metadata": {},
   "source": [
    "## Le pendule simple\n",
    "On considère un pendule constitué par une particule de masse $m$ fixée à l'extrémité d'une tige rigide de masse négligeable et de longueur $L$ reliée à un support fixe.\n",
    "\n",
    "Au temps $t$, la force qui s'exerce sur la particule perpendiculairement à la tige est donnée par $F(t) = m g \\sin \\theta$, où $\\theta$ est l'angle entre la tige et la verticale. En posant $k = \\sqrt{g / L}$, l'équation du mouvement de la particule est :\n",
    "\n",
    "$$\n",
    "\\dfrac{\\text{d}^2 \\theta}{\\text{d}t^2} (t) = -  k^2 \\sin \\theta (t) \n",
    "$$\n",
    "\n",
    "Dans la limite des petites oscillations $|\\theta(t)| \\ll 1$, on a $\\sin \\theta\\approx\\theta$. L'équation d'évolution devient :\n",
    "\n",
    "$$\n",
    "\\dfrac{\\text{d}^2 \\theta}{\\text{d}t^2} (t) = -  k^2 \\theta (t) \n",
    "$$\n",
    "\n",
    "C'est une EDO d'ordre 2. Or, il est toujours possible, avec un changement de variable approprié, de ramener une EDO d'ordre $N$ à un système de $N$ EDO couplées d'ordre 1. Nous allons l'illustrer avec cet exemple.\n",
    "\n",
    "Posons :\n",
    "\n",
    "\\begin{eqnarray}\n",
    "    u_0 &=& \\theta \\\\\n",
    "    u_1 &=& \\dfrac{\\text{d} \\theta}{\\text{d}t}\n",
    "\\end{eqnarray}\n",
    "\n",
    "En appliquant ce changement de variables, l'équation d'évolution peut se réécrire de façon complètement équivalente :\n",
    "\n",
    "\\begin{eqnarray}\n",
    "    \\frac{\\text{d}u_0}{\\text{d}t}&=& u_1 \\\\[1em]\n",
    "    \\frac{\\text{d}u_1}{\\text{d}t} &=& -k^2 u_0\n",
    "\\end{eqnarray}\n",
    "\n",
    "Ce système de 2 EDO couplées peut être résolu de la même façon que le problème précédent de la particule chargée. Il faut juste écrire la fonction dérivée correspondante :"
   ]
  },
  {
   "cell_type": "code",
   "execution_count": null,
   "metadata": {},
   "outputs": [],
   "source": [
    "# Paramètre\n",
    "L = 1 # Longueur (m)\n",
    "g = 9.81 # Pesanteur (m.s^-2)\n",
    "kp = np.sqrt(g / L)  # Pulsation (notée k dans l'énoncé)\n",
    "Tp = 2 * np.pi / kp # Période (s)\n",
    "\n",
    "# EDO\n",
    "def derivee_u (u, t):\n",
    "    '''\n",
    "        Soit u = (u0, u1)\n",
    "        Équation d'évolution du pendule : d(u0, u1)/dt = (u1, -k ** 2 * u0)\n",
    "    '''\n",
    "    # Initialisation de la dérivée\n",
    "    du = np.empty(u.shape)\n",
    "    \n",
    "    # Dérivée de la vitesse\n",
    "    du[0] = u[1]\n",
    "    du[1] = -kp ** 2 * u[0]\n",
    "\n",
    "    return du\n",
    "\n",
    "# Conditions initiales\n",
    "u_ini = np.array([np.pi / 10, 0.0])\n",
    "\n",
    "# Méthode d'Euler\n",
    "t, u = Euler(0, 3. * Tp, 0.001, u_ini, derivee_u)\n",
    "\n",
    "# Représentation de la solution numérique\n",
    "plt.subplot(2, 1, 1)\n",
    "plt.plot(t, u[0, :])\n",
    "plt.ylabel('Angle [rad]')\n",
    "plt.grid()\n",
    "\n",
    "plt.subplot(2, 1, 2)\n",
    "plt.plot(t, u[1, :])\n",
    "plt.ylabel('Vitesse angulaire [rad/s]')\n",
    "plt.xlabel('Temps [s]')\n",
    "plt.grid()"
   ]
  },
  {
   "cell_type": "markdown",
   "metadata": {},
   "source": [
    "On note que dans l'approximation des petits angles, la quantité \n",
    "\n",
    "\\begin{equation}\n",
    "    C \\approx \\frac{ \\dot{{\\theta} }^2}{2} + k^2\\frac{ \\theta^2 }{2} \n",
    "\\end{equation}\n",
    "\n",
    "est proportionelle à l'énergie, qui doit être conservée. La conservation de cette quantité peut être un premier critère de la qualité de l'algorithme de résolution numérique.\n",
    "\n",
    "Représentons cette quantité pour plusieurs valeurs du pas :"
   ]
  },
  {
   "cell_type": "code",
   "execution_count": null,
   "metadata": {},
   "outputs": [],
   "source": [
    "# Choix du tableau pour step = logarithmique\n",
    "step = np.logspace(-3, 0, 4) # s\n",
    "\n",
    "# Boucle sur step\n",
    "for i in range(step.size):\n",
    "    t, u = Euler(0, 3. * Tp, step[i], u_ini, derivee_u)\n",
    "    C = u[1, :] ** 2 / 2 + kp ** 2 * u[0, :] ** 2 / 2\n",
    "    plt.semilogy(t, C, label = \"pas = {:5.0e} s\".format(step[i]))\n",
    "plt.xlabel('Temps [s]')\n",
    "plt.ylabel('C')\n",
    "plt.grid()\n",
    "plt.legend()\n",
    "plt.show()"
   ]
  },
  {
   "cell_type": "markdown",
   "metadata": {},
   "source": [
    "On voit que plus le pas est petit et mieux l'énergie du système est conservée. De plus on voit que la non-conservation de l'énergie avec le temps augmente de façon exponentielle."
   ]
  }
 ],
 "metadata": {
  "kernelspec": {
   "display_name": "Python 3",
   "language": "python",
   "name": "python3"
  },
  "language_info": {
   "codemirror_mode": {
    "name": "ipython",
    "version": 3
   },
   "file_extension": ".py",
   "mimetype": "text/x-python",
   "name": "python",
   "nbconvert_exporter": "python",
   "pygments_lexer": "ipython3",
   "version": "3.8.3"
  }
 },
 "nbformat": 4,
 "nbformat_minor": 2
}
